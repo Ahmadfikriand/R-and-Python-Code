{
  "cells": [
    {
      "cell_type": "markdown",
      "metadata": {
        "id": "view-in-github",
        "colab_type": "text"
      },
      "source": [
        "<a href=\"https://colab.research.google.com/github/Ahmadfikriand/R-and-Python-Code/blob/master/Gaussian_Mixtures.ipynb\" target=\"_parent\"><img src=\"https://colab.research.google.com/assets/colab-badge.svg\" alt=\"Open In Colab\"/></a>"
      ]
    },
    {
      "cell_type": "code",
      "source": [
        "import numpy as np\n",
        "import pandas as pd\n",
        "import matplotlib.pyplot as plt\n",
        "from sklearn.mixture import GaussianMixture"
      ],
      "metadata": {
        "id": "B9wMtRf0-5I0"
      },
      "execution_count": 1,
      "outputs": []
    },
    {
      "cell_type": "code",
      "source": [
        "df = pd.read_excel('clustering_dataset.xlsx')\n",
        "df"
      ],
      "metadata": {
        "colab": {
          "base_uri": "https://localhost:8080/",
          "height": 363
        },
        "id": "zTcts7nSQUmw",
        "outputId": "372fc6ed-e628-402e-8a65-44cec32656a4"
      },
      "execution_count": 2,
      "outputs": [
        {
          "output_type": "execute_result",
          "data": {
            "text/plain": [
              "   Pembeli    x1  x2\n",
              "0        1    80   4\n",
              "1        2   150   6\n",
              "2        3    50   2\n",
              "3        4   200   8\n",
              "4        5   120   5\n",
              "5        6    75   3\n",
              "6        7   110   5\n",
              "7        8    90   4\n",
              "8        9   160   7\n",
              "9       10    40   1"
            ],
            "text/html": [
              "\n",
              "\n",
              "  <div id=\"df-cf8fe53e-ca4a-4b6e-b416-321b7639ddc4\">\n",
              "    <div class=\"colab-df-container\">\n",
              "      <div>\n",
              "<style scoped>\n",
              "    .dataframe tbody tr th:only-of-type {\n",
              "        vertical-align: middle;\n",
              "    }\n",
              "\n",
              "    .dataframe tbody tr th {\n",
              "        vertical-align: top;\n",
              "    }\n",
              "\n",
              "    .dataframe thead th {\n",
              "        text-align: right;\n",
              "    }\n",
              "</style>\n",
              "<table border=\"1\" class=\"dataframe\">\n",
              "  <thead>\n",
              "    <tr style=\"text-align: right;\">\n",
              "      <th></th>\n",
              "      <th>Pembeli</th>\n",
              "      <th>x1</th>\n",
              "      <th>x2</th>\n",
              "    </tr>\n",
              "  </thead>\n",
              "  <tbody>\n",
              "    <tr>\n",
              "      <th>0</th>\n",
              "      <td>1</td>\n",
              "      <td>80</td>\n",
              "      <td>4</td>\n",
              "    </tr>\n",
              "    <tr>\n",
              "      <th>1</th>\n",
              "      <td>2</td>\n",
              "      <td>150</td>\n",
              "      <td>6</td>\n",
              "    </tr>\n",
              "    <tr>\n",
              "      <th>2</th>\n",
              "      <td>3</td>\n",
              "      <td>50</td>\n",
              "      <td>2</td>\n",
              "    </tr>\n",
              "    <tr>\n",
              "      <th>3</th>\n",
              "      <td>4</td>\n",
              "      <td>200</td>\n",
              "      <td>8</td>\n",
              "    </tr>\n",
              "    <tr>\n",
              "      <th>4</th>\n",
              "      <td>5</td>\n",
              "      <td>120</td>\n",
              "      <td>5</td>\n",
              "    </tr>\n",
              "    <tr>\n",
              "      <th>5</th>\n",
              "      <td>6</td>\n",
              "      <td>75</td>\n",
              "      <td>3</td>\n",
              "    </tr>\n",
              "    <tr>\n",
              "      <th>6</th>\n",
              "      <td>7</td>\n",
              "      <td>110</td>\n",
              "      <td>5</td>\n",
              "    </tr>\n",
              "    <tr>\n",
              "      <th>7</th>\n",
              "      <td>8</td>\n",
              "      <td>90</td>\n",
              "      <td>4</td>\n",
              "    </tr>\n",
              "    <tr>\n",
              "      <th>8</th>\n",
              "      <td>9</td>\n",
              "      <td>160</td>\n",
              "      <td>7</td>\n",
              "    </tr>\n",
              "    <tr>\n",
              "      <th>9</th>\n",
              "      <td>10</td>\n",
              "      <td>40</td>\n",
              "      <td>1</td>\n",
              "    </tr>\n",
              "  </tbody>\n",
              "</table>\n",
              "</div>\n",
              "      <button class=\"colab-df-convert\" onclick=\"convertToInteractive('df-cf8fe53e-ca4a-4b6e-b416-321b7639ddc4')\"\n",
              "              title=\"Convert this dataframe to an interactive table.\"\n",
              "              style=\"display:none;\">\n",
              "\n",
              "  <svg xmlns=\"http://www.w3.org/2000/svg\" height=\"24px\"viewBox=\"0 0 24 24\"\n",
              "       width=\"24px\">\n",
              "    <path d=\"M0 0h24v24H0V0z\" fill=\"none\"/>\n",
              "    <path d=\"M18.56 5.44l.94 2.06.94-2.06 2.06-.94-2.06-.94-.94-2.06-.94 2.06-2.06.94zm-11 1L8.5 8.5l.94-2.06 2.06-.94-2.06-.94L8.5 2.5l-.94 2.06-2.06.94zm10 10l.94 2.06.94-2.06 2.06-.94-2.06-.94-.94-2.06-.94 2.06-2.06.94z\"/><path d=\"M17.41 7.96l-1.37-1.37c-.4-.4-.92-.59-1.43-.59-.52 0-1.04.2-1.43.59L10.3 9.45l-7.72 7.72c-.78.78-.78 2.05 0 2.83L4 21.41c.39.39.9.59 1.41.59.51 0 1.02-.2 1.41-.59l7.78-7.78 2.81-2.81c.8-.78.8-2.07 0-2.86zM5.41 20L4 18.59l7.72-7.72 1.47 1.35L5.41 20z\"/>\n",
              "  </svg>\n",
              "      </button>\n",
              "\n",
              "\n",
              "\n",
              "    <div id=\"df-4cf81ad6-f00a-4bce-bee6-6128f49279f3\">\n",
              "      <button class=\"colab-df-quickchart\" onclick=\"quickchart('df-4cf81ad6-f00a-4bce-bee6-6128f49279f3')\"\n",
              "              title=\"Suggest charts.\"\n",
              "              style=\"display:none;\">\n",
              "\n",
              "<svg xmlns=\"http://www.w3.org/2000/svg\" height=\"24px\"viewBox=\"0 0 24 24\"\n",
              "     width=\"24px\">\n",
              "    <g>\n",
              "        <path d=\"M19 3H5c-1.1 0-2 .9-2 2v14c0 1.1.9 2 2 2h14c1.1 0 2-.9 2-2V5c0-1.1-.9-2-2-2zM9 17H7v-7h2v7zm4 0h-2V7h2v10zm4 0h-2v-4h2v4z\"/>\n",
              "    </g>\n",
              "</svg>\n",
              "      </button>\n",
              "    </div>\n",
              "\n",
              "<style>\n",
              "  .colab-df-quickchart {\n",
              "    background-color: #E8F0FE;\n",
              "    border: none;\n",
              "    border-radius: 50%;\n",
              "    cursor: pointer;\n",
              "    display: none;\n",
              "    fill: #1967D2;\n",
              "    height: 32px;\n",
              "    padding: 0 0 0 0;\n",
              "    width: 32px;\n",
              "  }\n",
              "\n",
              "  .colab-df-quickchart:hover {\n",
              "    background-color: #E2EBFA;\n",
              "    box-shadow: 0px 1px 2px rgba(60, 64, 67, 0.3), 0px 1px 3px 1px rgba(60, 64, 67, 0.15);\n",
              "    fill: #174EA6;\n",
              "  }\n",
              "\n",
              "  [theme=dark] .colab-df-quickchart {\n",
              "    background-color: #3B4455;\n",
              "    fill: #D2E3FC;\n",
              "  }\n",
              "\n",
              "  [theme=dark] .colab-df-quickchart:hover {\n",
              "    background-color: #434B5C;\n",
              "    box-shadow: 0px 1px 3px 1px rgba(0, 0, 0, 0.15);\n",
              "    filter: drop-shadow(0px 1px 2px rgba(0, 0, 0, 0.3));\n",
              "    fill: #FFFFFF;\n",
              "  }\n",
              "</style>\n",
              "\n",
              "    <script>\n",
              "      async function quickchart(key) {\n",
              "        const containerElement = document.querySelector('#' + key);\n",
              "        const charts = await google.colab.kernel.invokeFunction(\n",
              "            'suggestCharts', [key], {});\n",
              "      }\n",
              "    </script>\n",
              "\n",
              "      <script>\n",
              "\n",
              "function displayQuickchartButton(domScope) {\n",
              "  let quickchartButtonEl =\n",
              "    domScope.querySelector('#df-4cf81ad6-f00a-4bce-bee6-6128f49279f3 button.colab-df-quickchart');\n",
              "  quickchartButtonEl.style.display =\n",
              "    google.colab.kernel.accessAllowed ? 'block' : 'none';\n",
              "}\n",
              "\n",
              "        displayQuickchartButton(document);\n",
              "      </script>\n",
              "      <style>\n",
              "    .colab-df-container {\n",
              "      display:flex;\n",
              "      flex-wrap:wrap;\n",
              "      gap: 12px;\n",
              "    }\n",
              "\n",
              "    .colab-df-convert {\n",
              "      background-color: #E8F0FE;\n",
              "      border: none;\n",
              "      border-radius: 50%;\n",
              "      cursor: pointer;\n",
              "      display: none;\n",
              "      fill: #1967D2;\n",
              "      height: 32px;\n",
              "      padding: 0 0 0 0;\n",
              "      width: 32px;\n",
              "    }\n",
              "\n",
              "    .colab-df-convert:hover {\n",
              "      background-color: #E2EBFA;\n",
              "      box-shadow: 0px 1px 2px rgba(60, 64, 67, 0.3), 0px 1px 3px 1px rgba(60, 64, 67, 0.15);\n",
              "      fill: #174EA6;\n",
              "    }\n",
              "\n",
              "    [theme=dark] .colab-df-convert {\n",
              "      background-color: #3B4455;\n",
              "      fill: #D2E3FC;\n",
              "    }\n",
              "\n",
              "    [theme=dark] .colab-df-convert:hover {\n",
              "      background-color: #434B5C;\n",
              "      box-shadow: 0px 1px 3px 1px rgba(0, 0, 0, 0.15);\n",
              "      filter: drop-shadow(0px 1px 2px rgba(0, 0, 0, 0.3));\n",
              "      fill: #FFFFFF;\n",
              "    }\n",
              "  </style>\n",
              "\n",
              "      <script>\n",
              "        const buttonEl =\n",
              "          document.querySelector('#df-cf8fe53e-ca4a-4b6e-b416-321b7639ddc4 button.colab-df-convert');\n",
              "        buttonEl.style.display =\n",
              "          google.colab.kernel.accessAllowed ? 'block' : 'none';\n",
              "\n",
              "        async function convertToInteractive(key) {\n",
              "          const element = document.querySelector('#df-cf8fe53e-ca4a-4b6e-b416-321b7639ddc4');\n",
              "          const dataTable =\n",
              "            await google.colab.kernel.invokeFunction('convertToInteractive',\n",
              "                                                     [key], {});\n",
              "          if (!dataTable) return;\n",
              "\n",
              "          const docLinkHtml = 'Like what you see? Visit the ' +\n",
              "            '<a target=\"_blank\" href=https://colab.research.google.com/notebooks/data_table.ipynb>data table notebook</a>'\n",
              "            + ' to learn more about interactive tables.';\n",
              "          element.innerHTML = '';\n",
              "          dataTable['output_type'] = 'display_data';\n",
              "          await google.colab.output.renderOutput(dataTable, element);\n",
              "          const docLink = document.createElement('div');\n",
              "          docLink.innerHTML = docLinkHtml;\n",
              "          element.appendChild(docLink);\n",
              "        }\n",
              "      </script>\n",
              "    </div>\n",
              "  </div>\n"
            ]
          },
          "metadata": {},
          "execution_count": 2
        }
      ]
    },
    {
      "cell_type": "code",
      "source": [
        "df.shape"
      ],
      "metadata": {
        "colab": {
          "base_uri": "https://localhost:8080/"
        },
        "id": "NyD4RJsRQj3N",
        "outputId": "b4f7c65f-982a-4f6b-f570-79ee5f719e9c"
      },
      "execution_count": 3,
      "outputs": [
        {
          "output_type": "execute_result",
          "data": {
            "text/plain": [
              "(10, 3)"
            ]
          },
          "metadata": {},
          "execution_count": 3
        }
      ]
    },
    {
      "cell_type": "code",
      "source": [
        "plt.scatter(df['x1'], df['x2'])\n",
        "plt.show()"
      ],
      "metadata": {
        "colab": {
          "base_uri": "https://localhost:8080/",
          "height": 430
        },
        "id": "wPer7z_aQlXW",
        "outputId": "112c2f26-a09e-4acd-db6f-c03ab783c43f"
      },
      "execution_count": 4,
      "outputs": [
        {
          "output_type": "display_data",
          "data": {
            "text/plain": [
              "<Figure size 640x480 with 1 Axes>"
            ],
            "image/png": "[encoded data removed]"
          },
          "metadata": {}
        }
      ]
    },
    {
      "cell_type": "markdown",
      "source": [
        "**Lakukan clustering data tersebut dalam 2 cluster menggunakan Gaussian Mixture Models (GMM)**"
      ],
      "metadata": {
        "id": "P-fitDrf_ePz"
      }
    },
    {
      "cell_type": "code",
      "source": [
        "# Algoritma Gaussian Mixture Models (GMM)\n",
        "k = 2\n",
        "gmm = GaussianMixture(n_components=k, random_state=42)\n",
        "gmm.fit(df)"
      ],
      "metadata": {
        "colab": {
          "base_uri": "https://localhost:8080/",
          "height": 74
        },
        "id": "BSTITjYl_Bhi",
        "outputId": "29163380-e615-4367-f745-99c7d73cbb2a"
      },
      "execution_count": 5,
      "outputs": [
        {
          "output_type": "execute_result",
          "data": {
            "text/plain": [
              "GaussianMixture(n_components=2, random_state=42)"
            ],
            "text/html": [
              "<style>#sk-container-id-1 {color: black;background-color: white;}#sk-container-id-1 pre{padding: 0;}#sk-container-id-1 div.sk-toggleable {background-color: white;}#sk-container-id-1 label.sk-toggleable__label {cursor: pointer;display: block;width: 100%;margin-bottom: 0;padding: 0.3em;box-sizing: border-box;text-align: center;}#sk-container-id-1 label.sk-toggleable__label-arrow:before {content: \"▸\";float: left;margin-right: 0.25em;color: #696969;}#sk-container-id-1 label.sk-toggleable__label-arrow:hover:before {color: black;}#sk-container-id-1 div.sk-estimator:hover label.sk-toggleable__label-arrow:before {color: black;}#sk-container-id-1 div.sk-toggleable__content {max-height: 0;max-width: 0;overflow: hidden;text-align: left;background-color: #f0f8ff;}#sk-container-id-1 div.sk-toggleable__content pre {margin: 0.2em;color: black;border-radius: 0.25em;background-color: #f0f8ff;}#sk-container-id-1 input.sk-toggleable__control:checked~div.sk-toggleable__content {max-height: 200px;max-width: 100%;overflow: auto;}#sk-container-id-1 input.sk-toggleable__control:checked~label.sk-toggleable__label-arrow:before {content: \"▾\";}#sk-container-id-1 div.sk-estimator input.sk-toggleable__control:checked~label.sk-toggleable__label {background-color: #d4ebff;}#sk-container-id-1 div.sk-label input.sk-toggleable__control:checked~label.sk-toggleable__label {background-color: #d4ebff;}#sk-container-id-1 input.sk-hidden--visually {border: 0;clip: rect(1px 1px 1px 1px);clip: rect(1px, 1px, 1px, 1px);height: 1px;margin: -1px;overflow: hidden;padding: 0;position: absolute;width: 1px;}#sk-container-id-1 div.sk-estimator {font-family: monospace;background-color: #f0f8ff;border: 1px dotted black;border-radius: 0.25em;box-sizing: border-box;margin-bottom: 0.5em;}#sk-container-id-1 div.sk-estimator:hover {background-color: #d4ebff;}#sk-container-id-1 div.sk-parallel-item::after {content: \"\";width: 100%;border-bottom: 1px solid gray;flex-grow: 1;}#sk-container-id-1 div.sk-label:hover label.sk-toggleable__label {background-color: #d4ebff;}#sk-container-id-1 div.sk-serial::before {content: \"\";position: absolute;border-left: 1px solid gray;box-sizing: border-box;top: 0;bottom: 0;left: 50%;z-index: 0;}#sk-container-id-1 div.sk-serial {display: flex;flex-direction: column;align-items: center;background-color: white;padding-right: 0.2em;padding-left: 0.2em;position: relative;}#sk-container-id-1 div.sk-item {position: relative;z-index: 1;}#sk-container-id-1 div.sk-parallel {display: flex;align-items: stretch;justify-content: center;background-color: white;position: relative;}#sk-container-id-1 div.sk-item::before, #sk-container-id-1 div.sk-parallel-item::before {content: \"\";position: absolute;border-left: 1px solid gray;box-sizing: border-box;top: 0;bottom: 0;left: 50%;z-index: -1;}#sk-container-id-1 div.sk-parallel-item {display: flex;flex-direction: column;z-index: 1;position: relative;background-color: white;}#sk-container-id-1 div.sk-parallel-item:first-child::after {align-self: flex-end;width: 50%;}#sk-container-id-1 div.sk-parallel-item:last-child::after {align-self: flex-start;width: 50%;}#sk-container-id-1 div.sk-parallel-item:only-child::after {width: 0;}#sk-container-id-1 div.sk-dashed-wrapped {border: 1px dashed gray;margin: 0 0.4em 0.5em 0.4em;box-sizing: border-box;padding-bottom: 0.4em;background-color: white;}#sk-container-id-1 div.sk-label label {font-family: monospace;font-weight: bold;display: inline-block;line-height: 1.2em;}#sk-container-id-1 div.sk-label-container {text-align: center;}#sk-container-id-1 div.sk-container {/* jupyter's `normalize.less` sets `[hidden] { display: none; }` but bootstrap.min.css set `[hidden] { display: none !important; }` so we also need the `!important` here to be able to override the default hidden behavior on the sphinx rendered scikit-learn.org. See: https://github.com/scikit-learn/scikit-learn/issues/21755 */display: inline-block !important;position: relative;}#sk-container-id-1 div.sk-text-repr-fallback {display: none;}</style><div id=\"sk-container-id-1\" class=\"sk-top-container\"><div class=\"sk-text-repr-fallback\"><pre>GaussianMixture(n_components=2, random_state=42)</pre><b>In a Jupyter environment, please rerun this cell to show the HTML representation or trust the notebook. <br />On GitHub, the HTML representation is unable to render, please try loading this page with nbviewer.org.</b></div><div class=\"sk-container\" hidden><div class=\"sk-item\"><div class=\"sk-estimator sk-toggleable\"><input class=\"sk-toggleable__control sk-hidden--visually\" id=\"sk-estimator-id-1\" type=\"checkbox\" checked><label for=\"sk-estimator-id-1\" class=\"sk-toggleable__label sk-toggleable__label-arrow\">GaussianMixture</label><div class=\"sk-toggleable__content\"><pre>GaussianMixture(n_components=2, random_state=42)</pre></div></div></div></div></div>"
            ]
          },
          "metadata": {},
          "execution_count": 5
        }
      ]
    },
    {
      "cell_type": "markdown",
      "source": [
        "**a. Mulailah dengan inisialisasi nilai awal untuk tiap parameter GMM, seperti rata-rata (mean), covariance, dan prior probability P(j).**"
      ],
      "metadata": {
        "id": "6hfYu4en_mla"
      }
    },
    {
      "cell_type": "code",
      "source": [
        "# Parameter GMM setelah pelatihan selesai\n",
        "means = gmm.means_\n",
        "covariances = gmm.covariances_\n",
        "weights = gmm.weights_\n",
        "# Probabilitas keanggotaan untuk setiap cluster\n",
        "probs = gmm.predict_proba(df)"
      ],
      "metadata": {
        "id": "s4Mvyamj_xA3"
      },
      "execution_count": 6,
      "outputs": []
    },
    {
      "cell_type": "code",
      "source": [
        "print('Means: ',means)\n",
        "print('Covariances: ',covariances)\n",
        "print('Weights: ',weights)\n",
        "print('Probs: ',probs)"
      ],
      "metadata": {
        "colab": {
          "base_uri": "https://localhost:8080/"
        },
        "id": "M35trHVA_8UT",
        "outputId": "172afa24-5833-49d5-9c61-6bc8828b1ceb"
      },
      "execution_count": 7,
      "outputs": [
        {
          "output_type": "stream",
          "name": "stdout",
          "text": [
            "Means:  [[  5.36829226 148.75311802   6.2237761 ]\n",
            " [  5.62668389  67.82043752   2.84197547]]\n",
            "Covariances:  [[[ 5.90410691e+00 -1.63131864e+01 -4.28287751e-02]\n",
            "  [-1.63131864e+01  1.00698068e+03  3.62011425e+01]\n",
            "  [-4.28287751e-02  3.62011425e+01  1.35791039e+00]]\n",
            "\n",
            " [[ 1.04736794e+01 -1.37837809e+01 -1.59033409e+00]\n",
            "  [-1.37837809e+01  3.83823866e+02  2.27627737e+01]\n",
            "  [-1.59033409e+00  2.27627737e+01  1.42466756e+00]]]\n",
            "Weights:  [0.49027861 0.50972139]\n",
            "Probs:  [[3.15678835e-034 1.00000000e+000]\n",
            " [1.00000000e+000 7.60492663e-050]\n",
            " [2.41350183e-007 9.99999759e-001]\n",
            " [1.00000000e+000 2.11658319e-097]\n",
            " [1.00000000e+000 6.03636724e-012]\n",
            " [2.60221278e-015 1.00000000e+000]\n",
            " [8.95346155e-001 1.04653845e-001]\n",
            " [8.82052333e-005 9.99911795e-001]\n",
            " [1.00000000e+000 3.03492634e-015]\n",
            " [1.23227400e-137 1.00000000e+000]]\n"
          ]
        }
      ]
    },
    {
      "cell_type": "code",
      "source": [
        "# Tentukan cluster untuk setiap data berdasarkan probabilitas tertinggi\n",
        "clusters = np.argmax(probs, axis=1)\n",
        "clusters"
      ],
      "metadata": {
        "colab": {
          "base_uri": "https://localhost:8080/"
        },
        "id": "umnioXE9_tsm",
        "outputId": "9976d8fd-9493-4d5c-bf0c-8e2062f069a4"
      },
      "execution_count": 8,
      "outputs": [
        {
          "output_type": "execute_result",
          "data": {
            "text/plain": [
              "array([1, 0, 1, 0, 0, 1, 0, 1, 0, 1])"
            ]
          },
          "metadata": {},
          "execution_count": 8
        }
      ]
    },
    {
      "cell_type": "markdown",
      "source": [
        "**b. Gunakan algoritma EM untuk menemukan parameter GMM yang optimal. Tuliskan parameter GMM setelah pelatihan selesai.**"
      ],
      "metadata": {
        "id": "ABqGSqF_Aw67"
      }
    },
    {
      "cell_type": "code",
      "source": [
        "# Analisis\n",
        "print(\"Parameter GMM:\")\n",
        "for i in range(k):\n",
        "    print(f\"Cluster {i}:\")\n",
        "    print(\"Mean:\", means[i])\n",
        "    print(\"Covariance:\", covariances[i])\n",
        "    print(\"Weight:\", weights[i])\n",
        "    print()"
      ],
      "metadata": {
        "colab": {
          "base_uri": "https://localhost:8080/"
        },
        "id": "QHg2ej25Ar4w",
        "outputId": "97834fb6-66cf-4075-a299-a184b47aac7b"
      },
      "execution_count": 9,
      "outputs": [
        {
          "output_type": "stream",
          "name": "stdout",
          "text": [
            "Parameter GMM:\n",
            "Cluster 0:\n",
            "Mean: [  5.36829226 148.75311802   6.2237761 ]\n",
            "Covariance: [[ 5.90410691e+00 -1.63131864e+01 -4.28287751e-02]\n",
            " [-1.63131864e+01  1.00698068e+03  3.62011425e+01]\n",
            " [-4.28287751e-02  3.62011425e+01  1.35791039e+00]]\n",
            "Weight: 0.49027861468054246\n",
            "\n",
            "Cluster 1:\n",
            "Mean: [ 5.62668389 67.82043752  2.84197547]\n",
            "Covariance: [[ 10.47367944 -13.7837809   -1.59033409]\n",
            " [-13.7837809  383.82386642  22.76277373]\n",
            " [ -1.59033409  22.76277373   1.42466756]]\n",
            "Weight: 0.5097213853194575\n",
            "\n"
          ]
        }
      ]
    },
    {
      "cell_type": "markdown",
      "source": [
        "**c. Tentukan probabilitas keanggotaan untuk setiap cluster.**"
      ],
      "metadata": {
        "id": "Y-6wgCzIBSow"
      }
    },
    {
      "cell_type": "code",
      "source": [
        "print(\"Cluster untuk setiap data:\")\n",
        "for i, cluster in enumerate(clusters):\n",
        "    print(f\"Pembeli {i+1}: Cluster {cluster}\")"
      ],
      "metadata": {
        "colab": {
          "base_uri": "https://localhost:8080/"
        },
        "id": "j14e1ZTRBHnq",
        "outputId": "efa54308-ef9b-4d86-fdd2-094c480ddf14"
      },
      "execution_count": 10,
      "outputs": [
        {
          "output_type": "stream",
          "name": "stdout",
          "text": [
            "Cluster untuk setiap data:\n",
            "Pembeli 1: Cluster 1\n",
            "Pembeli 2: Cluster 0\n",
            "Pembeli 3: Cluster 1\n",
            "Pembeli 4: Cluster 0\n",
            "Pembeli 5: Cluster 0\n",
            "Pembeli 6: Cluster 1\n",
            "Pembeli 7: Cluster 0\n",
            "Pembeli 8: Cluster 1\n",
            "Pembeli 9: Cluster 0\n",
            "Pembeli 10: Cluster 1\n"
          ]
        }
      ]
    },
    {
      "cell_type": "markdown",
      "source": [
        "**d. Tentukan cluster untuk setiap data berdasarkan probabilitas tertinggi (dengan asumsi probabilitas tertinggi > 0.5).**"
      ],
      "metadata": {
        "id": "voL66FurB1QZ"
      }
    },
    {
      "cell_type": "code",
      "source": [
        "features = ['x1','x2']\n",
        "X = df[features]"
      ],
      "metadata": {
        "id": "p0W6I7OEE8y9"
      },
      "execution_count": 11,
      "outputs": []
    },
    {
      "cell_type": "code",
      "source": [
        "# Membuat dan mengatur GMM\n",
        "gmm = GaussianMixture(n_components=3)  # misalnya, kita ingin 3 kluster\n",
        "gmm.fit(X)\n",
        "\n",
        "# Menghitung probabilitas untuk setiap kluster\n",
        "probs = gmm.predict_proba(X)\n",
        "\n",
        "# Mengambil kluster dengan probabilitas tertinggi\n",
        "clusters = probs.argmax(axis=1)\n",
        "\n",
        "# Mengatur syarat probabilitas > 0.5\n",
        "clusters[probs.max(axis=1) > 0.5]\n",
        "print(clusters)"
      ],
      "metadata": {
        "colab": {
          "base_uri": "https://localhost:8080/"
        },
        "id": "HRjWeOAiBWYo",
        "outputId": "427ec381-c24b-4b45-feb8-4dca6af0364f"
      },
      "execution_count": 12,
      "outputs": [
        {
          "output_type": "stream",
          "name": "stdout",
          "text": [
            "[0 1 0 1 2 0 2 0 1 0]\n"
          ]
        }
      ]
    },
    {
      "cell_type": "code",
      "source": [
        "print(\"Cluster untuk setiap data:\")\n",
        "for i, cluster in enumerate(clusters):\n",
        "    print(f\"Pembeli {i+1}: Cluster {cluster}\")"
      ],
      "metadata": {
        "colab": {
          "base_uri": "https://localhost:8080/"
        },
        "id": "Hfs8b1TtCCJo",
        "outputId": "2461371a-6f0e-4b9e-b920-c3c526666e1c"
      },
      "execution_count": 14,
      "outputs": [
        {
          "output_type": "stream",
          "name": "stdout",
          "text": [
            "Cluster untuk setiap data:\n",
            "Pembeli 1: Cluster 0\n",
            "Pembeli 2: Cluster 1\n",
            "Pembeli 3: Cluster 0\n",
            "Pembeli 4: Cluster 1\n",
            "Pembeli 5: Cluster 2\n",
            "Pembeli 6: Cluster 0\n",
            "Pembeli 7: Cluster 2\n",
            "Pembeli 8: Cluster 0\n",
            "Pembeli 9: Cluster 1\n",
            "Pembeli 10: Cluster 0\n"
          ]
        }
      ]
    },
    {
      "cell_type": "markdown",
      "source": [
        "**e. Berikan analisis anda terhadap hasil clustering tersebut.**"
      ],
      "metadata": {
        "id": "a0gFLrBcCHba"
      }
    },
    {
      "cell_type": "markdown",
      "source": [
        "**Cluster sebelum dengan asumsi probabilitas tertinggi > 0.5:**\n",
        "- Pembeli 1: Cluster 1\n",
        "- Pembeli 2: Cluster 0\n",
        "- Pembeli 3: Cluster 1\n",
        "- Pembeli 4: Cluster 0\n",
        "- Pembeli 5: Cluster 0\n",
        "- Pembeli 6: Cluster 1\n",
        "- Pembeli 7: Cluster 0\n",
        "- Pembeli 8: Cluster 1\n",
        "- Pembeli 9: Cluster 0\n",
        "- Pembeli 10: Cluster 1\n",
        "\n",
        "**Cluster dengan asumsi probabilitas tertinggi > 0.5:**\n",
        "Cluster untuk setiap data:\n",
        "- Pembeli 1: Cluster 0\n",
        "- Pembeli 2: Cluster 1\n",
        "- Pembeli 3: Cluster 0\n",
        "- Pembeli 4: Cluster 1\n",
        "- Pembeli 5: Cluster 2\n",
        "- Pembeli 6: Cluster 0\n",
        "- Pembeli 7: Cluster 2\n",
        "- Pembeli 8: Cluster 0\n",
        "- Pembeli 9: Cluster 1\n",
        "- Pembeli 10: Cluster 0\n",
        "\n",
        "Dapat dilihat semua pembeli mempunyai cluster yang berbeda setelah diberikan perubahan asumsi probabilitas. Dan pada percobaan clustering kedua, terdapat pembeli yang menempati cluster 2 sedangkan pada percobaan pertama tidak ada.\n",
        "\n",
        "\n",
        "\n",
        "\n",
        "\n",
        "\n",
        "\n",
        "\n",
        "\n",
        "\n",
        "\n",
        "\n"
      ],
      "metadata": {
        "id": "FNNbtgciCOiX"
      }
    }
  ],
  "metadata": {
    "jupytext": {
      "formats": "ipynb,md"
    },
    "kernelspec": {
      "display_name": "Python 3 (ipykernel)",
      "language": "python",
      "name": "python3"
    },
    "language_info": {
      "codemirror_mode": {
        "name": "ipython",
        "version": 3
      },
      "file_extension": ".py",
      "mimetype": "text/x-python",
      "name": "python",
      "nbconvert_exporter": "python",
      "pygments_lexer": "ipython3",
      "version": "3.9.2"
    },
    "colab": {
      "provenance": [],
      "include_colab_link": true
    }
  },
  "nbformat": 4,
  "nbformat_minor": 0
}