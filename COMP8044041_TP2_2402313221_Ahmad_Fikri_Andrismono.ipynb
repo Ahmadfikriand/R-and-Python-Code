{
  "nbformat": 4,
  "nbformat_minor": 0,
  "metadata": {
    "colab": {
      "provenance": [],
      "authorship_tag": "ABX9TyOZO66ERVGfoLjWmwqmmMBN",
      "include_colab_link": true
    },
    "kernelspec": {
      "name": "python3",
      "display_name": "Python 3"
    },
    "language_info": {
      "name": "python"
    }
  },
  "cells": [
    {
      "cell_type": "markdown",
      "metadata": {
        "id": "view-in-github",
        "colab_type": "text"
      },
      "source": [
        "<a href=\"https://colab.research.google.com/github/Ahmadfikriand/R-and-Python-Code/blob/master/COMP8044041_TP2_2402313221_Ahmad_Fikri_Andrismono.ipynb\" target=\"_parent\"><img src=\"https://colab.research.google.com/assets/colab-badge.svg\" alt=\"Open In Colab\"/></a>"
      ]
    },
    {
      "cell_type": "markdown",
      "source": [
        "**EVALUATING OBJECT DETECTIONS WITH FIFTYONE FROM COCO DATASETS**"
      ],
      "metadata": {
        "id": "upibU-Eweb0E"
      }
    },
    {
      "cell_type": "markdown",
      "source": [
        "\n",
        "Dalam code kali ini, akan memanfaatkan model Faster R-CNN yang diberikan oleh PyTorch. Pastikan memasang torch dan torchvision."
      ],
      "metadata": {
        "id": "8Rr9B6vKep0a"
      }
    },
    {
      "cell_type": "code",
      "source": [
        "!pip install fiftyone\n",
        "!pip install torch torchvision"
      ],
      "metadata": {
        "colab": {
          "base_uri": "https://localhost:8080/"
        },
        "id": "ng7JQhheWCYC",
        "outputId": "c7547208-f8eb-4295-9286-fa1768c361b2"
      },
      "execution_count": 1,
      "outputs": [
        {
          "output_type": "stream",
          "name": "stdout",
          "text": [
            "Requirement already satisfied: fiftyone in /usr/local/lib/python3.10/dist-packages (0.22.0)\n",
            "Requirement already satisfied: aiofiles in /usr/local/lib/python3.10/dist-packages (from fiftyone) (23.2.1)\n",
            "Requirement already satisfied: argcomplete in /usr/local/lib/python3.10/dist-packages (from fiftyone) (3.1.2)\n",
            "Requirement already satisfied: boto3 in /usr/local/lib/python3.10/dist-packages (from fiftyone) (1.28.53)\n",
            "Requirement already satisfied: cachetools in /usr/local/lib/python3.10/dist-packages (from fiftyone) (5.3.1)\n",
            "Requirement already satisfied: dacite<1.8.0,>=1.6.0 in /usr/local/lib/python3.10/dist-packages (from fiftyone) (1.7.0)\n",
            "Requirement already satisfied: Deprecated in /usr/local/lib/python3.10/dist-packages (from fiftyone) (1.2.14)\n",
            "Requirement already satisfied: ftfy in /usr/local/lib/python3.10/dist-packages (from fiftyone) (6.1.1)\n",
            "Requirement already satisfied: hypercorn>=0.13.2 in /usr/local/lib/python3.10/dist-packages (from fiftyone) (0.14.4)\n",
            "Requirement already satisfied: Jinja2>=3 in /usr/local/lib/python3.10/dist-packages (from fiftyone) (3.1.2)\n",
            "Requirement already satisfied: kaleido in /usr/local/lib/python3.10/dist-packages (from fiftyone) (0.2.1)\n",
            "Requirement already satisfied: matplotlib in /usr/local/lib/python3.10/dist-packages (from fiftyone) (3.7.1)\n",
            "Requirement already satisfied: mongoengine==0.24.2 in /usr/local/lib/python3.10/dist-packages (from fiftyone) (0.24.2)\n",
            "Requirement already satisfied: motor>=2.5 in /usr/local/lib/python3.10/dist-packages (from fiftyone) (3.3.1)\n",
            "Requirement already satisfied: numpy in /usr/local/lib/python3.10/dist-packages (from fiftyone) (1.23.5)\n",
            "Requirement already satisfied: packaging in /usr/local/lib/python3.10/dist-packages (from fiftyone) (23.1)\n",
            "Requirement already satisfied: pandas in /usr/local/lib/python3.10/dist-packages (from fiftyone) (1.5.3)\n",
            "Requirement already satisfied: Pillow>=6.2 in /usr/local/lib/python3.10/dist-packages (from fiftyone) (9.4.0)\n",
            "Requirement already satisfied: plotly>=4.14 in /usr/local/lib/python3.10/dist-packages (from fiftyone) (5.15.0)\n",
            "Requirement already satisfied: pprintpp in /usr/local/lib/python3.10/dist-packages (from fiftyone) (0.4.0)\n",
            "Requirement already satisfied: psutil in /usr/local/lib/python3.10/dist-packages (from fiftyone) (5.9.5)\n",
            "Requirement already satisfied: pymongo>=3.12 in /usr/local/lib/python3.10/dist-packages (from fiftyone) (4.5.0)\n",
            "Requirement already satisfied: pytz in /usr/local/lib/python3.10/dist-packages (from fiftyone) (2023.3.post1)\n",
            "Requirement already satisfied: PyYAML in /usr/local/lib/python3.10/dist-packages (from fiftyone) (6.0.1)\n",
            "Requirement already satisfied: regex in /usr/local/lib/python3.10/dist-packages (from fiftyone) (2023.6.3)\n",
            "Requirement already satisfied: retrying in /usr/local/lib/python3.10/dist-packages (from fiftyone) (1.3.4)\n",
            "Requirement already satisfied: scikit-learn in /usr/local/lib/python3.10/dist-packages (from fiftyone) (1.2.2)\n",
            "Requirement already satisfied: scikit-image in /usr/local/lib/python3.10/dist-packages (from fiftyone) (0.19.3)\n",
            "Requirement already satisfied: setuptools in /usr/local/lib/python3.10/dist-packages (from fiftyone) (67.7.2)\n",
            "Requirement already satisfied: sseclient-py<2,>=1.7.2 in /usr/local/lib/python3.10/dist-packages (from fiftyone) (1.8.0)\n",
            "Requirement already satisfied: sse-starlette<1,>=0.10.3 in /usr/local/lib/python3.10/dist-packages (from fiftyone) (0.10.3)\n",
            "Requirement already satisfied: starlette>=0.24.0 in /usr/local/lib/python3.10/dist-packages (from fiftyone) (0.31.1)\n",
            "Requirement already satisfied: strawberry-graphql==0.138.1 in /usr/local/lib/python3.10/dist-packages (from fiftyone) (0.138.1)\n",
            "Requirement already satisfied: tabulate in /usr/local/lib/python3.10/dist-packages (from fiftyone) (0.9.0)\n",
            "Requirement already satisfied: xmltodict in /usr/local/lib/python3.10/dist-packages (from fiftyone) (0.13.0)\n",
            "Requirement already satisfied: universal-analytics-python3<2,>=1.0.1 in /usr/local/lib/python3.10/dist-packages (from fiftyone) (1.1.1)\n",
            "Requirement already satisfied: fiftyone-brain<0.14,>=0.13.1 in /usr/local/lib/python3.10/dist-packages (from fiftyone) (0.13.1)\n",
            "Requirement already satisfied: fiftyone-db<0.5,>=0.4 in /usr/local/lib/python3.10/dist-packages (from fiftyone) (0.4.0)\n",
            "Requirement already satisfied: voxel51-eta<0.13,>=0.12 in /usr/local/lib/python3.10/dist-packages (from fiftyone) (0.12.0)\n",
            "Requirement already satisfied: opencv-python-headless in /usr/local/lib/python3.10/dist-packages (from fiftyone) (4.8.0.76)\n",
            "Requirement already satisfied: graphql-core<3.3.0,>=3.2.0 in /usr/local/lib/python3.10/dist-packages (from strawberry-graphql==0.138.1->fiftyone) (3.2.3)\n",
            "Requirement already satisfied: python-dateutil<3.0.0,>=2.7.0 in /usr/local/lib/python3.10/dist-packages (from strawberry-graphql==0.138.1->fiftyone) (2.8.2)\n",
            "Requirement already satisfied: typing_extensions<5.0.0,>=3.7.4 in /usr/local/lib/python3.10/dist-packages (from strawberry-graphql==0.138.1->fiftyone) (4.5.0)\n",
            "Requirement already satisfied: scipy>=1.2.0 in /usr/local/lib/python3.10/dist-packages (from fiftyone-brain<0.14,>=0.13.1->fiftyone) (1.11.2)\n",
            "Requirement already satisfied: h11 in /usr/local/lib/python3.10/dist-packages (from hypercorn>=0.13.2->fiftyone) (0.14.0)\n",
            "Requirement already satisfied: h2>=3.1.0 in /usr/local/lib/python3.10/dist-packages (from hypercorn>=0.13.2->fiftyone) (4.1.0)\n",
            "Requirement already satisfied: priority in /usr/local/lib/python3.10/dist-packages (from hypercorn>=0.13.2->fiftyone) (2.0.0)\n",
            "Requirement already satisfied: tomli in /usr/local/lib/python3.10/dist-packages (from hypercorn>=0.13.2->fiftyone) (2.0.1)\n",
            "Requirement already satisfied: wsproto>=0.14.0 in /usr/local/lib/python3.10/dist-packages (from hypercorn>=0.13.2->fiftyone) (1.2.0)\n",
            "Requirement already satisfied: MarkupSafe>=2.0 in /usr/local/lib/python3.10/dist-packages (from Jinja2>=3->fiftyone) (2.1.3)\n",
            "Requirement already satisfied: tenacity>=6.2.0 in /usr/local/lib/python3.10/dist-packages (from plotly>=4.14->fiftyone) (8.2.3)\n",
            "Requirement already satisfied: dnspython<3.0.0,>=1.16.0 in /usr/local/lib/python3.10/dist-packages (from pymongo>=3.12->fiftyone) (2.4.2)\n",
            "Requirement already satisfied: anyio<5,>=3.4.0 in /usr/local/lib/python3.10/dist-packages (from starlette>=0.24.0->fiftyone) (3.7.1)\n",
            "Requirement already satisfied: httpx>=0.10.0 in /usr/local/lib/python3.10/dist-packages (from universal-analytics-python3<2,>=1.0.1->fiftyone) (0.25.0)\n",
            "Requirement already satisfied: dill in /usr/local/lib/python3.10/dist-packages (from voxel51-eta<0.13,>=0.12->fiftyone) (0.3.7)\n",
            "Requirement already satisfied: future in /usr/local/lib/python3.10/dist-packages (from voxel51-eta<0.13,>=0.12->fiftyone) (0.18.3)\n",
            "Requirement already satisfied: glob2 in /usr/local/lib/python3.10/dist-packages (from voxel51-eta<0.13,>=0.12->fiftyone) (0.7)\n",
            "Requirement already satisfied: jsonlines in /usr/local/lib/python3.10/dist-packages (from voxel51-eta<0.13,>=0.12->fiftyone) (4.0.0)\n",
            "Requirement already satisfied: py7zr in /usr/local/lib/python3.10/dist-packages (from voxel51-eta<0.13,>=0.12->fiftyone) (0.20.6)\n",
            "Requirement already satisfied: rarfile in /usr/local/lib/python3.10/dist-packages (from voxel51-eta<0.13,>=0.12->fiftyone) (4.1)\n",
            "Requirement already satisfied: requests in /usr/local/lib/python3.10/dist-packages (from voxel51-eta<0.13,>=0.12->fiftyone) (2.31.0)\n",
            "Requirement already satisfied: six in /usr/local/lib/python3.10/dist-packages (from voxel51-eta<0.13,>=0.12->fiftyone) (1.16.0)\n",
            "Requirement already satisfied: sortedcontainers in /usr/local/lib/python3.10/dist-packages (from voxel51-eta<0.13,>=0.12->fiftyone) (2.4.0)\n",
            "Requirement already satisfied: tzlocal in /usr/local/lib/python3.10/dist-packages (from voxel51-eta<0.13,>=0.12->fiftyone) (5.0.1)\n",
            "Requirement already satisfied: urllib3 in /usr/local/lib/python3.10/dist-packages (from voxel51-eta<0.13,>=0.12->fiftyone) (1.26.16)\n",
            "Requirement already satisfied: botocore<1.32.0,>=1.31.53 in /usr/local/lib/python3.10/dist-packages (from boto3->fiftyone) (1.31.53)\n",
            "Requirement already satisfied: jmespath<2.0.0,>=0.7.1 in /usr/local/lib/python3.10/dist-packages (from boto3->fiftyone) (1.0.1)\n",
            "Requirement already satisfied: s3transfer<0.7.0,>=0.6.0 in /usr/local/lib/python3.10/dist-packages (from boto3->fiftyone) (0.6.2)\n",
            "Requirement already satisfied: wrapt<2,>=1.10 in /usr/local/lib/python3.10/dist-packages (from Deprecated->fiftyone) (1.15.0)\n",
            "Requirement already satisfied: wcwidth>=0.2.5 in /usr/local/lib/python3.10/dist-packages (from ftfy->fiftyone) (0.2.6)\n",
            "Requirement already satisfied: contourpy>=1.0.1 in /usr/local/lib/python3.10/dist-packages (from matplotlib->fiftyone) (1.1.0)\n",
            "Requirement already satisfied: cycler>=0.10 in /usr/local/lib/python3.10/dist-packages (from matplotlib->fiftyone) (0.11.0)\n",
            "Requirement already satisfied: fonttools>=4.22.0 in /usr/local/lib/python3.10/dist-packages (from matplotlib->fiftyone) (4.42.1)\n",
            "Requirement already satisfied: kiwisolver>=1.0.1 in /usr/local/lib/python3.10/dist-packages (from matplotlib->fiftyone) (1.4.5)\n",
            "Requirement already satisfied: pyparsing>=2.3.1 in /usr/local/lib/python3.10/dist-packages (from matplotlib->fiftyone) (3.1.1)\n",
            "Requirement already satisfied: networkx>=2.2 in /usr/local/lib/python3.10/dist-packages (from scikit-image->fiftyone) (3.1)\n",
            "Requirement already satisfied: imageio>=2.4.1 in /usr/local/lib/python3.10/dist-packages (from scikit-image->fiftyone) (2.31.3)\n",
            "Requirement already satisfied: tifffile>=2019.7.26 in /usr/local/lib/python3.10/dist-packages (from scikit-image->fiftyone) (2023.8.30)\n",
            "Requirement already satisfied: PyWavelets>=1.1.1 in /usr/local/lib/python3.10/dist-packages (from scikit-image->fiftyone) (1.4.1)\n",
            "Requirement already satisfied: joblib>=1.1.1 in /usr/local/lib/python3.10/dist-packages (from scikit-learn->fiftyone) (1.3.2)\n",
            "Requirement already satisfied: threadpoolctl>=2.0.0 in /usr/local/lib/python3.10/dist-packages (from scikit-learn->fiftyone) (3.2.0)\n",
            "Requirement already satisfied: idna>=2.8 in /usr/local/lib/python3.10/dist-packages (from anyio<5,>=3.4.0->starlette>=0.24.0->fiftyone) (3.4)\n",
            "Requirement already satisfied: sniffio>=1.1 in /usr/local/lib/python3.10/dist-packages (from anyio<5,>=3.4.0->starlette>=0.24.0->fiftyone) (1.3.0)\n",
            "Requirement already satisfied: exceptiongroup in /usr/local/lib/python3.10/dist-packages (from anyio<5,>=3.4.0->starlette>=0.24.0->fiftyone) (1.1.3)\n",
            "Requirement already satisfied: hyperframe<7,>=6.0 in /usr/local/lib/python3.10/dist-packages (from h2>=3.1.0->hypercorn>=0.13.2->fiftyone) (6.0.1)\n",
            "Requirement already satisfied: hpack<5,>=4.0 in /usr/local/lib/python3.10/dist-packages (from h2>=3.1.0->hypercorn>=0.13.2->fiftyone) (4.0.0)\n",
            "Requirement already satisfied: certifi in /usr/local/lib/python3.10/dist-packages (from httpx>=0.10.0->universal-analytics-python3<2,>=1.0.1->fiftyone) (2023.7.22)\n",
            "Requirement already satisfied: httpcore<0.19.0,>=0.18.0 in /usr/local/lib/python3.10/dist-packages (from httpx>=0.10.0->universal-analytics-python3<2,>=1.0.1->fiftyone) (0.18.0)\n",
            "Requirement already satisfied: attrs>=19.2.0 in /usr/local/lib/python3.10/dist-packages (from jsonlines->voxel51-eta<0.13,>=0.12->fiftyone) (23.1.0)\n",
            "Requirement already satisfied: texttable in /usr/local/lib/python3.10/dist-packages (from py7zr->voxel51-eta<0.13,>=0.12->fiftyone) (1.6.7)\n",
            "Requirement already satisfied: pycryptodomex>=3.6.6 in /usr/local/lib/python3.10/dist-packages (from py7zr->voxel51-eta<0.13,>=0.12->fiftyone) (3.19.0)\n",
            "Requirement already satisfied: pyzstd>=0.14.4 in /usr/local/lib/python3.10/dist-packages (from py7zr->voxel51-eta<0.13,>=0.12->fiftyone) (0.15.9)\n",
            "Requirement already satisfied: pyppmd<1.1.0,>=0.18.1 in /usr/local/lib/python3.10/dist-packages (from py7zr->voxel51-eta<0.13,>=0.12->fiftyone) (1.0.0)\n",
            "Requirement already satisfied: pybcj>=0.6.0 in /usr/local/lib/python3.10/dist-packages (from py7zr->voxel51-eta<0.13,>=0.12->fiftyone) (1.0.1)\n",
            "Requirement already satisfied: multivolumefile>=0.2.3 in /usr/local/lib/python3.10/dist-packages (from py7zr->voxel51-eta<0.13,>=0.12->fiftyone) (0.2.3)\n",
            "Requirement already satisfied: brotli>=1.0.9 in /usr/local/lib/python3.10/dist-packages (from py7zr->voxel51-eta<0.13,>=0.12->fiftyone) (1.1.0)\n",
            "Requirement already satisfied: inflate64>=0.3.1 in /usr/local/lib/python3.10/dist-packages (from py7zr->voxel51-eta<0.13,>=0.12->fiftyone) (0.3.1)\n",
            "Requirement already satisfied: charset-normalizer<4,>=2 in /usr/local/lib/python3.10/dist-packages (from requests->voxel51-eta<0.13,>=0.12->fiftyone) (3.2.0)\n",
            "Requirement already satisfied: torch in /usr/local/lib/python3.10/dist-packages (2.0.1+rocm5.4.2)\n",
            "Requirement already satisfied: torchvision in /usr/local/lib/python3.10/dist-packages (0.15.2+rocm5.4.2)\n",
            "Requirement already satisfied: filelock in /usr/local/lib/python3.10/dist-packages (from torch) (3.12.2)\n",
            "Requirement already satisfied: typing-extensions in /usr/local/lib/python3.10/dist-packages (from torch) (4.5.0)\n",
            "Requirement already satisfied: sympy in /usr/local/lib/python3.10/dist-packages (from torch) (1.12)\n",
            "Requirement already satisfied: networkx in /usr/local/lib/python3.10/dist-packages (from torch) (3.1)\n",
            "Requirement already satisfied: jinja2 in /usr/local/lib/python3.10/dist-packages (from torch) (3.1.2)\n",
            "Requirement already satisfied: pytorch-triton-rocm<2.1,>=2.0.0 in /usr/local/lib/python3.10/dist-packages (from torch) (2.0.2)\n",
            "Requirement already satisfied: numpy in /usr/local/lib/python3.10/dist-packages (from torchvision) (1.23.5)\n",
            "Requirement already satisfied: requests in /usr/local/lib/python3.10/dist-packages (from torchvision) (2.31.0)\n",
            "Requirement already satisfied: pillow!=8.3.*,>=5.3.0 in /usr/local/lib/python3.10/dist-packages (from torchvision) (9.4.0)\n",
            "Requirement already satisfied: cmake in /usr/local/lib/python3.10/dist-packages (from pytorch-triton-rocm<2.1,>=2.0.0->torch) (3.27.4.1)\n",
            "Requirement already satisfied: lit in /usr/local/lib/python3.10/dist-packages (from pytorch-triton-rocm<2.1,>=2.0.0->torch) (16.0.6)\n",
            "Requirement already satisfied: MarkupSafe>=2.0 in /usr/local/lib/python3.10/dist-packages (from jinja2->torch) (2.1.3)\n",
            "Requirement already satisfied: charset-normalizer<4,>=2 in /usr/local/lib/python3.10/dist-packages (from requests->torchvision) (3.2.0)\n",
            "Requirement already satisfied: idna<4,>=2.5 in /usr/local/lib/python3.10/dist-packages (from requests->torchvision) (3.4)\n",
            "Requirement already satisfied: urllib3<3,>=1.21.1 in /usr/local/lib/python3.10/dist-packages (from requests->torchvision) (1.26.16)\n",
            "Requirement already satisfied: certifi>=2017.4.17 in /usr/local/lib/python3.10/dist-packages (from requests->torchvision) (2023.7.22)\n",
            "Requirement already satisfied: mpmath>=0.19 in /usr/local/lib/python3.10/dist-packages (from sympy->torch) (1.3.0)\n"
          ]
        }
      ]
    },
    {
      "cell_type": "markdown",
      "source": [
        "Berikut ini adalah potongan kode untuk mengunduh dan memuat model yang telah dilatih dari web."
      ],
      "metadata": {
        "id": "IOQkkVanfhLc"
      }
    },
    {
      "cell_type": "code",
      "source": [
        "import torch\n",
        "import torchvision\n",
        "\n",
        "# Run the model on GPU if it is available\n",
        "device = torch.device(\"cuda:0\" if torch.cuda.is_available() else \"cpu\")\n",
        "\n",
        "# Load a pre-trained Faster R-CNN model\n",
        "model = torchvision.models.detection.fasterrcnn_resnet50_fpn(pretrained=True)\n",
        "model.to(device)\n",
        "model.eval()\n",
        "\n",
        "print(\"Model ready\")"
      ],
      "metadata": {
        "colab": {
          "base_uri": "https://localhost:8080/"
        },
        "id": "K35XhzCjWFVR",
        "outputId": "20ee49e7-a0f8-441e-d7b6-7f69329af631"
      },
      "execution_count": 2,
      "outputs": [
        {
          "output_type": "stream",
          "name": "stderr",
          "text": [
            "/usr/local/lib/python3.10/dist-packages/torchvision/models/_utils.py:208: UserWarning: The parameter 'pretrained' is deprecated since 0.13 and may be removed in the future, please use 'weights' instead.\n",
            "  warnings.warn(\n",
            "/usr/local/lib/python3.10/dist-packages/torchvision/models/_utils.py:223: UserWarning: Arguments other than a weight enum or `None` for 'weights' are deprecated since 0.13 and may be removed in the future. The current behavior is equivalent to passing `weights=FasterRCNN_ResNet50_FPN_Weights.COCO_V1`. You can also use `weights=FasterRCNN_ResNet50_FPN_Weights.DEFAULT` to get the most up-to-date weights.\n",
            "  warnings.warn(msg)\n"
          ]
        },
        {
          "output_type": "stream",
          "name": "stdout",
          "text": [
            "Model ready\n"
          ]
        }
      ]
    },
    {
      "cell_type": "markdown",
      "source": [
        "Menganalisis bagian validasi dari dataset COCO untuk diunduh di FiftyOne Dataset Zoo. Code di bawah digunakan untuk mengunduh dan memuat bagian validasi ke FiftyOne."
      ],
      "metadata": {
        "id": "YFi87GNafoKc"
      }
    },
    {
      "cell_type": "code",
      "source": [
        "import fiftyone as fo\n",
        "import fiftyone.zoo as foz\n",
        "\n",
        "dataset = foz.load_zoo_dataset(\n",
        "    \"coco-2017\",\n",
        "    split=\"validation\",\n",
        "    dataset_name=\"evaluate-detections-tutorial\",\n",
        ")\n",
        "dataset.persistent = True"
      ],
      "metadata": {
        "colab": {
          "base_uri": "https://localhost:8080/"
        },
        "id": "kS7rUNITWLFr",
        "outputId": "f1542829-9e8f-4a20-c877-765dbb04e2db"
      },
      "execution_count": 3,
      "outputs": [
        {
          "output_type": "stream",
          "name": "stdout",
          "text": [
            "Downloading split 'validation' to '/root/fiftyone/coco-2017/validation' if necessary\n"
          ]
        },
        {
          "output_type": "stream",
          "name": "stderr",
          "text": [
            "INFO:fiftyone.zoo.datasets:Downloading split 'validation' to '/root/fiftyone/coco-2017/validation' if necessary\n"
          ]
        },
        {
          "output_type": "stream",
          "name": "stdout",
          "text": [
            "Found annotations at '/root/fiftyone/coco-2017/raw/instances_val2017.json'\n"
          ]
        },
        {
          "output_type": "stream",
          "name": "stderr",
          "text": [
            "INFO:fiftyone.utils.coco:Found annotations at '/root/fiftyone/coco-2017/raw/instances_val2017.json'\n"
          ]
        },
        {
          "output_type": "stream",
          "name": "stdout",
          "text": [
            "Images already downloaded\n"
          ]
        },
        {
          "output_type": "stream",
          "name": "stderr",
          "text": [
            "INFO:fiftyone.utils.coco:Images already downloaded\n"
          ]
        },
        {
          "output_type": "stream",
          "name": "stdout",
          "text": [
            "Existing download of split 'validation' is sufficient\n"
          ]
        },
        {
          "output_type": "stream",
          "name": "stderr",
          "text": [
            "INFO:fiftyone.zoo.datasets:Existing download of split 'validation' is sufficient\n"
          ]
        },
        {
          "output_type": "stream",
          "name": "stdout",
          "text": [
            "Loading existing dataset 'evaluate-detections-tutorial'. To reload from disk, either delete the existing dataset or provide a custom `dataset_name` to use\n"
          ]
        },
        {
          "output_type": "stream",
          "name": "stderr",
          "text": [
            "INFO:fiftyone.zoo.datasets:Loading existing dataset 'evaluate-detections-tutorial'. To reload from disk, either delete the existing dataset or provide a custom `dataset_name` to use\n"
          ]
        }
      ]
    },
    {
      "cell_type": "markdown",
      "source": [
        "Lihat dataset untuk mengetahui yang sudah diunduh."
      ],
      "metadata": {
        "id": "suadAj9Agues"
      }
    },
    {
      "cell_type": "code",
      "source": [
        "# Print some information about the dataset\n",
        "print(dataset)"
      ],
      "metadata": {
        "colab": {
          "base_uri": "https://localhost:8080/"
        },
        "id": "0bT-VyCQWOrB",
        "outputId": "88dbdf67-3b6c-449d-99e5-feda5234be5a"
      },
      "execution_count": 4,
      "outputs": [
        {
          "output_type": "stream",
          "name": "stdout",
          "text": [
            "Name:        evaluate-detections-tutorial\n",
            "Media type:  image\n",
            "Num samples: 5000\n",
            "Persistent:  True\n",
            "Tags:        []\n",
            "Sample fields:\n",
            "    id:           fiftyone.core.fields.ObjectIdField\n",
            "    filepath:     fiftyone.core.fields.StringField\n",
            "    tags:         fiftyone.core.fields.ListField(fiftyone.core.fields.StringField)\n",
            "    metadata:     fiftyone.core.fields.EmbeddedDocumentField(fiftyone.core.metadata.ImageMetadata)\n",
            "    ground_truth: fiftyone.core.fields.EmbeddedDocumentField(fiftyone.core.labels.Detections)\n",
            "    faster_rcnn:  fiftyone.core.fields.EmbeddedDocumentField(fiftyone.core.labels.Detections)\n",
            "    eval_tp:      fiftyone.core.fields.IntField\n",
            "    eval_fp:      fiftyone.core.fields.IntField\n",
            "    eval_fn:      fiftyone.core.fields.IntField\n"
          ]
        }
      ]
    },
    {
      "cell_type": "code",
      "source": [
        "# Print a ground truth detection\n",
        "sample = dataset.first()\n",
        "print(sample.ground_truth.detections[0])"
      ],
      "metadata": {
        "colab": {
          "base_uri": "https://localhost:8080/"
        },
        "id": "PyfXDAOIWw_1",
        "outputId": "ff5678ff-961e-4474-ddd1-11b040f47a52"
      },
      "execution_count": 5,
      "outputs": [
        {
          "output_type": "stream",
          "name": "stdout",
          "text": [
            "<Detection: {\n",
            "    'id': '651037eeacf7381d2a0b0951',\n",
            "    'attributes': {},\n",
            "    'tags': [],\n",
            "    'label': 'potted plant',\n",
            "    'bounding_box': [\n",
            "        0.37028125,\n",
            "        0.3345305164319249,\n",
            "        0.038593749999999996,\n",
            "        0.16314553990610328,\n",
            "    ],\n",
            "    'mask': None,\n",
            "    'confidence': None,\n",
            "    'index': None,\n",
            "    'supercategory': 'furniture',\n",
            "    'iscrowd': 0,\n",
            "}>\n"
          ]
        }
      ]
    },
    {
      "cell_type": "markdown",
      "source": [
        "Catat bahwa deteksi kebenaran berada dalam kolom ground_truth pada sampel.\n",
        "\n",
        "Sebelum berlanjut, aktifkan Aplikasi FiftyOne dan gunakan tampilan grafis untuk memeriksa dataset secara visual."
      ],
      "metadata": {
        "id": "HyIzZUkvhPBh"
      }
    },
    {
      "cell_type": "code",
      "source": [
        "session = fo.launch_app(dataset)"
      ],
      "metadata": {
        "colab": {
          "base_uri": "https://localhost:8080/",
          "height": 804
        },
        "id": "wu61xdjHW190",
        "outputId": "2f78844e-33da-4639-9cbc-59cd2c7bd5a7"
      },
      "execution_count": 7,
      "outputs": [
        {
          "output_type": "display_data",
          "data": {
            "text/plain": [
              "<IPython.core.display.HTML object>"
            ],
            "text/html": [
              "\n",
              "<style>\n",
              "\n",
              "@import url(\"https://fonts.googleapis.com/css2?family=Palanquin&display=swap\");\n",
              "\n",
              "body, html {\n",
              "  margin: 0;\n",
              "  padding: 0;\n",
              "  width: 100%;\n",
              "}\n",
              "\n",
              "#focontainer-f76d73d5-640f-4417-9dd6-3d2abbdc7a45 {\n",
              "  position: relative;\n",
              "  height: px;\n",
              "  display: block !important;\n",
              "}\n",
              "#foactivate-f76d73d5-640f-4417-9dd6-3d2abbdc7a45 {\n",
              "  font-weight: bold;\n",
              "  cursor: pointer;\n",
              "  font-size: 24px;\n",
              "  border-radius: 3px;\n",
              "  text-align: center;\n",
              "  padding: 0.5em;\n",
              "  color: rgb(255, 255, 255);\n",
              "  font-family: \"Palanquin\", sans-serif;\n",
              "  position: absolute;\n",
              "  left: 50%;\n",
              "  top: 50%;\n",
              "  width: 160px;\n",
              "  margin-left: -80px;\n",
              "  margin-top: -23px;\n",
              "  background: hsla(210,11%,15%, 0.8);\n",
              "  border: none;\n",
              "}\n",
              "#foactivate-f76d73d5-640f-4417-9dd6-3d2abbdc7a45:focus {\n",
              "  outline: none;\n",
              "}\n",
              "#fooverlay-f76d73d5-640f-4417-9dd6-3d2abbdc7a45 {\n",
              "  width: 100%;\n",
              "  height: 100%;\n",
              "  background: hsla(208, 7%, 46%, 0.7);\n",
              "  position: absolute;\n",
              "  top: 0;\n",
              "  left: 0;\n",
              "  display: none;\n",
              "  cursor: pointer;\n",
              "}\n",
              "</style>\n",
              "<div id=\"focontainer-f76d73d5-640f-4417-9dd6-3d2abbdc7a45\" style=\"display: none;\">\n",
              "   <div id=\"fooverlay-f76d73d5-640f-4417-9dd6-3d2abbdc7a45\">\n",
              "      <button id=\"foactivate-f76d73d5-640f-4417-9dd6-3d2abbdc7a45\" >Activate</button>\n",
              "   </div>\n",
              "</div>"
            ]
          },
          "metadata": {}
        }
      ]
    },
    {
      "cell_type": "markdown",
      "source": [
        "Menambahkan hasil prediksi ke dalam dataset dan buat sejumlah prediksi untuk dianalisis. Code di bawah untuk melakukan proses inferensi menggunakan model Faster R-CNN pada 100 sampel acak dari dataset dan menyimpan hasil prediksinya pada kolom faster_rcnn dari sampel tersebut."
      ],
      "metadata": {
        "id": "k1W0xkFbhh56"
      }
    },
    {
      "cell_type": "code",
      "source": [
        "# Choose a random subset of 100 samples to add predictions to\n",
        "predictions_view = dataset.take(100, seed=51)"
      ],
      "metadata": {
        "id": "0OjT9e4ZW-Vj"
      },
      "execution_count": 8,
      "outputs": []
    },
    {
      "cell_type": "code",
      "source": [
        "from PIL import Image\n",
        "from torchvision.transforms import functional as func\n",
        "\n",
        "import fiftyone as fo\n",
        "\n",
        "# Get class list\n",
        "classes = dataset.default_classes\n",
        "\n",
        "# Add predictions to samples\n",
        "with fo.ProgressBar() as pb:\n",
        "    for sample in pb(predictions_view):\n",
        "        # Load image\n",
        "        image = Image.open(sample.filepath)\n",
        "        image = func.to_tensor(image).to(device)\n",
        "        c, h, w = image.shape\n",
        "\n",
        "        # Perform inference\n",
        "        preds = model([image])[0]\n",
        "        labels = preds[\"labels\"].cpu().detach().numpy()\n",
        "        scores = preds[\"scores\"].cpu().detach().numpy()\n",
        "        boxes = preds[\"boxes\"].cpu().detach().numpy()\n",
        "\n",
        "        # Convert detections to FiftyOne format\n",
        "        detections = []\n",
        "        for label, score, box in zip(labels, scores, boxes):\n",
        "            # Convert to [top-left-x, top-left-y, width, height]\n",
        "            # in relative coordinates in [0, 1] x [0, 1]\n",
        "            x1, y1, x2, y2 = box\n",
        "            rel_box = [x1 / w, y1 / h, (x2 - x1) / w, (y2 - y1) / h]\n",
        "\n",
        "            detections.append(\n",
        "                fo.Detection(\n",
        "                    label=classes[label],\n",
        "                    bounding_box=rel_box,\n",
        "                    confidence=score\n",
        "                )\n",
        "            )\n",
        "\n",
        "        # Save predictions to dataset\n",
        "        sample[\"faster_rcnn\"] = fo.Detections(detections=detections)\n",
        "        sample.save()\n",
        "\n",
        "print(\"Finished adding predictions\")"
      ],
      "metadata": {
        "colab": {
          "base_uri": "https://localhost:8080/"
        },
        "id": "NfrXDtUZXDfx",
        "outputId": "c6479bf7-8e77-4fa0-bc3e-6c9e8cd1c785"
      },
      "execution_count": 9,
      "outputs": [
        {
          "output_type": "stream",
          "name": "stdout",
          "text": [
            " 100% |█████████████████| 100/100 [10.0m elapsed, 0s remaining, 0.2 samples/s]    \n"
          ]
        },
        {
          "output_type": "stream",
          "name": "stderr",
          "text": [
            "INFO:eta.core.utils: 100% |█████████████████| 100/100 [10.0m elapsed, 0s remaining, 0.2 samples/s]    \n"
          ]
        },
        {
          "output_type": "stream",
          "name": "stdout",
          "text": [
            "Finished adding predictions\n"
          ]
        }
      ]
    },
    {
      "cell_type": "markdown",
      "source": [
        "Menampilkan predictions_view di Aplikasi untuk melihat hasil prediksi yang telah ditambahkan."
      ],
      "metadata": {
        "id": "vp_o11wKh2NO"
      }
    },
    {
      "cell_type": "code",
      "source": [
        "session.view = predictions_view"
      ],
      "metadata": {
        "colab": {
          "base_uri": "https://localhost:8080/",
          "height": 804
        },
        "id": "RZSW5gpfXHU1",
        "outputId": "68136ec3-e24a-4f1d-c9de-8337b71b6552"
      },
      "execution_count": 10,
      "outputs": [
        {
          "output_type": "display_data",
          "data": {
            "text/plain": [
              "<IPython.core.display.HTML object>"
            ],
            "text/html": [
              "\n",
              "<style>\n",
              "\n",
              "@import url(\"https://fonts.googleapis.com/css2?family=Palanquin&display=swap\");\n",
              "\n",
              "body, html {\n",
              "  margin: 0;\n",
              "  padding: 0;\n",
              "  width: 100%;\n",
              "}\n",
              "\n",
              "#focontainer-45f2f3a8-7040-4c20-b6d2-a956c5932b09 {\n",
              "  position: relative;\n",
              "  height: px;\n",
              "  display: block !important;\n",
              "}\n",
              "#foactivate-45f2f3a8-7040-4c20-b6d2-a956c5932b09 {\n",
              "  font-weight: bold;\n",
              "  cursor: pointer;\n",
              "  font-size: 24px;\n",
              "  border-radius: 3px;\n",
              "  text-align: center;\n",
              "  padding: 0.5em;\n",
              "  color: rgb(255, 255, 255);\n",
              "  font-family: \"Palanquin\", sans-serif;\n",
              "  position: absolute;\n",
              "  left: 50%;\n",
              "  top: 50%;\n",
              "  width: 160px;\n",
              "  margin-left: -80px;\n",
              "  margin-top: -23px;\n",
              "  background: hsla(210,11%,15%, 0.8);\n",
              "  border: none;\n",
              "}\n",
              "#foactivate-45f2f3a8-7040-4c20-b6d2-a956c5932b09:focus {\n",
              "  outline: none;\n",
              "}\n",
              "#fooverlay-45f2f3a8-7040-4c20-b6d2-a956c5932b09 {\n",
              "  width: 100%;\n",
              "  height: 100%;\n",
              "  background: hsla(208, 7%, 46%, 0.7);\n",
              "  position: absolute;\n",
              "  top: 0;\n",
              "  left: 0;\n",
              "  display: none;\n",
              "  cursor: pointer;\n",
              "}\n",
              "</style>\n",
              "<div id=\"focontainer-45f2f3a8-7040-4c20-b6d2-a956c5932b09\" style=\"display: none;\">\n",
              "   <div id=\"fooverlay-45f2f3a8-7040-4c20-b6d2-a956c5932b09\">\n",
              "      <button id=\"foactivate-45f2f3a8-7040-4c20-b6d2-a956c5932b09\" >Activate</button>\n",
              "   </div>\n",
              "</div>"
            ]
          },
          "metadata": {}
        }
      ]
    },
    {
      "cell_type": "markdown",
      "source": [
        "**Mengevaluasi deteksi**\n",
        "<br>Tinjau lebih lanjut prediksi yang telah disertakan ke dalam dataset.\n",
        "\n",
        "**Melihat kotak pembatas**\n",
        "<br>Mengakses dataset lengkap melalui Aplikasi:"
      ],
      "metadata": {
        "id": "Blza-FGxiJRm"
      }
    },
    {
      "cell_type": "code",
      "source": [
        "# Resets the session; the entire dataset will now be shown\n",
        "session.view = None"
      ],
      "metadata": {
        "colab": {
          "base_uri": "https://localhost:8080/",
          "height": 804
        },
        "id": "9DGHjLuqbHzw",
        "outputId": "e1a6c1c4-195d-45d8-9827-36ced86387ca"
      },
      "execution_count": 11,
      "outputs": [
        {
          "output_type": "display_data",
          "data": {
            "text/plain": [
              "<IPython.core.display.HTML object>"
            ],
            "text/html": [
              "\n",
              "<style>\n",
              "\n",
              "@import url(\"https://fonts.googleapis.com/css2?family=Palanquin&display=swap\");\n",
              "\n",
              "body, html {\n",
              "  margin: 0;\n",
              "  padding: 0;\n",
              "  width: 100%;\n",
              "}\n",
              "\n",
              "#focontainer-d8574ed8-bc7a-43bb-a720-7d22ba55c67b {\n",
              "  position: relative;\n",
              "  height: px;\n",
              "  display: block !important;\n",
              "}\n",
              "#foactivate-d8574ed8-bc7a-43bb-a720-7d22ba55c67b {\n",
              "  font-weight: bold;\n",
              "  cursor: pointer;\n",
              "  font-size: 24px;\n",
              "  border-radius: 3px;\n",
              "  text-align: center;\n",
              "  padding: 0.5em;\n",
              "  color: rgb(255, 255, 255);\n",
              "  font-family: \"Palanquin\", sans-serif;\n",
              "  position: absolute;\n",
              "  left: 50%;\n",
              "  top: 50%;\n",
              "  width: 160px;\n",
              "  margin-left: -80px;\n",
              "  margin-top: -23px;\n",
              "  background: hsla(210,11%,15%, 0.8);\n",
              "  border: none;\n",
              "}\n",
              "#foactivate-d8574ed8-bc7a-43bb-a720-7d22ba55c67b:focus {\n",
              "  outline: none;\n",
              "}\n",
              "#fooverlay-d8574ed8-bc7a-43bb-a720-7d22ba55c67b {\n",
              "  width: 100%;\n",
              "  height: 100%;\n",
              "  background: hsla(208, 7%, 46%, 0.7);\n",
              "  position: absolute;\n",
              "  top: 0;\n",
              "  left: 0;\n",
              "  display: none;\n",
              "  cursor: pointer;\n",
              "}\n",
              "</style>\n",
              "<div id=\"focontainer-d8574ed8-bc7a-43bb-a720-7d22ba55c67b\" style=\"display: none;\">\n",
              "   <div id=\"fooverlay-d8574ed8-bc7a-43bb-a720-7d22ba55c67b\">\n",
              "      <button id=\"foactivate-d8574ed8-bc7a-43bb-a720-7d22ba55c67b\" >Activate</button>\n",
              "   </div>\n",
              "</div>"
            ]
          },
          "metadata": {}
        }
      ]
    },
    {
      "cell_type": "markdown",
      "source": [
        "Hanya 100 sampel dalam predictions_view yang memiliki hasil prediksi di kolom faster_rcnn, sehingga beberapa sampel yang ditampilkan di atas tidak mempunyai kotak prediksi.\n",
        "\n",
        "Jika ingin mengembalikan tampilan prediksi, bisa melakukannya melalui kode dengan session.view = predictions_view, atau juga bisa memanfaatkan bilah tampilan di Aplikasi untuk tujuan yang sama."
      ],
      "metadata": {
        "id": "2xMEsUwNizKN"
      }
    },
    {
      "cell_type": "code",
      "source": [
        "# Use the view bar to create an `Exists(faster_rcnn, True)` stage\n",
        "# Now your view contains only the 100 samples with predictions in `faster_rcnn` field\n",
        "session.show()"
      ],
      "metadata": {
        "colab": {
          "base_uri": "https://localhost:8080/",
          "height": 804
        },
        "id": "sF5L1PnPbKp3",
        "outputId": "990fa899-9dc0-41ba-d145-4337cf423a0d"
      },
      "execution_count": 12,
      "outputs": [
        {
          "output_type": "display_data",
          "data": {
            "text/plain": [
              "<IPython.core.display.HTML object>"
            ],
            "text/html": [
              "\n",
              "<style>\n",
              "\n",
              "@import url(\"https://fonts.googleapis.com/css2?family=Palanquin&display=swap\");\n",
              "\n",
              "body, html {\n",
              "  margin: 0;\n",
              "  padding: 0;\n",
              "  width: 100%;\n",
              "}\n",
              "\n",
              "#focontainer-08087d0b-29e7-437d-8a89-db1f460c9f5b {\n",
              "  position: relative;\n",
              "  height: px;\n",
              "  display: block !important;\n",
              "}\n",
              "#foactivate-08087d0b-29e7-437d-8a89-db1f460c9f5b {\n",
              "  font-weight: bold;\n",
              "  cursor: pointer;\n",
              "  font-size: 24px;\n",
              "  border-radius: 3px;\n",
              "  text-align: center;\n",
              "  padding: 0.5em;\n",
              "  color: rgb(255, 255, 255);\n",
              "  font-family: \"Palanquin\", sans-serif;\n",
              "  position: absolute;\n",
              "  left: 50%;\n",
              "  top: 50%;\n",
              "  width: 160px;\n",
              "  margin-left: -80px;\n",
              "  margin-top: -23px;\n",
              "  background: hsla(210,11%,15%, 0.8);\n",
              "  border: none;\n",
              "}\n",
              "#foactivate-08087d0b-29e7-437d-8a89-db1f460c9f5b:focus {\n",
              "  outline: none;\n",
              "}\n",
              "#fooverlay-08087d0b-29e7-437d-8a89-db1f460c9f5b {\n",
              "  width: 100%;\n",
              "  height: 100%;\n",
              "  background: hsla(208, 7%, 46%, 0.7);\n",
              "  position: absolute;\n",
              "  top: 0;\n",
              "  left: 0;\n",
              "  display: none;\n",
              "  cursor: pointer;\n",
              "}\n",
              "</style>\n",
              "<div id=\"focontainer-08087d0b-29e7-437d-8a89-db1f460c9f5b\" style=\"display: none;\">\n",
              "   <div id=\"fooverlay-08087d0b-29e7-437d-8a89-db1f460c9f5b\">\n",
              "      <button id=\"foactivate-08087d0b-29e7-437d-8a89-db1f460c9f5b\" >Activate</button>\n",
              "   </div>\n",
              "</div>"
            ]
          },
          "metadata": {}
        }
      ]
    },
    {
      "cell_type": "code",
      "source": [
        "session.view = predictions_view"
      ],
      "metadata": {
        "colab": {
          "base_uri": "https://localhost:8080/",
          "height": 804
        },
        "id": "rhTkjFMYbP43",
        "outputId": "686f5977-6b91-4b4f-b360-b1a5971f922b"
      },
      "execution_count": 13,
      "outputs": [
        {
          "output_type": "display_data",
          "data": {
            "text/plain": [
              "<IPython.core.display.HTML object>"
            ],
            "text/html": [
              "\n",
              "<style>\n",
              "\n",
              "@import url(\"https://fonts.googleapis.com/css2?family=Palanquin&display=swap\");\n",
              "\n",
              "body, html {\n",
              "  margin: 0;\n",
              "  padding: 0;\n",
              "  width: 100%;\n",
              "}\n",
              "\n",
              "#focontainer-cf212258-422b-4019-8133-ef9129a699b5 {\n",
              "  position: relative;\n",
              "  height: px;\n",
              "  display: block !important;\n",
              "}\n",
              "#foactivate-cf212258-422b-4019-8133-ef9129a699b5 {\n",
              "  font-weight: bold;\n",
              "  cursor: pointer;\n",
              "  font-size: 24px;\n",
              "  border-radius: 3px;\n",
              "  text-align: center;\n",
              "  padding: 0.5em;\n",
              "  color: rgb(255, 255, 255);\n",
              "  font-family: \"Palanquin\", sans-serif;\n",
              "  position: absolute;\n",
              "  left: 50%;\n",
              "  top: 50%;\n",
              "  width: 160px;\n",
              "  margin-left: -80px;\n",
              "  margin-top: -23px;\n",
              "  background: hsla(210,11%,15%, 0.8);\n",
              "  border: none;\n",
              "}\n",
              "#foactivate-cf212258-422b-4019-8133-ef9129a699b5:focus {\n",
              "  outline: none;\n",
              "}\n",
              "#fooverlay-cf212258-422b-4019-8133-ef9129a699b5 {\n",
              "  width: 100%;\n",
              "  height: 100%;\n",
              "  background: hsla(208, 7%, 46%, 0.7);\n",
              "  position: absolute;\n",
              "  top: 0;\n",
              "  left: 0;\n",
              "  display: none;\n",
              "  cursor: pointer;\n",
              "}\n",
              "</style>\n",
              "<div id=\"focontainer-cf212258-422b-4019-8133-ef9129a699b5\" style=\"display: none;\">\n",
              "   <div id=\"fooverlay-cf212258-422b-4019-8133-ef9129a699b5\">\n",
              "      <button id=\"foactivate-cf212258-422b-4019-8133-ef9129a699b5\" >Activate</button>\n",
              "   </div>\n",
              "</div>"
            ]
          },
          "metadata": {}
        }
      ]
    },
    {
      "cell_type": "markdown",
      "source": [
        "Masing-masing kolom dari sampel ditampilkan sebagai kotak centang di bilah samping kiri untuk memilih apakah ingin menampilkan deteksi kebenaran dasar atau hasil prediksi pada gambar.\n",
        "\n",
        "Bisa klik sebuah gambar untuk memeriksa sampel tersebut lebih mendalam."
      ],
      "metadata": {
        "id": "R3tAE1JCjUSq"
      }
    },
    {
      "cell_type": "code",
      "source": [
        "session.show()"
      ],
      "metadata": {
        "colab": {
          "base_uri": "https://localhost:8080/",
          "height": 804
        },
        "id": "YP3Bkah9jM6e",
        "outputId": "6c84e591-9415-4b4f-933c-0f065455b6ff"
      },
      "execution_count": 14,
      "outputs": [
        {
          "output_type": "display_data",
          "data": {
            "text/plain": [
              "<IPython.core.display.HTML object>"
            ],
            "text/html": [
              "\n",
              "<style>\n",
              "\n",
              "@import url(\"https://fonts.googleapis.com/css2?family=Palanquin&display=swap\");\n",
              "\n",
              "body, html {\n",
              "  margin: 0;\n",
              "  padding: 0;\n",
              "  width: 100%;\n",
              "}\n",
              "\n",
              "#focontainer-6adec859-6243-4554-8204-7f7a9c83726b {\n",
              "  position: relative;\n",
              "  height: px;\n",
              "  display: block !important;\n",
              "}\n",
              "#foactivate-6adec859-6243-4554-8204-7f7a9c83726b {\n",
              "  font-weight: bold;\n",
              "  cursor: pointer;\n",
              "  font-size: 24px;\n",
              "  border-radius: 3px;\n",
              "  text-align: center;\n",
              "  padding: 0.5em;\n",
              "  color: rgb(255, 255, 255);\n",
              "  font-family: \"Palanquin\", sans-serif;\n",
              "  position: absolute;\n",
              "  left: 50%;\n",
              "  top: 50%;\n",
              "  width: 160px;\n",
              "  margin-left: -80px;\n",
              "  margin-top: -23px;\n",
              "  background: hsla(210,11%,15%, 0.8);\n",
              "  border: none;\n",
              "}\n",
              "#foactivate-6adec859-6243-4554-8204-7f7a9c83726b:focus {\n",
              "  outline: none;\n",
              "}\n",
              "#fooverlay-6adec859-6243-4554-8204-7f7a9c83726b {\n",
              "  width: 100%;\n",
              "  height: 100%;\n",
              "  background: hsla(208, 7%, 46%, 0.7);\n",
              "  position: absolute;\n",
              "  top: 0;\n",
              "  left: 0;\n",
              "  display: none;\n",
              "  cursor: pointer;\n",
              "}\n",
              "</style>\n",
              "<div id=\"focontainer-6adec859-6243-4554-8204-7f7a9c83726b\" style=\"display: none;\">\n",
              "   <div id=\"fooverlay-6adec859-6243-4554-8204-7f7a9c83726b\">\n",
              "      <button id=\"foactivate-6adec859-6243-4554-8204-7f7a9c83726b\" >Activate</button>\n",
              "   </div>\n",
              "</div>"
            ]
          },
          "metadata": {}
        }
      ]
    },
    {
      "cell_type": "markdown",
      "source": [
        "**Memilih sampel tertentu**\n",
        "<br>Memilih gambar dalam Aplikasi dengan menekan kotak centang saat gambar diarahkan. Setelah itu, dapat membentuk tampilan yang hanya berisikan sampel-sampel yang dipilih dengan mengeklik tanda centang berwarna oranye yang menunjukkan jumlah sampel yang dipilih di pojok kiri atas dan menekan *Only show selected samples*."
      ],
      "metadata": {
        "id": "ny1200OIj-OB"
      }
    },
    {
      "cell_type": "code",
      "source": [
        "# Click the down caret on the `faster_rcnn` field of Fields Sidebar\n",
        "# and apply a confidence threshold\n",
        "session.show()"
      ],
      "metadata": {
        "colab": {
          "base_uri": "https://localhost:8080/",
          "height": 804
        },
        "id": "ubH6AFoNbTpM",
        "outputId": "d768dad7-7dc4-4f4e-ef2c-e1d9a5bfe32b"
      },
      "execution_count": 15,
      "outputs": [
        {
          "output_type": "display_data",
          "data": {
            "text/plain": [
              "<IPython.core.display.HTML object>"
            ],
            "text/html": [
              "\n",
              "<style>\n",
              "\n",
              "@import url(\"https://fonts.googleapis.com/css2?family=Palanquin&display=swap\");\n",
              "\n",
              "body, html {\n",
              "  margin: 0;\n",
              "  padding: 0;\n",
              "  width: 100%;\n",
              "}\n",
              "\n",
              "#focontainer-9517a8a2-a898-40d2-82c5-13eb2a780a59 {\n",
              "  position: relative;\n",
              "  height: px;\n",
              "  display: block !important;\n",
              "}\n",
              "#foactivate-9517a8a2-a898-40d2-82c5-13eb2a780a59 {\n",
              "  font-weight: bold;\n",
              "  cursor: pointer;\n",
              "  font-size: 24px;\n",
              "  border-radius: 3px;\n",
              "  text-align: center;\n",
              "  padding: 0.5em;\n",
              "  color: rgb(255, 255, 255);\n",
              "  font-family: \"Palanquin\", sans-serif;\n",
              "  position: absolute;\n",
              "  left: 50%;\n",
              "  top: 50%;\n",
              "  width: 160px;\n",
              "  margin-left: -80px;\n",
              "  margin-top: -23px;\n",
              "  background: hsla(210,11%,15%, 0.8);\n",
              "  border: none;\n",
              "}\n",
              "#foactivate-9517a8a2-a898-40d2-82c5-13eb2a780a59:focus {\n",
              "  outline: none;\n",
              "}\n",
              "#fooverlay-9517a8a2-a898-40d2-82c5-13eb2a780a59 {\n",
              "  width: 100%;\n",
              "  height: 100%;\n",
              "  background: hsla(208, 7%, 46%, 0.7);\n",
              "  position: absolute;\n",
              "  top: 0;\n",
              "  left: 0;\n",
              "  display: none;\n",
              "  cursor: pointer;\n",
              "}\n",
              "</style>\n",
              "<div id=\"focontainer-9517a8a2-a898-40d2-82c5-13eb2a780a59\" style=\"display: none;\">\n",
              "   <div id=\"fooverlay-9517a8a2-a898-40d2-82c5-13eb2a780a59\">\n",
              "      <button id=\"foactivate-9517a8a2-a898-40d2-82c5-13eb2a780a59\" >Activate</button>\n",
              "   </div>\n",
              "</div>"
            ]
          },
          "metadata": {}
        }
      ]
    },
    {
      "cell_type": "markdown",
      "source": [
        "**Penentuan *Thresholding* di Python**\n",
        "<br>FiftyOne menawarkan fitur untuk menulis pernyataan yang dapat mencocokkan, menyortir, dan memfilter deteksi berdasarkan sifat-sifatnya. Untuk informasi lebih lanjut, lihat bagian DatasetViews.\n",
        "<br>Misalnya, bisa membuat sebuah tampilan secara otomatis yang hanya menampilkan deteksi dengan tingkat kepercayaan minimal 0,75 seperti di bawah:\n",
        "<br>Parameter only_matches=False. Saat menyaring label, biasanya sampel yang tak lagi memiliki label akan dihilangkan dari tampilan. Tetapi, saat evaluasi, tidak menginginkan hal tersebut karena bisa mempengaruhi perbandingan hasil antar tampilan. Dengan mengatur only_matches=False, memastikan bahwa semua sampel tetap ada, meskipun ada yang tak memiliki label."
      ],
      "metadata": {
        "id": "hgIIxBn4l_Jd"
      }
    },
    {
      "cell_type": "code",
      "source": [
        "from fiftyone import ViewField as F\n",
        "\n",
        "# Only contains detections with confidence >= 0.75\n",
        "high_conf_view = predictions_view.filter_labels(\"faster_rcnn\", F(\"confidence\") > 0.75, only_matches=False)"
      ],
      "metadata": {
        "id": "ZEk2jwblbW3N"
      },
      "execution_count": 16,
      "outputs": []
    },
    {
      "cell_type": "code",
      "source": [
        "# Print some information about the view\n",
        "print(high_conf_view)"
      ],
      "metadata": {
        "colab": {
          "base_uri": "https://localhost:8080/"
        },
        "id": "n4jN9FqRbYhG",
        "outputId": "3e31960e-d30b-4b98-c129-1931a204fcd3"
      },
      "execution_count": 17,
      "outputs": [
        {
          "output_type": "stream",
          "name": "stdout",
          "text": [
            "Dataset:     evaluate-detections-tutorial\n",
            "Media type:  image\n",
            "Num samples: 100\n",
            "Sample fields:\n",
            "    id:           fiftyone.core.fields.ObjectIdField\n",
            "    filepath:     fiftyone.core.fields.StringField\n",
            "    tags:         fiftyone.core.fields.ListField(fiftyone.core.fields.StringField)\n",
            "    metadata:     fiftyone.core.fields.EmbeddedDocumentField(fiftyone.core.metadata.ImageMetadata)\n",
            "    ground_truth: fiftyone.core.fields.EmbeddedDocumentField(fiftyone.core.labels.Detections)\n",
            "    faster_rcnn:  fiftyone.core.fields.EmbeddedDocumentField(fiftyone.core.labels.Detections)\n",
            "    eval_tp:      fiftyone.core.fields.IntField\n",
            "    eval_fp:      fiftyone.core.fields.IntField\n",
            "    eval_fn:      fiftyone.core.fields.IntField\n",
            "View stages:\n",
            "    1. Take(size=100, seed=51)\n",
            "    2. FilterLabels(field='faster_rcnn', filter={'$gt': ['$$this.confidence', 0.75]}, only_matches=False, trajectories=False)\n"
          ]
        }
      ]
    },
    {
      "cell_type": "code",
      "source": [
        "# Print a prediction from the view to verify that its confidence is > 0.75\n",
        "sample = high_conf_view.first()\n",
        "print(sample.faster_rcnn.detections[0])"
      ],
      "metadata": {
        "colab": {
          "base_uri": "https://localhost:8080/"
        },
        "id": "dCnL29Lrba2F",
        "outputId": "2a807e44-1c67-47c3-bc31-fa35fae40d97"
      },
      "execution_count": 18,
      "outputs": [
        {
          "output_type": "stream",
          "name": "stdout",
          "text": [
            "<Detection: {\n",
            "    'id': '65105565dcc6f0478f78ee5d',\n",
            "    'attributes': {},\n",
            "    'tags': [],\n",
            "    'label': 'person',\n",
            "    'bounding_box': [\n",
            "        0.2085207223892212,\n",
            "        0.4248880043189396,\n",
            "        0.20568811893463135,\n",
            "        0.2677846613289422,\n",
            "    ],\n",
            "    'mask': None,\n",
            "    'confidence': 0.9985470175743103,\n",
            "    'index': None,\n",
            "}>\n"
          ]
        }
      ]
    },
    {
      "cell_type": "code",
      "source": [
        "# Load high confidence view in the App\n",
        "session.view = high_conf_view"
      ],
      "metadata": {
        "colab": {
          "base_uri": "https://localhost:8080/",
          "height": 804
        },
        "id": "lEMB_sArbf5h",
        "outputId": "0088b7b4-18d6-4821-96da-9afb843695ba"
      },
      "execution_count": 19,
      "outputs": [
        {
          "output_type": "display_data",
          "data": {
            "text/plain": [
              "<IPython.core.display.HTML object>"
            ],
            "text/html": [
              "\n",
              "<style>\n",
              "\n",
              "@import url(\"https://fonts.googleapis.com/css2?family=Palanquin&display=swap\");\n",
              "\n",
              "body, html {\n",
              "  margin: 0;\n",
              "  padding: 0;\n",
              "  width: 100%;\n",
              "}\n",
              "\n",
              "#focontainer-a1f36d14-8f86-4866-84e4-ed21606d3ad3 {\n",
              "  position: relative;\n",
              "  height: px;\n",
              "  display: block !important;\n",
              "}\n",
              "#foactivate-a1f36d14-8f86-4866-84e4-ed21606d3ad3 {\n",
              "  font-weight: bold;\n",
              "  cursor: pointer;\n",
              "  font-size: 24px;\n",
              "  border-radius: 3px;\n",
              "  text-align: center;\n",
              "  padding: 0.5em;\n",
              "  color: rgb(255, 255, 255);\n",
              "  font-family: \"Palanquin\", sans-serif;\n",
              "  position: absolute;\n",
              "  left: 50%;\n",
              "  top: 50%;\n",
              "  width: 160px;\n",
              "  margin-left: -80px;\n",
              "  margin-top: -23px;\n",
              "  background: hsla(210,11%,15%, 0.8);\n",
              "  border: none;\n",
              "}\n",
              "#foactivate-a1f36d14-8f86-4866-84e4-ed21606d3ad3:focus {\n",
              "  outline: none;\n",
              "}\n",
              "#fooverlay-a1f36d14-8f86-4866-84e4-ed21606d3ad3 {\n",
              "  width: 100%;\n",
              "  height: 100%;\n",
              "  background: hsla(208, 7%, 46%, 0.7);\n",
              "  position: absolute;\n",
              "  top: 0;\n",
              "  left: 0;\n",
              "  display: none;\n",
              "  cursor: pointer;\n",
              "}\n",
              "</style>\n",
              "<div id=\"focontainer-a1f36d14-8f86-4866-84e4-ed21606d3ad3\" style=\"display: none;\">\n",
              "   <div id=\"fooverlay-a1f36d14-8f86-4866-84e4-ed21606d3ad3\">\n",
              "      <button id=\"foactivate-a1f36d14-8f86-4866-84e4-ed21606d3ad3\" >Activate</button>\n",
              "   </div>\n",
              "</div>"
            ]
          },
          "metadata": {}
        }
      ]
    },
    {
      "cell_type": "code",
      "source": [
        "session.view = predictions_view"
      ],
      "metadata": {
        "colab": {
          "base_uri": "https://localhost:8080/",
          "height": 804
        },
        "id": "GE8ZLl1ZbicU",
        "outputId": "dd6f834c-ca7b-49b6-efcb-e07226e4ab9c"
      },
      "execution_count": 20,
      "outputs": [
        {
          "output_type": "display_data",
          "data": {
            "text/plain": [
              "<IPython.core.display.HTML object>"
            ],
            "text/html": [
              "\n",
              "<style>\n",
              "\n",
              "@import url(\"https://fonts.googleapis.com/css2?family=Palanquin&display=swap\");\n",
              "\n",
              "body, html {\n",
              "  margin: 0;\n",
              "  padding: 0;\n",
              "  width: 100%;\n",
              "}\n",
              "\n",
              "#focontainer-2be07bde-be31-4df9-8373-20c8d3f2bc0c {\n",
              "  position: relative;\n",
              "  height: px;\n",
              "  display: block !important;\n",
              "}\n",
              "#foactivate-2be07bde-be31-4df9-8373-20c8d3f2bc0c {\n",
              "  font-weight: bold;\n",
              "  cursor: pointer;\n",
              "  font-size: 24px;\n",
              "  border-radius: 3px;\n",
              "  text-align: center;\n",
              "  padding: 0.5em;\n",
              "  color: rgb(255, 255, 255);\n",
              "  font-family: \"Palanquin\", sans-serif;\n",
              "  position: absolute;\n",
              "  left: 50%;\n",
              "  top: 50%;\n",
              "  width: 160px;\n",
              "  margin-left: -80px;\n",
              "  margin-top: -23px;\n",
              "  background: hsla(210,11%,15%, 0.8);\n",
              "  border: none;\n",
              "}\n",
              "#foactivate-2be07bde-be31-4df9-8373-20c8d3f2bc0c:focus {\n",
              "  outline: none;\n",
              "}\n",
              "#fooverlay-2be07bde-be31-4df9-8373-20c8d3f2bc0c {\n",
              "  width: 100%;\n",
              "  height: 100%;\n",
              "  background: hsla(208, 7%, 46%, 0.7);\n",
              "  position: absolute;\n",
              "  top: 0;\n",
              "  left: 0;\n",
              "  display: none;\n",
              "  cursor: pointer;\n",
              "}\n",
              "</style>\n",
              "<div id=\"focontainer-2be07bde-be31-4df9-8373-20c8d3f2bc0c\" style=\"display: none;\">\n",
              "   <div id=\"fooverlay-2be07bde-be31-4df9-8373-20c8d3f2bc0c\">\n",
              "      <button id=\"foactivate-2be07bde-be31-4df9-8373-20c8d3f2bc0c\" >Activate</button>\n",
              "   </div>\n",
              "</div>"
            ]
          },
          "metadata": {}
        }
      ]
    },
    {
      "cell_type": "markdown",
      "source": [
        "**Melakukan evaluasi**\n",
        "<br>Melakukan evaluasi atas sampel dengan fungsi evaluate_detections(). Harus diperhatikan bahwa fungsi ini dapat ditemukan di kelas Dataset dan DatasetView, yang artinya bisa mengaplikasikan evaluasi pada high_conf_view untuk mengukur seberapa baik prediksi dengan tingkat *confidence* dalam dataset.\n",
        "<br>Secara standar, fungsi ini akan mengadopsi protokol evaluasi COCO dan beberapa kelebihan lain yang bisa dimanfaatkan kemudian."
      ],
      "metadata": {
        "id": "aj1cwt7RppNt"
      }
    },
    {
      "cell_type": "code",
      "source": [
        "# Evaluate the predictions in the `faster_rcnn` field of our `high_conf_view`\n",
        "# with respect to the objects in the `ground_truth` field\n",
        "results = high_conf_view.evaluate_detections(\n",
        "    \"faster_rcnn\",\n",
        "    gt_field=\"ground_truth\",\n",
        "    eval_key=\"eval\",\n",
        "    compute_mAP=True,\n",
        ")"
      ],
      "metadata": {
        "colab": {
          "base_uri": "https://localhost:8080/"
        },
        "id": "H8lyoErrbl-Z",
        "outputId": "6f53c8b3-fb24-4f93-9694-e3a09ae8328e"
      },
      "execution_count": 21,
      "outputs": [
        {
          "output_type": "stream",
          "name": "stdout",
          "text": [
            "Evaluating detections...\n"
          ]
        },
        {
          "output_type": "stream",
          "name": "stderr",
          "text": [
            "INFO:fiftyone.utils.eval.detection:Evaluating detections...\n"
          ]
        },
        {
          "output_type": "stream",
          "name": "stdout",
          "text": [
            " 100% |█████████████████| 100/100 [3.9s elapsed, 0s remaining, 26.6 samples/s]      \n"
          ]
        },
        {
          "output_type": "stream",
          "name": "stderr",
          "text": [
            "INFO:eta.core.utils: 100% |█████████████████| 100/100 [3.9s elapsed, 0s remaining, 26.6 samples/s]      \n"
          ]
        },
        {
          "output_type": "stream",
          "name": "stdout",
          "text": [
            "Performing IoU sweep...\n"
          ]
        },
        {
          "output_type": "stream",
          "name": "stderr",
          "text": [
            "INFO:fiftyone.utils.eval.coco:Performing IoU sweep...\n"
          ]
        },
        {
          "output_type": "stream",
          "name": "stdout",
          "text": [
            " 100% |█████████████████| 100/100 [1.4s elapsed, 0s remaining, 63.0 samples/s]         \n"
          ]
        },
        {
          "output_type": "stream",
          "name": "stderr",
          "text": [
            "INFO:eta.core.utils: 100% |█████████████████| 100/100 [1.4s elapsed, 0s remaining, 63.0 samples/s]         \n"
          ]
        }
      ]
    },
    {
      "cell_type": "markdown",
      "source": [
        "**Mengkompilasi hasil**\n",
        "<br>Objek yang dihasilkan dari prosedur evaluasi memberikan banyak cara yang memudahkan untuk menganalisis prediksi.\n",
        "<br>Misalnya, menampilkan sebuah laporan klasifikasi dari 10 kelas terbanyak dalam dataset:"
      ],
      "metadata": {
        "id": "DWJT0nkBqTqA"
      }
    },
    {
      "cell_type": "code",
      "source": [
        "# Get the 10 most common classes in the dataset\n",
        "counts = dataset.count_values(\"ground_truth.detections.label\")\n",
        "classes_top10 = sorted(counts, key=counts.get, reverse=True)[:10]\n",
        "\n",
        "# Print a classification report for the top-10 classes\n",
        "results.print_report(classes=classes_top10)"
      ],
      "metadata": {
        "colab": {
          "base_uri": "https://localhost:8080/"
        },
        "id": "uAwwGwRMboLv",
        "outputId": "4fd1a8fb-b29d-4812-f529-e80471f05b81"
      },
      "execution_count": 22,
      "outputs": [
        {
          "output_type": "stream",
          "name": "stdout",
          "text": [
            "               precision    recall  f1-score   support\n",
            "\n",
            "       person       0.89      0.75      0.82       228\n",
            "          car       0.71      0.68      0.69        25\n",
            "        chair       0.78      0.53      0.63        40\n",
            "         book       0.63      0.23      0.33        53\n",
            "       bottle       0.50      0.67      0.57        27\n",
            "          cup       0.77      0.59      0.67        29\n",
            " dining table       0.50      0.33      0.40        21\n",
            "traffic light       0.00      0.00      0.00         1\n",
            "         bowl       0.80      0.24      0.36        17\n",
            "      handbag       0.60      0.21      0.32        14\n",
            "\n",
            "    micro avg       0.78      0.60      0.67       455\n",
            "    macro avg       0.62      0.42      0.48       455\n",
            " weighted avg       0.78      0.60      0.66       455\n",
            "\n"
          ]
        }
      ]
    },
    {
      "cell_type": "markdown",
      "source": [
        "Mengkalkulasi mean average-precision (mAP) dari alat deteksi:"
      ],
      "metadata": {
        "id": "APy3lN7iqvI9"
      }
    },
    {
      "cell_type": "code",
      "source": [
        "print(results.mAP())"
      ],
      "metadata": {
        "colab": {
          "base_uri": "https://localhost:8080/"
        },
        "id": "a1V3JX0lbqQN",
        "outputId": "4af00a8a-b3f8-4130-9ebd-a347028c1548"
      },
      "execution_count": 23,
      "outputs": [
        {
          "output_type": "stream",
          "name": "stdout",
          "text": [
            "0.41052451745271507\n"
          ]
        }
      ]
    },
    {
      "cell_type": "markdown",
      "source": [
        "<br>Mengingat evaluate_detections() menerapkan protokol evaluasi COCO yang resmi, nilai mAP ini akan sejalan dengan hasil yang diberikan oleh pycocotools.\n",
        "<br>Selain itu, bisa menampilkan kurva precision-recall (PR) untuk beberapa kelas spesifik dalam model:"
      ],
      "metadata": {
        "id": "W1lg66EfrEQk"
      }
    },
    {
      "cell_type": "code",
      "source": [
        "plot = results.plot_pr_curves(classes=[\"person\", \"car\"])\n",
        "plot.show()"
      ],
      "metadata": {
        "colab": {
          "base_uri": "https://localhost:8080/",
          "height": 542
        },
        "id": "5KcK3W79br-h",
        "outputId": "899e91a3-9de2-4de9-a625-9fd0de86b7e0"
      },
      "execution_count": 24,
      "outputs": [
        {
          "output_type": "display_data",
          "data": {
            "text/html": [
              "<html>\n",
              "<head><meta charset=\"utf-8\" /></head>\n",
              "<body>\n",
              "    <div>            <script src=\"https://cdnjs.cloudflare.com/ajax/libs/mathjax/2.7.5/MathJax.js?config=TeX-AMS-MML_SVG\"></script><script type=\"text/javascript\">if (window.MathJax && window.MathJax.Hub && window.MathJax.Hub.Config) {window.MathJax.Hub.Config({SVG: {font: \"STIX-Web\"}});}</script>                <script type=\"text/javascript\">window.PlotlyConfig = {MathJaxConfig: 'local'};</script>\n",
              "        <script charset=\"utf-8\" src=\"https://cdn.plot.ly/plotly-2.24.1.min.js\"></script>                <div id=\"25cdc5a8-6a19-4ab0-960e-b94c46c85fca\" class=\"plotly-graph-div\" style=\"height:525px; width:100%;\"></div>            <script type=\"text/javascript\">                                    window.PLOTLYENV=window.PLOTLYENV || {};                                    if (document.getElementById(\"25cdc5a8-6a19-4ab0-960e-b94c46c85fca\")) {                    Plotly.newPlot(                        \"25cdc5a8-6a19-4ab0-960e-b94c46c85fca\",                        [{\"customdata\":[0.9991157650947571,0.9991109371185303,0.9991109371185303,0.9991109371185303,0.9991109371185303,0.9963341414928436,0.9963341414928436,0.9963341414928436,0.9963341414928436,0.8983470618724823,0.8983470618724823,0.8983470618724823,0.8983470618724823,0.8962024211883545,0.8962024211883545,0.8962024211883545,0.8962024211883545,0.8943624913692474,0.8943624913692474,0.8943624913692474,0.8943624913692474,0.8933577716350556,0.8933577716350556,0.8933577716350556,0.8933577716350556,0.8910661101341247,0.8910661101341247,0.8910661101341247,0.8910661101341247,0.7918791174888611,0.7918791174888611,0.7918791174888611,0.7918791174888611,0.7899545550346374,0.7899545550346374,0.7899545550346374,0.7899545550346374,0.7877341032028198,0.7877341032028198,0.7877341032028198,0.7877341032028198,0.6854089200496674,0.6854089200496674,0.6854089200496674,0.6854089200496674,0.680893337726593,0.680893337726593,0.680893337726593,0.680893337726593,0.6804736435413361,0.6804736435413361,0.6804736435413361,0.6804736435413361,0.6802138328552246,0.6802138328552246,0.6802138328552246,0.6802138328552246,0.5774571776390076,0.5774571776390076,0.5774571776390076,0.5774571776390076,0.5589460670948029,0.5589460670948029,0.5589460670948029,0.5589460670948029,0.3909158408641815,0.3909158408641815,0.3909158408641815,0.3909158408641815,0.0,0.0,0.0,0.0,0.0,0.0,0.0,0.0,0.0,0.0,0.0,0.0,0.0,0.0,0.0,0.0,0.0,0.0,0.0,0.0,0.0,0.0,0.0,0.0,0.0,0.0,0.0,0.0,0.0,0.0,0.0,0.0],\"hovertemplate\":\"\\u003cb\\u003eclass: %{text}\\u003c\\u002fb\\u003e\\u003cbr\\u003erecall: %{x:.3f}\\u003cbr\\u003eprecision: %{y:.3f}\\u003cbr\\u003ethreshold: %{customdata:.3f}\\u003cextra\\u003e\\u003c\\u002fextra\\u003e\",\"line\":{\"color\":\"#3366CC\"},\"mode\":\"lines\",\"name\":\"car (AP = 0.512)\",\"text\":[\"car\",\"car\",\"car\",\"car\",\"car\",\"car\",\"car\",\"car\",\"car\",\"car\",\"car\",\"car\",\"car\",\"car\",\"car\",\"car\",\"car\",\"car\",\"car\",\"car\",\"car\",\"car\",\"car\",\"car\",\"car\",\"car\",\"car\",\"car\",\"car\",\"car\",\"car\",\"car\",\"car\",\"car\",\"car\",\"car\",\"car\",\"car\",\"car\",\"car\",\"car\",\"car\",\"car\",\"car\",\"car\",\"car\",\"car\",\"car\",\"car\",\"car\",\"car\",\"car\",\"car\",\"car\",\"car\",\"car\",\"car\",\"car\",\"car\",\"car\",\"car\",\"car\",\"car\",\"car\",\"car\",\"car\",\"car\",\"car\",\"car\",\"car\",\"car\",\"car\",\"car\",\"car\",\"car\",\"car\",\"car\",\"car\",\"car\",\"car\",\"car\",\"car\",\"car\",\"car\",\"car\",\"car\",\"car\",\"car\",\"car\",\"car\",\"car\",\"car\",\"car\",\"car\",\"car\",\"car\",\"car\",\"car\",\"car\",\"car\",\"car\"],\"x\":[0.0,0.01,0.02,0.03,0.04,0.05,0.06,0.07,0.08,0.09,0.1,0.11,0.12,0.13,0.14,0.15,0.16,0.17,0.18,0.19,0.2,0.21,0.22,0.23,0.24,0.25,0.26,0.27,0.28,0.29,0.3,0.31,0.32,0.33,0.34,0.35000000000000003,0.36,0.37,0.38,0.39,0.4,0.41000000000000003,0.42,0.43,0.44,0.45,0.46,0.47000000000000003,0.48,0.49,0.5,0.51,0.52,0.53,0.54,0.55,0.56,0.5700000000000001,0.58,0.59,0.6,0.61,0.62,0.63,0.64,0.65,0.66,0.67,0.68,0.6900000000000001,0.7000000000000001,0.71,0.72,0.73,0.74,0.75,0.76,0.77,0.78,0.79,0.8,0.81,0.8200000000000001,0.8300000000000001,0.84,0.85,0.86,0.87,0.88,0.89,0.9,0.91,0.92,0.93,0.9400000000000001,0.9500000000000001,0.96,0.97,0.98,0.99,1.0],\"y\":[0.95,0.95,0.95,0.95,0.95,0.9133333333333333,0.9133333333333333,0.9133333333333333,0.9133333333333333,0.9,0.9,0.9,0.9,0.9,0.9,0.9,0.9,0.875,0.875,0.875,0.875,0.8638888888888889,0.8638888888888889,0.8638888888888889,0.8638888888888889,0.8355555555555556,0.8355555555555556,0.8355555555555556,0.8355555555555556,0.788888888888889,0.788888888888889,0.788888888888889,0.788888888888889,0.7818181818181819,0.7818181818181819,0.7818181818181819,0.7818181818181819,0.7666666666666667,0.7666666666666667,0.7666666666666667,0.7666666666666667,0.7,0.7,0.7,0.7,0.7,0.7,0.7,0.7,0.6533333333333334,0.6533333333333334,0.6533333333333334,0.6533333333333334,0.6533333333333334,0.6533333333333334,0.6533333333333334,0.6533333333333334,0.5326797385620916,0.5326797385620916,0.5326797385620916,0.5326797385620916,0.5111111111111112,0.5111111111111112,0.5111111111111112,0.5111111111111112,0.3541666666666667,0.3541666666666667,0.3541666666666667,0.3541666666666667,0.0,0.0,0.0,0.0,0.0,0.0,0.0,0.0,0.0,0.0,0.0,0.0,0.0,0.0,0.0,0.0,0.0,0.0,0.0,0.0,0.0,0.0,0.0,0.0,0.0,0.0,0.0,0.0,0.0,0.0,0.0,0.0],\"type\":\"scatter\"},{\"customdata\":[0.9999282360076904,0.9996941804885864,0.9995936930179596,0.999358743429184,0.999020391702652,0.9904468476772308,0.8993999421596527,0.8993162691593171,0.8990761995315552,0.898973822593689,0.898655891418457,0.8984188795089721,0.8981088995933533,0.89768186211586,0.8975117325782775,0.8972228109836579,0.8959497034549713,0.8951125204563141,0.8917108595371246,0.8879831731319427,0.8853843688964844,0.7963734447956086,0.7959574699401856,0.7954911470413208,0.7946987271308898,0.794413948059082,0.7939898610115051,0.7933707654476165,0.7928388357162476,0.7920763850212097,0.7902258574962616,0.7879810273647309,0.7840853035449982,0.7815454125404357,0.7675826549530029,0.6921318054199219,0.6919061362743377,0.6912816941738129,0.6907323837280274,0.689476054906845,0.6887458801269531,0.6878284633159637,0.6860144019126893,0.6843199014663697,0.6829968810081481,0.68112433552742,0.6790103673934936,0.6738766074180603,0.6703194558620453,0.6647301137447357,0.656583285331726,0.6467640221118927,0.5697447061538696,0.5664196670055389,0.5612861454486847,0.5565585613250732,0.5517470955848693,0.46509451866149903,0.461443167924881,0.458339923620224,0.45392451882362367,0.4498176395893097,0.4418766856193542,0.434389716386795,0.3496585667133331,0.3427507162094116,0.26311049461364744,0.25887123942375184,0.25413410663604735,0.2474713981151581,0.1591921031475067,0.08255146145820617,0.08046822547912598,0.07799088954925537,0.0,0.0,0.0,0.0,0.0,0.0,0.0,0.0,0.0,0.0,0.0,0.0,0.0,0.0,0.0,0.0,0.0,0.0,0.0,0.0,0.0,0.0,0.0,0.0,0.0,0.0,0.0],\"hovertemplate\":\"\\u003cb\\u003eclass: %{text}\\u003c\\u002fb\\u003e\\u003cbr\\u003erecall: %{x:.3f}\\u003cbr\\u003eprecision: %{y:.3f}\\u003cbr\\u003ethreshold: %{customdata:.3f}\\u003cextra\\u003e\\u003c\\u002fextra\\u003e\",\"line\":{\"color\":\"#DC3912\"},\"mode\":\"lines\",\"name\":\"person (AP = 0.464)\",\"text\":[\"person\",\"person\",\"person\",\"person\",\"person\",\"person\",\"person\",\"person\",\"person\",\"person\",\"person\",\"person\",\"person\",\"person\",\"person\",\"person\",\"person\",\"person\",\"person\",\"person\",\"person\",\"person\",\"person\",\"person\",\"person\",\"person\",\"person\",\"person\",\"person\",\"person\",\"person\",\"person\",\"person\",\"person\",\"person\",\"person\",\"person\",\"person\",\"person\",\"person\",\"person\",\"person\",\"person\",\"person\",\"person\",\"person\",\"person\",\"person\",\"person\",\"person\",\"person\",\"person\",\"person\",\"person\",\"person\",\"person\",\"person\",\"person\",\"person\",\"person\",\"person\",\"person\",\"person\",\"person\",\"person\",\"person\",\"person\",\"person\",\"person\",\"person\",\"person\",\"person\",\"person\",\"person\",\"person\",\"person\",\"person\",\"person\",\"person\",\"person\",\"person\",\"person\",\"person\",\"person\",\"person\",\"person\",\"person\",\"person\",\"person\",\"person\",\"person\",\"person\",\"person\",\"person\",\"person\",\"person\",\"person\",\"person\",\"person\",\"person\",\"person\"],\"x\":[0.0,0.01,0.02,0.03,0.04,0.05,0.06,0.07,0.08,0.09,0.1,0.11,0.12,0.13,0.14,0.15,0.16,0.17,0.18,0.19,0.2,0.21,0.22,0.23,0.24,0.25,0.26,0.27,0.28,0.29,0.3,0.31,0.32,0.33,0.34,0.35000000000000003,0.36,0.37,0.38,0.39,0.4,0.41000000000000003,0.42,0.43,0.44,0.45,0.46,0.47000000000000003,0.48,0.49,0.5,0.51,0.52,0.53,0.54,0.55,0.56,0.5700000000000001,0.58,0.59,0.6,0.61,0.62,0.63,0.64,0.65,0.66,0.67,0.68,0.6900000000000001,0.7000000000000001,0.71,0.72,0.73,0.74,0.75,0.76,0.77,0.78,0.79,0.8,0.81,0.8200000000000001,0.8300000000000001,0.84,0.85,0.86,0.87,0.88,0.89,0.9,0.91,0.92,0.93,0.9400000000000001,0.9500000000000001,0.96,0.97,0.98,0.99,1.0],\"y\":[1.0,0.8791666666666668,0.8791666666666668,0.867714196372733,0.8673076923076923,0.8589743589743591,0.8478070175438596,0.8428070175438597,0.8363372093023255,0.8321705426356589,0.8237433862433863,0.8199769585253456,0.8045852534562211,0.7986306576644162,0.7975822705676419,0.7929129720853859,0.7874803479719107,0.7865208152226407,0.7806629720853859,0.7746600860824999,0.772747914170328,0.7417462721342032,0.7410997204100653,0.7408045977011495,0.7408045977011495,0.739425287356322,0.7371842168803239,0.7335163996948894,0.7324637681159419,0.7324637681159419,0.7271671336888729,0.7225880180425637,0.7190958164642376,0.7167465513210194,0.7109041365138926,0.6660744810744811,0.6656776556776558,0.6656776556776558,0.6615580320217418,0.6586069486069486,0.6586069486069486,0.6555469008660497,0.6524712741544424,0.649022051981816,0.6468857403263344,0.6415297875358551,0.6404215908145436,0.6350135262918736,0.6325345540109265,0.6262614805037673,0.6233282068808385,0.6188272934056995,0.5514900986136362,0.5487858739658112,0.5456000751686314,0.5414907846341857,0.5389292801954743,0.4609084057015921,0.4582498669695285,0.4556130117519929,0.45380100803365997,0.45209800176062354,0.44690205809083083,0.44327818953827086,0.3592846155062833,0.35553403454809684,0.2743250462297103,0.27294360509958715,0.27099772712280135,0.2661187364944489,0.17690769973116427,0.09161676646706587,0.09112426035502959,0.08863636363636364,0.0,0.0,0.0,0.0,0.0,0.0,0.0,0.0,0.0,0.0,0.0,0.0,0.0,0.0,0.0,0.0,0.0,0.0,0.0,0.0,0.0,0.0,0.0,0.0,0.0,0.0,0.0],\"type\":\"scatter\"}],                        {\"template\":{\"data\":{\"barpolar\":[{\"marker\":{\"line\":{\"color\":\"rgb(237,237,237)\",\"width\":0.5},\"pattern\":{\"fillmode\":\"overlay\",\"size\":10,\"solidity\":0.2}},\"type\":\"barpolar\"}],\"bar\":[{\"error_x\":{\"color\":\"rgb(51,51,51)\"},\"error_y\":{\"color\":\"rgb(51,51,51)\"},\"marker\":{\"line\":{\"color\":\"rgb(237,237,237)\",\"width\":0.5},\"pattern\":{\"fillmode\":\"overlay\",\"size\":10,\"solidity\":0.2}},\"type\":\"bar\"}],\"carpet\":[{\"aaxis\":{\"endlinecolor\":\"rgb(51,51,51)\",\"gridcolor\":\"white\",\"linecolor\":\"white\",\"minorgridcolor\":\"white\",\"startlinecolor\":\"rgb(51,51,51)\"},\"baxis\":{\"endlinecolor\":\"rgb(51,51,51)\",\"gridcolor\":\"white\",\"linecolor\":\"white\",\"minorgridcolor\":\"white\",\"startlinecolor\":\"rgb(51,51,51)\"},\"type\":\"carpet\"}],\"choropleth\":[{\"colorbar\":{\"outlinewidth\":0,\"tickcolor\":\"rgb(237,237,237)\",\"ticklen\":6,\"ticks\":\"inside\"},\"type\":\"choropleth\"}],\"contourcarpet\":[{\"colorbar\":{\"outlinewidth\":0,\"tickcolor\":\"rgb(237,237,237)\",\"ticklen\":6,\"ticks\":\"inside\"},\"type\":\"contourcarpet\"}],\"contour\":[{\"colorbar\":{\"outlinewidth\":0,\"tickcolor\":\"rgb(237,237,237)\",\"ticklen\":6,\"ticks\":\"inside\"},\"colorscale\":[[0,\"rgb(20,44,66)\"],[1,\"rgb(90,179,244)\"]],\"type\":\"contour\"}],\"heatmapgl\":[{\"colorbar\":{\"outlinewidth\":0,\"tickcolor\":\"rgb(237,237,237)\",\"ticklen\":6,\"ticks\":\"inside\"},\"colorscale\":[[0,\"rgb(20,44,66)\"],[1,\"rgb(90,179,244)\"]],\"type\":\"heatmapgl\"}],\"heatmap\":[{\"colorbar\":{\"outlinewidth\":0,\"tickcolor\":\"rgb(237,237,237)\",\"ticklen\":6,\"ticks\":\"inside\"},\"colorscale\":[[0,\"rgb(20,44,66)\"],[1,\"rgb(90,179,244)\"]],\"type\":\"heatmap\"}],\"histogram2dcontour\":[{\"colorbar\":{\"outlinewidth\":0,\"tickcolor\":\"rgb(237,237,237)\",\"ticklen\":6,\"ticks\":\"inside\"},\"colorscale\":[[0,\"rgb(20,44,66)\"],[1,\"rgb(90,179,244)\"]],\"type\":\"histogram2dcontour\"}],\"histogram2d\":[{\"colorbar\":{\"outlinewidth\":0,\"tickcolor\":\"rgb(237,237,237)\",\"ticklen\":6,\"ticks\":\"inside\"},\"colorscale\":[[0,\"rgb(20,44,66)\"],[1,\"rgb(90,179,244)\"]],\"type\":\"histogram2d\"}],\"histogram\":[{\"marker\":{\"pattern\":{\"fillmode\":\"overlay\",\"size\":10,\"solidity\":0.2}},\"type\":\"histogram\"}],\"mesh3d\":[{\"colorbar\":{\"outlinewidth\":0,\"tickcolor\":\"rgb(237,237,237)\",\"ticklen\":6,\"ticks\":\"inside\"},\"type\":\"mesh3d\"}],\"parcoords\":[{\"line\":{\"colorbar\":{\"outlinewidth\":0,\"tickcolor\":\"rgb(237,237,237)\",\"ticklen\":6,\"ticks\":\"inside\"}},\"type\":\"parcoords\"}],\"pie\":[{\"automargin\":true,\"type\":\"pie\"}],\"scatter3d\":[{\"line\":{\"colorbar\":{\"outlinewidth\":0,\"tickcolor\":\"rgb(237,237,237)\",\"ticklen\":6,\"ticks\":\"inside\"}},\"marker\":{\"colorbar\":{\"outlinewidth\":0,\"tickcolor\":\"rgb(237,237,237)\",\"ticklen\":6,\"ticks\":\"inside\"}},\"type\":\"scatter3d\"}],\"scattercarpet\":[{\"marker\":{\"colorbar\":{\"outlinewidth\":0,\"tickcolor\":\"rgb(237,237,237)\",\"ticklen\":6,\"ticks\":\"inside\"}},\"type\":\"scattercarpet\"}],\"scattergeo\":[{\"marker\":{\"colorbar\":{\"outlinewidth\":0,\"tickcolor\":\"rgb(237,237,237)\",\"ticklen\":6,\"ticks\":\"inside\"}},\"type\":\"scattergeo\"}],\"scattergl\":[{\"marker\":{\"colorbar\":{\"outlinewidth\":0,\"tickcolor\":\"rgb(237,237,237)\",\"ticklen\":6,\"ticks\":\"inside\"}},\"type\":\"scattergl\"}],\"scattermapbox\":[{\"marker\":{\"colorbar\":{\"outlinewidth\":0,\"tickcolor\":\"rgb(237,237,237)\",\"ticklen\":6,\"ticks\":\"inside\"}},\"type\":\"scattermapbox\"}],\"scatterpolargl\":[{\"marker\":{\"colorbar\":{\"outlinewidth\":0,\"tickcolor\":\"rgb(237,237,237)\",\"ticklen\":6,\"ticks\":\"inside\"}},\"type\":\"scatterpolargl\"}],\"scatterpolar\":[{\"marker\":{\"colorbar\":{\"outlinewidth\":0,\"tickcolor\":\"rgb(237,237,237)\",\"ticklen\":6,\"ticks\":\"inside\"}},\"type\":\"scatterpolar\"}],\"scatter\":[{\"fillpattern\":{\"fillmode\":\"overlay\",\"size\":10,\"solidity\":0.2},\"type\":\"scatter\"}],\"scatterternary\":[{\"marker\":{\"colorbar\":{\"outlinewidth\":0,\"tickcolor\":\"rgb(237,237,237)\",\"ticklen\":6,\"ticks\":\"inside\"}},\"type\":\"scatterternary\"}],\"surface\":[{\"colorbar\":{\"outlinewidth\":0,\"tickcolor\":\"rgb(237,237,237)\",\"ticklen\":6,\"ticks\":\"inside\"},\"colorscale\":[[0,\"rgb(20,44,66)\"],[1,\"rgb(90,179,244)\"]],\"type\":\"surface\"}],\"table\":[{\"cells\":{\"fill\":{\"color\":\"rgb(237,237,237)\"},\"line\":{\"color\":\"white\"}},\"header\":{\"fill\":{\"color\":\"rgb(217,217,217)\"},\"line\":{\"color\":\"white\"}},\"type\":\"table\"}]},\"layout\":{\"annotationdefaults\":{\"arrowhead\":0,\"arrowwidth\":1},\"autotypenumbers\":\"strict\",\"coloraxis\":{\"colorbar\":{\"outlinewidth\":0,\"tickcolor\":\"rgb(237,237,237)\",\"ticklen\":6,\"ticks\":\"inside\"}},\"colorscale\":{\"sequential\":[[0,\"rgb(20,44,66)\"],[1,\"rgb(90,179,244)\"]],\"sequentialminus\":[[0,\"rgb(20,44,66)\"],[1,\"rgb(90,179,244)\"]]},\"colorway\":[\"#F8766D\",\"#A3A500\",\"#00BF7D\",\"#00B0F6\",\"#E76BF3\"],\"font\":{\"color\":\"rgb(51,51,51)\"},\"geo\":{\"bgcolor\":\"white\",\"lakecolor\":\"white\",\"landcolor\":\"rgb(237,237,237)\",\"showlakes\":true,\"showland\":true,\"subunitcolor\":\"white\"},\"hoverlabel\":{\"align\":\"left\"},\"hovermode\":\"closest\",\"paper_bgcolor\":\"white\",\"plot_bgcolor\":\"rgb(237,237,237)\",\"polar\":{\"angularaxis\":{\"gridcolor\":\"white\",\"linecolor\":\"white\",\"showgrid\":true,\"tickcolor\":\"rgb(51,51,51)\",\"ticks\":\"outside\"},\"bgcolor\":\"rgb(237,237,237)\",\"radialaxis\":{\"gridcolor\":\"white\",\"linecolor\":\"white\",\"showgrid\":true,\"tickcolor\":\"rgb(51,51,51)\",\"ticks\":\"outside\"}},\"scene\":{\"xaxis\":{\"backgroundcolor\":\"rgb(237,237,237)\",\"gridcolor\":\"white\",\"gridwidth\":2,\"linecolor\":\"white\",\"showbackground\":true,\"showgrid\":true,\"tickcolor\":\"rgb(51,51,51)\",\"ticks\":\"outside\",\"zerolinecolor\":\"white\"},\"yaxis\":{\"backgroundcolor\":\"rgb(237,237,237)\",\"gridcolor\":\"white\",\"gridwidth\":2,\"linecolor\":\"white\",\"showbackground\":true,\"showgrid\":true,\"tickcolor\":\"rgb(51,51,51)\",\"ticks\":\"outside\",\"zerolinecolor\":\"white\"},\"zaxis\":{\"backgroundcolor\":\"rgb(237,237,237)\",\"gridcolor\":\"white\",\"gridwidth\":2,\"linecolor\":\"white\",\"showbackground\":true,\"showgrid\":true,\"tickcolor\":\"rgb(51,51,51)\",\"ticks\":\"outside\",\"zerolinecolor\":\"white\"}},\"shapedefaults\":{\"fillcolor\":\"black\",\"line\":{\"width\":0},\"opacity\":0.3},\"ternary\":{\"aaxis\":{\"gridcolor\":\"white\",\"linecolor\":\"white\",\"showgrid\":true,\"tickcolor\":\"rgb(51,51,51)\",\"ticks\":\"outside\"},\"baxis\":{\"gridcolor\":\"white\",\"linecolor\":\"white\",\"showgrid\":true,\"tickcolor\":\"rgb(51,51,51)\",\"ticks\":\"outside\"},\"bgcolor\":\"rgb(237,237,237)\",\"caxis\":{\"gridcolor\":\"white\",\"linecolor\":\"white\",\"showgrid\":true,\"tickcolor\":\"rgb(51,51,51)\",\"ticks\":\"outside\"}},\"xaxis\":{\"automargin\":true,\"gridcolor\":\"white\",\"linecolor\":\"white\",\"showgrid\":true,\"tickcolor\":\"rgb(51,51,51)\",\"ticks\":\"outside\",\"title\":{\"standoff\":15},\"zerolinecolor\":\"white\"},\"yaxis\":{\"automargin\":true,\"gridcolor\":\"white\",\"linecolor\":\"white\",\"showgrid\":true,\"tickcolor\":\"rgb(51,51,51)\",\"ticks\":\"outside\",\"title\":{\"standoff\":15},\"zerolinecolor\":\"white\"}}},\"shapes\":[{\"line\":{\"dash\":\"dash\"},\"type\":\"line\",\"x0\":0,\"x1\":1,\"y0\":1,\"y1\":0}],\"xaxis\":{\"range\":[0,1],\"constrain\":\"domain\",\"title\":{\"text\":\"Recall\"}},\"yaxis\":{\"range\":[0,1],\"constrain\":\"domain\",\"scaleanchor\":\"x\",\"scaleratio\":1,\"title\":{\"text\":\"Precision\"}},\"title\":{},\"margin\":{\"r\":0,\"t\":30,\"l\":0,\"b\":0}},                        {\"responsive\": true}                    ).then(function(){\n",
              "                            \n",
              "var gd = document.getElementById('25cdc5a8-6a19-4ab0-960e-b94c46c85fca');\n",
              "var x = new MutationObserver(function (mutations, observer) {{\n",
              "        var display = window.getComputedStyle(gd).display;\n",
              "        if (!display || display === 'none') {{\n",
              "            console.log([gd, 'removed!']);\n",
              "            Plotly.purge(gd);\n",
              "            observer.disconnect();\n",
              "        }}\n",
              "}});\n",
              "\n",
              "// Listen for the removal of the full notebook cells\n",
              "var notebookContainer = gd.closest('#notebook-container');\n",
              "if (notebookContainer) {{\n",
              "    x.observe(notebookContainer, {childList: true});\n",
              "}}\n",
              "\n",
              "// Listen for the clearing of the current output cell\n",
              "var outputEl = gd.closest('.output');\n",
              "if (outputEl) {{\n",
              "    x.observe(outputEl, {childList: true});\n",
              "}}\n",
              "\n",
              "                        })                };                            </script>        </div>\n",
              "</body>\n",
              "</html>"
            ]
          },
          "metadata": {}
        }
      ]
    },
    {
      "cell_type": "markdown",
      "source": [
        "**Analisis per sampel**\n",
        "<br>Prosedur evaluasi menambahkan beberapa kolom baru pada dataset yang berisi data penting untuk membantu menilai prediksi di tingkat sampel.\n",
        "<br>Dalam detail, setiap sampel sekarang memiliki kolom-kolom berikut:\n",
        "<br>- eval_tp: menghitung prediksi yang True Positive (TP) pada sampel tersebut.\n",
        "<br>- eval_fp: menghitung prediksi yang False Positive (FP) pada sampel tersebut.\n",
        "<br>- eval_fn: menghitung prediksi yang False Negative (FN) pada sampel tersebut."
      ],
      "metadata": {
        "id": "y5lKgqJ8rVcO"
      }
    },
    {
      "cell_type": "code",
      "source": [
        "# Our dataset's schema now contains `eval_*` fields\n",
        "print(dataset)"
      ],
      "metadata": {
        "colab": {
          "base_uri": "https://localhost:8080/"
        },
        "id": "SnVyyYqZbwfH",
        "outputId": "8c68ba18-39d1-4ca6-dcfd-25066b586219"
      },
      "execution_count": 25,
      "outputs": [
        {
          "output_type": "stream",
          "name": "stdout",
          "text": [
            "Name:        evaluate-detections-tutorial\n",
            "Media type:  image\n",
            "Num samples: 5000\n",
            "Persistent:  True\n",
            "Tags:        []\n",
            "Sample fields:\n",
            "    id:           fiftyone.core.fields.ObjectIdField\n",
            "    filepath:     fiftyone.core.fields.StringField\n",
            "    tags:         fiftyone.core.fields.ListField(fiftyone.core.fields.StringField)\n",
            "    metadata:     fiftyone.core.fields.EmbeddedDocumentField(fiftyone.core.metadata.ImageMetadata)\n",
            "    ground_truth: fiftyone.core.fields.EmbeddedDocumentField(fiftyone.core.labels.Detections)\n",
            "    faster_rcnn:  fiftyone.core.fields.EmbeddedDocumentField(fiftyone.core.labels.Detections)\n",
            "    eval_tp:      fiftyone.core.fields.IntField\n",
            "    eval_fp:      fiftyone.core.fields.IntField\n",
            "    eval_fn:      fiftyone.core.fields.IntField\n"
          ]
        }
      ]
    },
    {
      "cell_type": "code",
      "source": [
        "# Our detections have helpful evaluation data on them\n",
        "sample = high_conf_view.first()\n",
        "print(sample.faster_rcnn.detections[0])"
      ],
      "metadata": {
        "colab": {
          "base_uri": "https://localhost:8080/"
        },
        "id": "v0tWMdy-bxPj",
        "outputId": "c82b7f24-d375-4ad6-ffb0-d7fbc577e80b"
      },
      "execution_count": 26,
      "outputs": [
        {
          "output_type": "stream",
          "name": "stdout",
          "text": [
            "<Detection: {\n",
            "    'id': '65105565dcc6f0478f78ee5d',\n",
            "    'attributes': {},\n",
            "    'tags': [],\n",
            "    'label': 'person',\n",
            "    'bounding_box': [\n",
            "        0.2085207223892212,\n",
            "        0.4248880043189396,\n",
            "        0.20568811893463135,\n",
            "        0.2677846613289422,\n",
            "    ],\n",
            "    'mask': None,\n",
            "    'confidence': 0.9985470175743103,\n",
            "    'index': None,\n",
            "    'eval_iou': 0.8703237658555171,\n",
            "    'eval_id': '651037f6acf7381d2a0b32f9',\n",
            "    'eval': 'tp',\n",
            "}>\n"
          ]
        }
      ]
    },
    {
      "cell_type": "markdown",
      "source": [
        "Kolom-kolom tambahan ini ada karena menggunakan parameter eval_key saat memanggil evaluate_detections(). Jika tidak menyertakan parameter ini, maka tidak ada data tambahan yang akan tercatat di sampel data."
      ],
      "metadata": {
        "id": "_OzpnMlRsDZC"
      }
    },
    {
      "cell_type": "code",
      "source": [
        "print(dataset.list_evaluations())"
      ],
      "metadata": {
        "colab": {
          "base_uri": "https://localhost:8080/"
        },
        "id": "zX84PcaHb32H",
        "outputId": "63f77a34-3295-4756-ba31-6e686a7596b0"
      },
      "execution_count": 27,
      "outputs": [
        {
          "output_type": "stream",
          "name": "stdout",
          "text": [
            "['eval']\n"
          ]
        }
      ]
    },
    {
      "cell_type": "code",
      "source": [
        "print(dataset.get_evaluation_info(\"eval\"))"
      ],
      "metadata": {
        "colab": {
          "base_uri": "https://localhost:8080/"
        },
        "id": "nKyYipzHb4HP",
        "outputId": "cc62ae20-f874-436f-f032-aa0858582955"
      },
      "execution_count": 28,
      "outputs": [
        {
          "output_type": "stream",
          "name": "stdout",
          "text": [
            "{\n",
            "    \"key\": \"eval\",\n",
            "    \"version\": \"0.22.0\",\n",
            "    \"timestamp\": \"2023-09-24T15:38:51.163000\",\n",
            "    \"config\": {\n",
            "        \"method\": \"coco\",\n",
            "        \"cls\": \"fiftyone.utils.eval.coco.COCOEvaluationConfig\",\n",
            "        \"pred_field\": \"faster_rcnn\",\n",
            "        \"gt_field\": \"ground_truth\",\n",
            "        \"iou\": 0.5,\n",
            "        \"classwise\": true,\n",
            "        \"iscrowd\": \"iscrowd\",\n",
            "        \"use_masks\": false,\n",
            "        \"use_boxes\": false,\n",
            "        \"tolerance\": null,\n",
            "        \"compute_mAP\": true,\n",
            "        \"iou_threshs\": [\n",
            "            0.5,\n",
            "            0.55,\n",
            "            0.6,\n",
            "            0.65,\n",
            "            0.7,\n",
            "            0.75,\n",
            "            0.8,\n",
            "            0.85,\n",
            "            0.9,\n",
            "            0.95\n",
            "        ],\n",
            "        \"max_preds\": 100,\n",
            "        \"error_level\": 1\n",
            "    }\n",
            "}\n"
          ]
        }
      ]
    },
    {
      "cell_type": "code",
      "source": [
        "# Load the view on which we ran the `eval` evaluation\n",
        "eval_view = dataset.load_evaluation_view(\"eval\")\n",
        "print(eval_view)"
      ],
      "metadata": {
        "colab": {
          "base_uri": "https://localhost:8080/"
        },
        "id": "8IiS4L0Qb884",
        "outputId": "a08668b0-06eb-430e-ba35-6f13d796b82d"
      },
      "execution_count": 29,
      "outputs": [
        {
          "output_type": "stream",
          "name": "stdout",
          "text": [
            "Dataset:     evaluate-detections-tutorial\n",
            "Media type:  image\n",
            "Num samples: 100\n",
            "Sample fields:\n",
            "    id:           fiftyone.core.fields.ObjectIdField\n",
            "    filepath:     fiftyone.core.fields.StringField\n",
            "    tags:         fiftyone.core.fields.ListField(fiftyone.core.fields.StringField)\n",
            "    metadata:     fiftyone.core.fields.EmbeddedDocumentField(fiftyone.core.metadata.ImageMetadata)\n",
            "    ground_truth: fiftyone.core.fields.EmbeddedDocumentField(fiftyone.core.labels.Detections)\n",
            "    faster_rcnn:  fiftyone.core.fields.EmbeddedDocumentField(fiftyone.core.labels.Detections)\n",
            "    eval_tp:      fiftyone.core.fields.IntField\n",
            "    eval_fp:      fiftyone.core.fields.IntField\n",
            "    eval_fn:      fiftyone.core.fields.IntField\n",
            "View stages:\n",
            "    1. Take(size=100, seed=51)\n",
            "    2. FilterLabels(field='faster_rcnn', filter={'$gt': ['$$this.confidence', 0.75]}, only_matches=False, trajectories=False)\n"
          ]
        }
      ]
    },
    {
      "cell_type": "markdown",
      "source": [
        "**Evaluation views**\n",
        "<br>Setelah mendapatkan pemahaman tentang kinerja umum dari model, lakukan eksplorasi analisis per sampel dengan membuat sebuah tampilan untuk evaluasi.\n",
        "<br>Setiap evaluasi yang telah disimpan di dataset dapat dijadikan sebagai dasar untuk membentuk sebuah tampilan evaluasi, dalam hal ini adalah sebuah tampilan per potongan yang membuat sampel untuk setiap prediksi TP, FP, dan FN dalam dataset. Dengan tampilan ini, dapat memudahkan filter dan mengurutkan deteksi berdasarkan kategori mereka (TP/FP/FN), nilai IoU (IoU, singkatan dari \"Intersection over Union\", merupakan metrik dalam deteksi objek yang mengukur kesesuaian antara bounding box prediksi dan kebenaran. Dihitung dari area perpotongan kedua bounding box dibagi dengan area gabungannya, dengan rentang nilai antara 0 hingga 1. 0 menandakan tidak ada perpotongan antara dua bounding box dan 1 menandakan kesempurnaan, di mana bounding box prediksi dan kebenaran dasar benar-benar bertepatan.) yang telah dievaluasi dan disesuaikan dengan objek dalam kerumunan.\n",
        "<br>Tampilan evaluasi ini bisa diinisiasi baik melalui code Python ataupun langsung melalui Aplikasi, seperti yang diilustrasikan di bawah ini."
      ],
      "metadata": {
        "id": "Ud_1qclZsslz"
      }
    },
    {
      "cell_type": "code",
      "source": [
        "eval_patches = dataset.to_evaluation_patches(\"eval\")\n",
        "print(eval_patches)"
      ],
      "metadata": {
        "colab": {
          "base_uri": "https://localhost:8080/"
        },
        "id": "KrvIK1_mb_Xm",
        "outputId": "fd1b686b-51d2-49c0-c8ad-ab5b5925580f"
      },
      "execution_count": 30,
      "outputs": [
        {
          "output_type": "stream",
          "name": "stdout",
          "text": [
            "Dataset:     evaluate-detections-tutorial\n",
            "Media type:  image\n",
            "Num patches: 40110\n",
            "Patch fields:\n",
            "    id:           fiftyone.core.fields.ObjectIdField\n",
            "    sample_id:    fiftyone.core.fields.ObjectIdField\n",
            "    filepath:     fiftyone.core.fields.StringField\n",
            "    tags:         fiftyone.core.fields.ListField(fiftyone.core.fields.StringField)\n",
            "    metadata:     fiftyone.core.fields.EmbeddedDocumentField(fiftyone.core.metadata.ImageMetadata)\n",
            "    ground_truth: fiftyone.core.fields.EmbeddedDocumentField(fiftyone.core.labels.Detections)\n",
            "    faster_rcnn:  fiftyone.core.fields.EmbeddedDocumentField(fiftyone.core.labels.Detections)\n",
            "    crowd:        fiftyone.core.fields.BooleanField\n",
            "    type:         fiftyone.core.fields.StringField\n",
            "    iou:          fiftyone.core.fields.FloatField\n",
            "View stages:\n",
            "    1. ToEvaluationPatches(eval_key='eval', config=None)\n"
          ]
        }
      ]
    },
    {
      "cell_type": "code",
      "source": [
        "session.view = high_conf_view"
      ],
      "metadata": {
        "colab": {
          "base_uri": "https://localhost:8080/",
          "height": 804
        },
        "id": "7nQP7_pXb_yH",
        "outputId": "705e9b51-4c7b-4f3d-a5da-bce3cf70fb5d"
      },
      "execution_count": 31,
      "outputs": [
        {
          "output_type": "display_data",
          "data": {
            "text/plain": [
              "<IPython.core.display.HTML object>"
            ],
            "text/html": [
              "\n",
              "<style>\n",
              "\n",
              "@import url(\"https://fonts.googleapis.com/css2?family=Palanquin&display=swap\");\n",
              "\n",
              "body, html {\n",
              "  margin: 0;\n",
              "  padding: 0;\n",
              "  width: 100%;\n",
              "}\n",
              "\n",
              "#focontainer-5e419ea2-4375-45c8-8cba-436aae963b25 {\n",
              "  position: relative;\n",
              "  height: px;\n",
              "  display: block !important;\n",
              "}\n",
              "#foactivate-5e419ea2-4375-45c8-8cba-436aae963b25 {\n",
              "  font-weight: bold;\n",
              "  cursor: pointer;\n",
              "  font-size: 24px;\n",
              "  border-radius: 3px;\n",
              "  text-align: center;\n",
              "  padding: 0.5em;\n",
              "  color: rgb(255, 255, 255);\n",
              "  font-family: \"Palanquin\", sans-serif;\n",
              "  position: absolute;\n",
              "  left: 50%;\n",
              "  top: 50%;\n",
              "  width: 160px;\n",
              "  margin-left: -80px;\n",
              "  margin-top: -23px;\n",
              "  background: hsla(210,11%,15%, 0.8);\n",
              "  border: none;\n",
              "}\n",
              "#foactivate-5e419ea2-4375-45c8-8cba-436aae963b25:focus {\n",
              "  outline: none;\n",
              "}\n",
              "#fooverlay-5e419ea2-4375-45c8-8cba-436aae963b25 {\n",
              "  width: 100%;\n",
              "  height: 100%;\n",
              "  background: hsla(208, 7%, 46%, 0.7);\n",
              "  position: absolute;\n",
              "  top: 0;\n",
              "  left: 0;\n",
              "  display: none;\n",
              "  cursor: pointer;\n",
              "}\n",
              "</style>\n",
              "<div id=\"focontainer-5e419ea2-4375-45c8-8cba-436aae963b25\" style=\"display: none;\">\n",
              "   <div id=\"fooverlay-5e419ea2-4375-45c8-8cba-436aae963b25\">\n",
              "      <button id=\"foactivate-5e419ea2-4375-45c8-8cba-436aae963b25\" >Activate</button>\n",
              "   </div>\n",
              "</div>"
            ]
          },
          "metadata": {}
        }
      ]
    },
    {
      "cell_type": "markdown",
      "source": [
        "**Lihat sampel dengan kinerja terbaik**\n",
        "<br>Untuk menganalisis lebih lanjut, buat tampilan yang diurutkan berdasarkan eval_tp sehingga dapat melihat kasus-kasus dengan kinerja terbaik dari model (yaitu, sampel dengan TP yang paling banyak)."
      ],
      "metadata": {
        "id": "kTsNvuX0wzcb"
      }
    },
    {
      "cell_type": "code",
      "source": [
        "# Show samples with most true positives\n",
        "session.view = high_conf_view.sort_by(\"eval_tp\", reverse=True)"
      ],
      "metadata": {
        "colab": {
          "base_uri": "https://localhost:8080/",
          "height": 804
        },
        "id": "PMz1pdwfcCxO",
        "outputId": "b7673f8b-2f65-4d12-99bb-9e1676efbcbb"
      },
      "execution_count": 32,
      "outputs": [
        {
          "output_type": "display_data",
          "data": {
            "text/plain": [
              "<IPython.core.display.HTML object>"
            ],
            "text/html": [
              "\n",
              "<style>\n",
              "\n",
              "@import url(\"https://fonts.googleapis.com/css2?family=Palanquin&display=swap\");\n",
              "\n",
              "body, html {\n",
              "  margin: 0;\n",
              "  padding: 0;\n",
              "  width: 100%;\n",
              "}\n",
              "\n",
              "#focontainer-5a5e119c-d807-4705-a565-7096749472e1 {\n",
              "  position: relative;\n",
              "  height: px;\n",
              "  display: block !important;\n",
              "}\n",
              "#foactivate-5a5e119c-d807-4705-a565-7096749472e1 {\n",
              "  font-weight: bold;\n",
              "  cursor: pointer;\n",
              "  font-size: 24px;\n",
              "  border-radius: 3px;\n",
              "  text-align: center;\n",
              "  padding: 0.5em;\n",
              "  color: rgb(255, 255, 255);\n",
              "  font-family: \"Palanquin\", sans-serif;\n",
              "  position: absolute;\n",
              "  left: 50%;\n",
              "  top: 50%;\n",
              "  width: 160px;\n",
              "  margin-left: -80px;\n",
              "  margin-top: -23px;\n",
              "  background: hsla(210,11%,15%, 0.8);\n",
              "  border: none;\n",
              "}\n",
              "#foactivate-5a5e119c-d807-4705-a565-7096749472e1:focus {\n",
              "  outline: none;\n",
              "}\n",
              "#fooverlay-5a5e119c-d807-4705-a565-7096749472e1 {\n",
              "  width: 100%;\n",
              "  height: 100%;\n",
              "  background: hsla(208, 7%, 46%, 0.7);\n",
              "  position: absolute;\n",
              "  top: 0;\n",
              "  left: 0;\n",
              "  display: none;\n",
              "  cursor: pointer;\n",
              "}\n",
              "</style>\n",
              "<div id=\"focontainer-5a5e119c-d807-4705-a565-7096749472e1\" style=\"display: none;\">\n",
              "   <div id=\"fooverlay-5a5e119c-d807-4705-a565-7096749472e1\">\n",
              "      <button id=\"foactivate-5a5e119c-d807-4705-a565-7096749472e1\" >Activate</button>\n",
              "   </div>\n",
              "</div>"
            ]
          },
          "metadata": {}
        }
      ]
    },
    {
      "cell_type": "markdown",
      "source": [
        "**Lihat sampel dengan kinerja terburuk**\n",
        "<br>Dengan cara yang serupa, bisa mengurutkan berdasarkan kolom eval_fp untuk melihat kasus-kasus dengan kinerja terburuk dari model (yaitu, sampel dengan prediksi FP yang paling banyak)."
      ],
      "metadata": {
        "id": "phafWGL5xFB2"
      }
    },
    {
      "cell_type": "code",
      "source": [
        "# Show samples with most false positives\n",
        "session.view = high_conf_view.sort_by(\"eval_fp\", reverse=True)"
      ],
      "metadata": {
        "colab": {
          "base_uri": "https://localhost:8080/",
          "height": 804
        },
        "id": "lgKJjFv1cJJH",
        "outputId": "bfe7d3ab-1d19-495c-fe57-5d1547ea7f17"
      },
      "execution_count": 33,
      "outputs": [
        {
          "output_type": "display_data",
          "data": {
            "text/plain": [
              "<IPython.core.display.HTML object>"
            ],
            "text/html": [
              "\n",
              "<style>\n",
              "\n",
              "@import url(\"https://fonts.googleapis.com/css2?family=Palanquin&display=swap\");\n",
              "\n",
              "body, html {\n",
              "  margin: 0;\n",
              "  padding: 0;\n",
              "  width: 100%;\n",
              "}\n",
              "\n",
              "#focontainer-1c6e4827-896a-4e70-895e-7e4f889423a8 {\n",
              "  position: relative;\n",
              "  height: px;\n",
              "  display: block !important;\n",
              "}\n",
              "#foactivate-1c6e4827-896a-4e70-895e-7e4f889423a8 {\n",
              "  font-weight: bold;\n",
              "  cursor: pointer;\n",
              "  font-size: 24px;\n",
              "  border-radius: 3px;\n",
              "  text-align: center;\n",
              "  padding: 0.5em;\n",
              "  color: rgb(255, 255, 255);\n",
              "  font-family: \"Palanquin\", sans-serif;\n",
              "  position: absolute;\n",
              "  left: 50%;\n",
              "  top: 50%;\n",
              "  width: 160px;\n",
              "  margin-left: -80px;\n",
              "  margin-top: -23px;\n",
              "  background: hsla(210,11%,15%, 0.8);\n",
              "  border: none;\n",
              "}\n",
              "#foactivate-1c6e4827-896a-4e70-895e-7e4f889423a8:focus {\n",
              "  outline: none;\n",
              "}\n",
              "#fooverlay-1c6e4827-896a-4e70-895e-7e4f889423a8 {\n",
              "  width: 100%;\n",
              "  height: 100%;\n",
              "  background: hsla(208, 7%, 46%, 0.7);\n",
              "  position: absolute;\n",
              "  top: 0;\n",
              "  left: 0;\n",
              "  display: none;\n",
              "  cursor: pointer;\n",
              "}\n",
              "</style>\n",
              "<div id=\"focontainer-1c6e4827-896a-4e70-895e-7e4f889423a8\" style=\"display: none;\">\n",
              "   <div id=\"fooverlay-1c6e4827-896a-4e70-895e-7e4f889423a8\">\n",
              "      <button id=\"foactivate-1c6e4827-896a-4e70-895e-7e4f889423a8\" >Activate</button>\n",
              "   </div>\n",
              "</div>"
            ]
          },
          "metadata": {}
        }
      ]
    },
    {
      "cell_type": "code",
      "source": [
        "# Compute metadata so we can reference image height/width in our view\n",
        "dataset.compute_metadata()"
      ],
      "metadata": {
        "id": "REJPwxo0cJjW"
      },
      "execution_count": 34,
      "outputs": []
    },
    {
      "cell_type": "code",
      "source": [
        "#\n",
        "# Create an expression that will match objects whose bounding boxes have\n",
        "# area less than 32^2 pixels\n",
        "#\n",
        "# Bounding box format is [top-left-x, top-left-y, width, height]\n",
        "# with relative coordinates in [0, 1], so we multiply by image\n",
        "# dimensions to get pixel area\n",
        "#\n",
        "bbox_area = (\n",
        "    F(\"$metadata.width\") * F(\"bounding_box\")[2] *\n",
        "    F(\"$metadata.height\") * F(\"bounding_box\")[3]\n",
        ")\n",
        "small_boxes = bbox_area < 32 ** 2\n",
        "\n",
        "# Create a view that contains only small (and high confidence) predictions\n",
        "small_boxes_view = high_conf_view.filter_labels(\"faster_rcnn\", small_boxes)\n",
        "\n",
        "session.view = small_boxes_view"
      ],
      "metadata": {
        "colab": {
          "base_uri": "https://localhost:8080/",
          "height": 804
        },
        "id": "rJIO9_OBcLrU",
        "outputId": "725ff3da-11a7-4078-adc7-1c523e8fca33"
      },
      "execution_count": 35,
      "outputs": [
        {
          "output_type": "display_data",
          "data": {
            "text/plain": [
              "<IPython.core.display.HTML object>"
            ],
            "text/html": [
              "\n",
              "<style>\n",
              "\n",
              "@import url(\"https://fonts.googleapis.com/css2?family=Palanquin&display=swap\");\n",
              "\n",
              "body, html {\n",
              "  margin: 0;\n",
              "  padding: 0;\n",
              "  width: 100%;\n",
              "}\n",
              "\n",
              "#focontainer-16a85983-d258-4c59-a8d9-b35ddd8a1fbf {\n",
              "  position: relative;\n",
              "  height: px;\n",
              "  display: block !important;\n",
              "}\n",
              "#foactivate-16a85983-d258-4c59-a8d9-b35ddd8a1fbf {\n",
              "  font-weight: bold;\n",
              "  cursor: pointer;\n",
              "  font-size: 24px;\n",
              "  border-radius: 3px;\n",
              "  text-align: center;\n",
              "  padding: 0.5em;\n",
              "  color: rgb(255, 255, 255);\n",
              "  font-family: \"Palanquin\", sans-serif;\n",
              "  position: absolute;\n",
              "  left: 50%;\n",
              "  top: 50%;\n",
              "  width: 160px;\n",
              "  margin-left: -80px;\n",
              "  margin-top: -23px;\n",
              "  background: hsla(210,11%,15%, 0.8);\n",
              "  border: none;\n",
              "}\n",
              "#foactivate-16a85983-d258-4c59-a8d9-b35ddd8a1fbf:focus {\n",
              "  outline: none;\n",
              "}\n",
              "#fooverlay-16a85983-d258-4c59-a8d9-b35ddd8a1fbf {\n",
              "  width: 100%;\n",
              "  height: 100%;\n",
              "  background: hsla(208, 7%, 46%, 0.7);\n",
              "  position: absolute;\n",
              "  top: 0;\n",
              "  left: 0;\n",
              "  display: none;\n",
              "  cursor: pointer;\n",
              "}\n",
              "</style>\n",
              "<div id=\"focontainer-16a85983-d258-4c59-a8d9-b35ddd8a1fbf\" style=\"display: none;\">\n",
              "   <div id=\"fooverlay-16a85983-d258-4c59-a8d9-b35ddd8a1fbf\">\n",
              "      <button id=\"foactivate-16a85983-d258-4c59-a8d9-b35ddd8a1fbf\" >Activate</button>\n",
              "   </div>\n",
              "</div>"
            ]
          },
          "metadata": {}
        }
      ]
    },
    {
      "cell_type": "code",
      "source": [
        "# Create a view that contains only small GT and predicted boxes\n",
        "small_boxes_eval_view = (\n",
        "    high_conf_view\n",
        "    .filter_labels(\"ground_truth\", small_boxes, only_matches=False)\n",
        "    .filter_labels(\"faster_rcnn\", small_boxes, only_matches=False)\n",
        ")\n",
        "\n",
        "# Run evaluation\n",
        "small_boxes_results = small_boxes_eval_view.evaluate_detections(\n",
        "    \"faster_rcnn\",\n",
        "    gt_field=\"ground_truth\",\n",
        ")"
      ],
      "metadata": {
        "colab": {
          "base_uri": "https://localhost:8080/"
        },
        "id": "9edRK4D5cNhF",
        "outputId": "b841d780-8903-4dc7-d0ca-6d3f7534373a"
      },
      "execution_count": 36,
      "outputs": [
        {
          "output_type": "stream",
          "name": "stdout",
          "text": [
            "Evaluating detections...\n"
          ]
        },
        {
          "output_type": "stream",
          "name": "stderr",
          "text": [
            "INFO:fiftyone.utils.eval.detection:Evaluating detections...\n"
          ]
        },
        {
          "output_type": "stream",
          "name": "stdout",
          "text": [
            " 100% |█████████████████| 100/100 [288.3ms elapsed, 0s remaining, 346.9 samples/s]      \n"
          ]
        },
        {
          "output_type": "stream",
          "name": "stderr",
          "text": [
            "INFO:eta.core.utils: 100% |█████████████████| 100/100 [288.3ms elapsed, 0s remaining, 346.9 samples/s]      \n"
          ]
        }
      ]
    },
    {
      "cell_type": "code",
      "source": [
        "# Get the 10 most common small object classes\n",
        "small_counts = small_boxes_eval_view.count_values(\"ground_truth.detections.label\")\n",
        "classes_top10_small = sorted(small_counts, key=counts.get, reverse=True)[:10]\n",
        "\n",
        "# Print a classification report for the top-10 small object classes\n",
        "small_boxes_results.print_report(classes=classes_top10_small)"
      ],
      "metadata": {
        "colab": {
          "base_uri": "https://localhost:8080/"
        },
        "id": "QhaPnxCqcQCz",
        "outputId": "4a5be826-712c-4303-fde2-0820be829001"
      },
      "execution_count": 37,
      "outputs": [
        {
          "output_type": "stream",
          "name": "stdout",
          "text": [
            "               precision    recall  f1-score   support\n",
            "\n",
            "       person       0.52      0.28      0.36        47\n",
            "          car       0.40      0.33      0.36         6\n",
            "        chair       1.00      0.14      0.25         7\n",
            "         book       0.20      0.06      0.10        32\n",
            "       bottle       0.50      0.46      0.48        13\n",
            "          cup       0.75      0.56      0.64        16\n",
            " dining table       0.00      0.00      0.00         1\n",
            "traffic light       0.00      0.00      0.00         1\n",
            "         bowl       1.00      0.43      0.60         7\n",
            "      handbag       0.00      0.00      0.00         3\n",
            "\n",
            "    micro avg       0.52      0.27      0.36       133\n",
            "    macro avg       0.44      0.23      0.28       133\n",
            " weighted avg       0.49      0.27      0.34       133\n",
            "\n"
          ]
        }
      ]
    },
    {
      "cell_type": "markdown",
      "source": [
        "Format data COCO, terdiri dari anotasi kebenaran yang memiliki atribut iscrowd = 0 atau 1 yang menunjukkan apakah sebuah kotak mengandung beberapa contoh dari objek yang sama."
      ],
      "metadata": {
        "id": "mtSL5_W4yESd"
      }
    },
    {
      "cell_type": "code",
      "source": [
        "# View the `iscrowd` attribute on a ground truth object\n",
        "sample = dataset.first()\n",
        "print(sample.ground_truth.detections[0])"
      ],
      "metadata": {
        "colab": {
          "base_uri": "https://localhost:8080/"
        },
        "id": "HKSt-96ocSXO",
        "outputId": "02f322de-5b24-4cbf-f34e-f894d91e2fe4"
      },
      "execution_count": 38,
      "outputs": [
        {
          "output_type": "stream",
          "name": "stdout",
          "text": [
            "<Detection: {\n",
            "    'id': '651037eeacf7381d2a0b0951',\n",
            "    'attributes': {},\n",
            "    'tags': [],\n",
            "    'label': 'potted plant',\n",
            "    'bounding_box': [\n",
            "        0.37028125,\n",
            "        0.3345305164319249,\n",
            "        0.038593749999999996,\n",
            "        0.16314553990610328,\n",
            "    ],\n",
            "    'mask': None,\n",
            "    'confidence': None,\n",
            "    'index': None,\n",
            "    'supercategory': 'furniture',\n",
            "    'iscrowd': 0,\n",
            "}>\n"
          ]
        }
      ]
    },
    {
      "cell_type": "code",
      "source": [
        "# Create a view that contains only samples for which at least one detection has\n",
        "# its iscrowd attribute set to 1\n",
        "crowded_images_view = high_conf_view.match(\n",
        "    F(\"ground_truth.detections\").filter(F(\"iscrowd\") == 1).length() > 0\n",
        ")\n",
        "\n",
        "session.view = crowded_images_view"
      ],
      "metadata": {
        "colab": {
          "base_uri": "https://localhost:8080/",
          "height": 804
        },
        "id": "Is4KKCz4cUxQ",
        "outputId": "224432e9-a187-4cd2-8ed4-2b56e253449a"
      },
      "execution_count": 39,
      "outputs": [
        {
          "output_type": "display_data",
          "data": {
            "text/plain": [
              "<IPython.core.display.HTML object>"
            ],
            "text/html": [
              "\n",
              "<style>\n",
              "\n",
              "@import url(\"https://fonts.googleapis.com/css2?family=Palanquin&display=swap\");\n",
              "\n",
              "body, html {\n",
              "  margin: 0;\n",
              "  padding: 0;\n",
              "  width: 100%;\n",
              "}\n",
              "\n",
              "#focontainer-7c55b3a0-d16d-4ab6-8258-7c6306038782 {\n",
              "  position: relative;\n",
              "  height: px;\n",
              "  display: block !important;\n",
              "}\n",
              "#foactivate-7c55b3a0-d16d-4ab6-8258-7c6306038782 {\n",
              "  font-weight: bold;\n",
              "  cursor: pointer;\n",
              "  font-size: 24px;\n",
              "  border-radius: 3px;\n",
              "  text-align: center;\n",
              "  padding: 0.5em;\n",
              "  color: rgb(255, 255, 255);\n",
              "  font-family: \"Palanquin\", sans-serif;\n",
              "  position: absolute;\n",
              "  left: 50%;\n",
              "  top: 50%;\n",
              "  width: 160px;\n",
              "  margin-left: -80px;\n",
              "  margin-top: -23px;\n",
              "  background: hsla(210,11%,15%, 0.8);\n",
              "  border: none;\n",
              "}\n",
              "#foactivate-7c55b3a0-d16d-4ab6-8258-7c6306038782:focus {\n",
              "  outline: none;\n",
              "}\n",
              "#fooverlay-7c55b3a0-d16d-4ab6-8258-7c6306038782 {\n",
              "  width: 100%;\n",
              "  height: 100%;\n",
              "  background: hsla(208, 7%, 46%, 0.7);\n",
              "  position: absolute;\n",
              "  top: 0;\n",
              "  left: 0;\n",
              "  display: none;\n",
              "  cursor: pointer;\n",
              "}\n",
              "</style>\n",
              "<div id=\"focontainer-7c55b3a0-d16d-4ab6-8258-7c6306038782\" style=\"display: none;\">\n",
              "   <div id=\"fooverlay-7c55b3a0-d16d-4ab6-8258-7c6306038782\">\n",
              "      <button id=\"foactivate-7c55b3a0-d16d-4ab6-8258-7c6306038782\" >Activate</button>\n",
              "   </div>\n",
              "</div>"
            ]
          },
          "metadata": {}
        }
      ]
    },
    {
      "cell_type": "code",
      "source": [
        "session.view = crowded_images_view.sort_by(\"eval_fp\", reverse=True)"
      ],
      "metadata": {
        "colab": {
          "base_uri": "https://localhost:8080/",
          "height": 804
        },
        "id": "iBQ2wr4hcYrk",
        "outputId": "3d7907b7-9dff-41da-a324-e4fcc2487047"
      },
      "execution_count": 40,
      "outputs": [
        {
          "output_type": "display_data",
          "data": {
            "text/plain": [
              "<IPython.core.display.HTML object>"
            ],
            "text/html": [
              "\n",
              "<style>\n",
              "\n",
              "@import url(\"https://fonts.googleapis.com/css2?family=Palanquin&display=swap\");\n",
              "\n",
              "body, html {\n",
              "  margin: 0;\n",
              "  padding: 0;\n",
              "  width: 100%;\n",
              "}\n",
              "\n",
              "#focontainer-688f8b3d-177d-4f1a-9912-cfa6161c33f0 {\n",
              "  position: relative;\n",
              "  height: px;\n",
              "  display: block !important;\n",
              "}\n",
              "#foactivate-688f8b3d-177d-4f1a-9912-cfa6161c33f0 {\n",
              "  font-weight: bold;\n",
              "  cursor: pointer;\n",
              "  font-size: 24px;\n",
              "  border-radius: 3px;\n",
              "  text-align: center;\n",
              "  padding: 0.5em;\n",
              "  color: rgb(255, 255, 255);\n",
              "  font-family: \"Palanquin\", sans-serif;\n",
              "  position: absolute;\n",
              "  left: 50%;\n",
              "  top: 50%;\n",
              "  width: 160px;\n",
              "  margin-left: -80px;\n",
              "  margin-top: -23px;\n",
              "  background: hsla(210,11%,15%, 0.8);\n",
              "  border: none;\n",
              "}\n",
              "#foactivate-688f8b3d-177d-4f1a-9912-cfa6161c33f0:focus {\n",
              "  outline: none;\n",
              "}\n",
              "#fooverlay-688f8b3d-177d-4f1a-9912-cfa6161c33f0 {\n",
              "  width: 100%;\n",
              "  height: 100%;\n",
              "  background: hsla(208, 7%, 46%, 0.7);\n",
              "  position: absolute;\n",
              "  top: 0;\n",
              "  left: 0;\n",
              "  display: none;\n",
              "  cursor: pointer;\n",
              "}\n",
              "</style>\n",
              "<div id=\"focontainer-688f8b3d-177d-4f1a-9912-cfa6161c33f0\" style=\"display: none;\">\n",
              "   <div id=\"fooverlay-688f8b3d-177d-4f1a-9912-cfa6161c33f0\">\n",
              "      <button id=\"foactivate-688f8b3d-177d-4f1a-9912-cfa6161c33f0\" >Activate</button>\n",
              "   </div>\n",
              "</div>"
            ]
          },
          "metadata": {}
        }
      ]
    },
    {
      "cell_type": "code",
      "source": [
        "session.view = high_conf_view.sort_by(\"eval_fp\", reverse=True)"
      ],
      "metadata": {
        "colab": {
          "base_uri": "https://localhost:8080/",
          "height": 804
        },
        "id": "7topLotKca-p",
        "outputId": "b3ec74d0-c30f-48ca-cf94-025de975f9d1"
      },
      "execution_count": 41,
      "outputs": [
        {
          "output_type": "display_data",
          "data": {
            "text/plain": [
              "<IPython.core.display.HTML object>"
            ],
            "text/html": [
              "\n",
              "<style>\n",
              "\n",
              "@import url(\"https://fonts.googleapis.com/css2?family=Palanquin&display=swap\");\n",
              "\n",
              "body, html {\n",
              "  margin: 0;\n",
              "  padding: 0;\n",
              "  width: 100%;\n",
              "}\n",
              "\n",
              "#focontainer-310eb3cd-dbf7-4133-a541-5ef0e4795823 {\n",
              "  position: relative;\n",
              "  height: px;\n",
              "  display: block !important;\n",
              "}\n",
              "#foactivate-310eb3cd-dbf7-4133-a541-5ef0e4795823 {\n",
              "  font-weight: bold;\n",
              "  cursor: pointer;\n",
              "  font-size: 24px;\n",
              "  border-radius: 3px;\n",
              "  text-align: center;\n",
              "  padding: 0.5em;\n",
              "  color: rgb(255, 255, 255);\n",
              "  font-family: \"Palanquin\", sans-serif;\n",
              "  position: absolute;\n",
              "  left: 50%;\n",
              "  top: 50%;\n",
              "  width: 160px;\n",
              "  margin-left: -80px;\n",
              "  margin-top: -23px;\n",
              "  background: hsla(210,11%,15%, 0.8);\n",
              "  border: none;\n",
              "}\n",
              "#foactivate-310eb3cd-dbf7-4133-a541-5ef0e4795823:focus {\n",
              "  outline: none;\n",
              "}\n",
              "#fooverlay-310eb3cd-dbf7-4133-a541-5ef0e4795823 {\n",
              "  width: 100%;\n",
              "  height: 100%;\n",
              "  background: hsla(208, 7%, 46%, 0.7);\n",
              "  position: absolute;\n",
              "  top: 0;\n",
              "  left: 0;\n",
              "  display: none;\n",
              "  cursor: pointer;\n",
              "}\n",
              "</style>\n",
              "<div id=\"focontainer-310eb3cd-dbf7-4133-a541-5ef0e4795823\" style=\"display: none;\">\n",
              "   <div id=\"fooverlay-310eb3cd-dbf7-4133-a541-5ef0e4795823\">\n",
              "      <button id=\"foactivate-310eb3cd-dbf7-4133-a541-5ef0e4795823\" >Activate</button>\n",
              "   </div>\n",
              "</div>"
            ]
          },
          "metadata": {}
        }
      ]
    },
    {
      "cell_type": "code",
      "source": [
        "session.show()"
      ],
      "metadata": {
        "colab": {
          "base_uri": "https://localhost:8080/",
          "height": 804
        },
        "id": "0c6TBu4Zcdkw",
        "outputId": "7e5c7d84-3a96-48d5-c867-55a1b2504007"
      },
      "execution_count": 42,
      "outputs": [
        {
          "output_type": "display_data",
          "data": {
            "text/plain": [
              "<IPython.core.display.HTML object>"
            ],
            "text/html": [
              "\n",
              "<style>\n",
              "\n",
              "@import url(\"https://fonts.googleapis.com/css2?family=Palanquin&display=swap\");\n",
              "\n",
              "body, html {\n",
              "  margin: 0;\n",
              "  padding: 0;\n",
              "  width: 100%;\n",
              "}\n",
              "\n",
              "#focontainer-c5e4c135-25c3-41a9-9308-b45115d8189d {\n",
              "  position: relative;\n",
              "  height: px;\n",
              "  display: block !important;\n",
              "}\n",
              "#foactivate-c5e4c135-25c3-41a9-9308-b45115d8189d {\n",
              "  font-weight: bold;\n",
              "  cursor: pointer;\n",
              "  font-size: 24px;\n",
              "  border-radius: 3px;\n",
              "  text-align: center;\n",
              "  padding: 0.5em;\n",
              "  color: rgb(255, 255, 255);\n",
              "  font-family: \"Palanquin\", sans-serif;\n",
              "  position: absolute;\n",
              "  left: 50%;\n",
              "  top: 50%;\n",
              "  width: 160px;\n",
              "  margin-left: -80px;\n",
              "  margin-top: -23px;\n",
              "  background: hsla(210,11%,15%, 0.8);\n",
              "  border: none;\n",
              "}\n",
              "#foactivate-c5e4c135-25c3-41a9-9308-b45115d8189d:focus {\n",
              "  outline: none;\n",
              "}\n",
              "#fooverlay-c5e4c135-25c3-41a9-9308-b45115d8189d {\n",
              "  width: 100%;\n",
              "  height: 100%;\n",
              "  background: hsla(208, 7%, 46%, 0.7);\n",
              "  position: absolute;\n",
              "  top: 0;\n",
              "  left: 0;\n",
              "  display: none;\n",
              "  cursor: pointer;\n",
              "}\n",
              "</style>\n",
              "<div id=\"focontainer-c5e4c135-25c3-41a9-9308-b45115d8189d\" style=\"display: none;\">\n",
              "   <div id=\"fooverlay-c5e4c135-25c3-41a9-9308-b45115d8189d\">\n",
              "      <button id=\"foactivate-c5e4c135-25c3-41a9-9308-b45115d8189d\" >Activate</button>\n",
              "   </div>\n",
              "</div>"
            ]
          },
          "metadata": {}
        }
      ]
    },
    {
      "cell_type": "code",
      "source": [
        "session.freeze()  # screenshot the active App for sharing"
      ],
      "metadata": {
        "id": "fnYx8udUchxx"
      },
      "execution_count": 43,
      "outputs": []
    },
    {
      "cell_type": "code",
      "source": [
        "# Tag all highly confident false positives as \"possibly-missing\"\n",
        "(\n",
        "    high_conf_view\n",
        "        .filter_labels(\"faster_rcnn\", F(\"eval\") == \"fp\")\n",
        "        .select_fields(\"faster_rcnn\")\n",
        "        .tag_labels(\"possibly-missing\")\n",
        ")"
      ],
      "metadata": {
        "id": "UnwQA8Lwcjz0"
      },
      "execution_count": 44,
      "outputs": []
    },
    {
      "cell_type": "code",
      "source": [
        "# Export all labels with the `possibly-missing` tag in CVAT format\n",
        "(\n",
        "    dataset\n",
        "        .select_labels(tags=[\"possibly-missing\"])\n",
        "        .export(\"/path/for/export\", fo.types.CVATImageDataset)\n",
        ")"
      ],
      "metadata": {
        "colab": {
          "base_uri": "https://localhost:8080/"
        },
        "id": "tFgws4Zdcl9Z",
        "outputId": "8dc90899-f438-4c0a-dfe1-a1a8cb41e5e7"
      },
      "execution_count": 45,
      "outputs": [
        {
          "output_type": "stream",
          "name": "stdout",
          "text": [
            "Directory '/path/for/export' already exists; export will be merged with existing files\n"
          ]
        },
        {
          "output_type": "stream",
          "name": "stderr",
          "text": [
            "WARNING:fiftyone.core.collections:Directory '/path/for/export' already exists; export will be merged with existing files\n"
          ]
        },
        {
          "output_type": "stream",
          "name": "stdout",
          "text": [
            "Found multiple fields ['ground_truth', 'faster_rcnn'] with compatible type <class 'fiftyone.core.labels.Detections'>; exporting 'ground_truth'\n"
          ]
        },
        {
          "output_type": "stream",
          "name": "stderr",
          "text": [
            "INFO:fiftyone.core.collections:Found multiple fields ['ground_truth', 'faster_rcnn'] with compatible type <class 'fiftyone.core.labels.Detections'>; exporting 'ground_truth'\n"
          ]
        },
        {
          "output_type": "stream",
          "name": "stdout",
          "text": [
            " 100% |███████████████████| 68/68 [278.7ms elapsed, 0s remaining, 244.0 samples/s]      \n"
          ]
        },
        {
          "output_type": "stream",
          "name": "stderr",
          "text": [
            "INFO:eta.core.utils: 100% |███████████████████| 68/68 [278.7ms elapsed, 0s remaining, 244.0 samples/s]      \n"
          ]
        }
      ]
    },
    {
      "cell_type": "markdown",
      "source": [
        "Referensi:\n",
        "- https://docs.voxel51.com/tutorials/evaluate_detections.html\n",
        "- https://cocodataset.org/#home"
      ],
      "metadata": {
        "id": "aE3mfZN-ytSH"
      }
    }
  ]
}