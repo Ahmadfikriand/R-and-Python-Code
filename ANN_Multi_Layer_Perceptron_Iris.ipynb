{
  "nbformat": 4,
  "nbformat_minor": 0,
  "metadata": {
    "colab": {
      "provenance": [],
      "authorship_tag": "ABX9TyMbbC9Ql662vIwoysaqzyXL",
      "include_colab_link": true
    },
    "kernelspec": {
      "name": "python3",
      "display_name": "Python 3"
    },
    "language_info": {
      "name": "python"
    }
  },
  "cells": [
    {
      "cell_type": "markdown",
      "metadata": {
        "id": "view-in-github",
        "colab_type": "text"
      },
      "source": [
        "<a href=\"https://colab.research.google.com/github/Ahmadfikriand/R-and-Python-Code/blob/master/ANN_Multi_Layer_Perceptron_Iris.ipynb\" target=\"_parent\"><img src=\"https://colab.research.google.com/assets/colab-badge.svg\" alt=\"Open In Colab\"/></a>"
      ]
    },
    {
      "cell_type": "code",
      "execution_count": 1,
      "metadata": {
        "id": "NIWlKFwChUbt"
      },
      "outputs": [],
      "source": [
        "#from google.colab import files\n",
        "\n",
        "#uploaded = files.upload()\n",
        "\n",
        "#for fn in uploaded.keys():\n",
        "#  print(\"User uploaded file {name} with length {length} bytes\".format(name=fn, length=len(uploaded[fn])))"
      ]
    },
    {
      "cell_type": "code",
      "source": [
        "from sklearn.neural_network import MLPClassifier\n",
        "from sklearn.model_selection import train_test_split\n",
        "from sklearn.preprocessing import StandardScaler\n",
        "from sklearn.metrics import confusion_matrix"
      ],
      "metadata": {
        "id": "szVCqUWwijAm"
      },
      "execution_count": 2,
      "outputs": []
    },
    {
      "cell_type": "code",
      "source": [
        "import pandas as pd\n",
        "import io\n",
        "#df=pd.read_csv(io.StringIO(uploaded['dataset2d3c.csv'].decode('utf-8')))\n",
        "df=pd.read_csv('dataset2d3c.csv')\n",
        "df.head()"
      ],
      "metadata": {
        "colab": {
          "base_uri": "https://localhost:8080/",
          "height": 206
        },
        "id": "6yszYYEfiDAs",
        "outputId": "342212fd-be2b-4aeb-86f3-ee93e9c63d22"
      },
      "execution_count": 3,
      "outputs": [
        {
          "output_type": "execute_result",
          "data": {
            "text/plain": [
              "    x1   x2       class\n",
              "0  5.0  0.7  versicolor\n",
              "1  5.1  0.4   virginica\n",
              "2  5.1  0.0   virginica\n",
              "3  5.4  0.1   virginica\n",
              "4  1.5  0.2      setosa"
            ],
            "text/html": [
              "\n",
              "\n",
              "  <div id=\"df-60907939-fde3-497f-926c-0b0096bc5287\">\n",
              "    <div class=\"colab-df-container\">\n",
              "      <div>\n",
              "<style scoped>\n",
              "    .dataframe tbody tr th:only-of-type {\n",
              "        vertical-align: middle;\n",
              "    }\n",
              "\n",
              "    .dataframe tbody tr th {\n",
              "        vertical-align: top;\n",
              "    }\n",
              "\n",
              "    .dataframe thead th {\n",
              "        text-align: right;\n",
              "    }\n",
              "</style>\n",
              "<table border=\"1\" class=\"dataframe\">\n",
              "  <thead>\n",
              "    <tr style=\"text-align: right;\">\n",
              "      <th></th>\n",
              "      <th>x1</th>\n",
              "      <th>x2</th>\n",
              "      <th>class</th>\n",
              "    </tr>\n",
              "  </thead>\n",
              "  <tbody>\n",
              "    <tr>\n",
              "      <th>0</th>\n",
              "      <td>5.0</td>\n",
              "      <td>0.7</td>\n",
              "      <td>versicolor</td>\n",
              "    </tr>\n",
              "    <tr>\n",
              "      <th>1</th>\n",
              "      <td>5.1</td>\n",
              "      <td>0.4</td>\n",
              "      <td>virginica</td>\n",
              "    </tr>\n",
              "    <tr>\n",
              "      <th>2</th>\n",
              "      <td>5.1</td>\n",
              "      <td>0.0</td>\n",
              "      <td>virginica</td>\n",
              "    </tr>\n",
              "    <tr>\n",
              "      <th>3</th>\n",
              "      <td>5.4</td>\n",
              "      <td>0.1</td>\n",
              "      <td>virginica</td>\n",
              "    </tr>\n",
              "    <tr>\n",
              "      <th>4</th>\n",
              "      <td>1.5</td>\n",
              "      <td>0.2</td>\n",
              "      <td>setosa</td>\n",
              "    </tr>\n",
              "  </tbody>\n",
              "</table>\n",
              "</div>\n",
              "      <button class=\"colab-df-convert\" onclick=\"convertToInteractive('df-60907939-fde3-497f-926c-0b0096bc5287')\"\n",
              "              title=\"Convert this dataframe to an interactive table.\"\n",
              "              style=\"display:none;\">\n",
              "\n",
              "  <svg xmlns=\"http://www.w3.org/2000/svg\" height=\"24px\"viewBox=\"0 0 24 24\"\n",
              "       width=\"24px\">\n",
              "    <path d=\"M0 0h24v24H0V0z\" fill=\"none\"/>\n",
              "    <path d=\"M18.56 5.44l.94 2.06.94-2.06 2.06-.94-2.06-.94-.94-2.06-.94 2.06-2.06.94zm-11 1L8.5 8.5l.94-2.06 2.06-.94-2.06-.94L8.5 2.5l-.94 2.06-2.06.94zm10 10l.94 2.06.94-2.06 2.06-.94-2.06-.94-.94-2.06-.94 2.06-2.06.94z\"/><path d=\"M17.41 7.96l-1.37-1.37c-.4-.4-.92-.59-1.43-.59-.52 0-1.04.2-1.43.59L10.3 9.45l-7.72 7.72c-.78.78-.78 2.05 0 2.83L4 21.41c.39.39.9.59 1.41.59.51 0 1.02-.2 1.41-.59l7.78-7.78 2.81-2.81c.8-.78.8-2.07 0-2.86zM5.41 20L4 18.59l7.72-7.72 1.47 1.35L5.41 20z\"/>\n",
              "  </svg>\n",
              "      </button>\n",
              "\n",
              "\n",
              "\n",
              "    <div id=\"df-fd902c6c-f948-42f6-be1a-be4be4dc625a\">\n",
              "      <button class=\"colab-df-quickchart\" onclick=\"quickchart('df-fd902c6c-f948-42f6-be1a-be4be4dc625a')\"\n",
              "              title=\"Suggest charts.\"\n",
              "              style=\"display:none;\">\n",
              "\n",
              "<svg xmlns=\"http://www.w3.org/2000/svg\" height=\"24px\"viewBox=\"0 0 24 24\"\n",
              "     width=\"24px\">\n",
              "    <g>\n",
              "        <path d=\"M19 3H5c-1.1 0-2 .9-2 2v14c0 1.1.9 2 2 2h14c1.1 0 2-.9 2-2V5c0-1.1-.9-2-2-2zM9 17H7v-7h2v7zm4 0h-2V7h2v10zm4 0h-2v-4h2v4z\"/>\n",
              "    </g>\n",
              "</svg>\n",
              "      </button>\n",
              "    </div>\n",
              "\n",
              "<style>\n",
              "  .colab-df-quickchart {\n",
              "    background-color: #E8F0FE;\n",
              "    border: none;\n",
              "    border-radius: 50%;\n",
              "    cursor: pointer;\n",
              "    display: none;\n",
              "    fill: #1967D2;\n",
              "    height: 32px;\n",
              "    padding: 0 0 0 0;\n",
              "    width: 32px;\n",
              "  }\n",
              "\n",
              "  .colab-df-quickchart:hover {\n",
              "    background-color: #E2EBFA;\n",
              "    box-shadow: 0px 1px 2px rgba(60, 64, 67, 0.3), 0px 1px 3px 1px rgba(60, 64, 67, 0.15);\n",
              "    fill: #174EA6;\n",
              "  }\n",
              "\n",
              "  [theme=dark] .colab-df-quickchart {\n",
              "    background-color: #3B4455;\n",
              "    fill: #D2E3FC;\n",
              "  }\n",
              "\n",
              "  [theme=dark] .colab-df-quickchart:hover {\n",
              "    background-color: #434B5C;\n",
              "    box-shadow: 0px 1px 3px 1px rgba(0, 0, 0, 0.15);\n",
              "    filter: drop-shadow(0px 1px 2px rgba(0, 0, 0, 0.3));\n",
              "    fill: #FFFFFF;\n",
              "  }\n",
              "</style>\n",
              "\n",
              "    <script>\n",
              "      async function quickchart(key) {\n",
              "        const containerElement = document.querySelector('#' + key);\n",
              "        const charts = await google.colab.kernel.invokeFunction(\n",
              "            'suggestCharts', [key], {});\n",
              "      }\n",
              "    </script>\n",
              "\n",
              "      <script>\n",
              "\n",
              "function displayQuickchartButton(domScope) {\n",
              "  let quickchartButtonEl =\n",
              "    domScope.querySelector('#df-fd902c6c-f948-42f6-be1a-be4be4dc625a button.colab-df-quickchart');\n",
              "  quickchartButtonEl.style.display =\n",
              "    google.colab.kernel.accessAllowed ? 'block' : 'none';\n",
              "}\n",
              "\n",
              "        displayQuickchartButton(document);\n",
              "      </script>\n",
              "      <style>\n",
              "    .colab-df-container {\n",
              "      display:flex;\n",
              "      flex-wrap:wrap;\n",
              "      gap: 12px;\n",
              "    }\n",
              "\n",
              "    .colab-df-convert {\n",
              "      background-color: #E8F0FE;\n",
              "      border: none;\n",
              "      border-radius: 50%;\n",
              "      cursor: pointer;\n",
              "      display: none;\n",
              "      fill: #1967D2;\n",
              "      height: 32px;\n",
              "      padding: 0 0 0 0;\n",
              "      width: 32px;\n",
              "    }\n",
              "\n",
              "    .colab-df-convert:hover {\n",
              "      background-color: #E2EBFA;\n",
              "      box-shadow: 0px 1px 2px rgba(60, 64, 67, 0.3), 0px 1px 3px 1px rgba(60, 64, 67, 0.15);\n",
              "      fill: #174EA6;\n",
              "    }\n",
              "\n",
              "    [theme=dark] .colab-df-convert {\n",
              "      background-color: #3B4455;\n",
              "      fill: #D2E3FC;\n",
              "    }\n",
              "\n",
              "    [theme=dark] .colab-df-convert:hover {\n",
              "      background-color: #434B5C;\n",
              "      box-shadow: 0px 1px 3px 1px rgba(0, 0, 0, 0.15);\n",
              "      filter: drop-shadow(0px 1px 2px rgba(0, 0, 0, 0.3));\n",
              "      fill: #FFFFFF;\n",
              "    }\n",
              "  </style>\n",
              "\n",
              "      <script>\n",
              "        const buttonEl =\n",
              "          document.querySelector('#df-60907939-fde3-497f-926c-0b0096bc5287 button.colab-df-convert');\n",
              "        buttonEl.style.display =\n",
              "          google.colab.kernel.accessAllowed ? 'block' : 'none';\n",
              "\n",
              "        async function convertToInteractive(key) {\n",
              "          const element = document.querySelector('#df-60907939-fde3-497f-926c-0b0096bc5287');\n",
              "          const dataTable =\n",
              "            await google.colab.kernel.invokeFunction('convertToInteractive',\n",
              "                                                     [key], {});\n",
              "          if (!dataTable) return;\n",
              "\n",
              "          const docLinkHtml = 'Like what you see? Visit the ' +\n",
              "            '<a target=\"_blank\" href=https://colab.research.google.com/notebooks/data_table.ipynb>data table notebook</a>'\n",
              "            + ' to learn more about interactive tables.';\n",
              "          element.innerHTML = '';\n",
              "          dataTable['output_type'] = 'display_data';\n",
              "          await google.colab.output.renderOutput(dataTable, element);\n",
              "          const docLink = document.createElement('div');\n",
              "          docLink.innerHTML = docLinkHtml;\n",
              "          element.appendChild(docLink);\n",
              "        }\n",
              "      </script>\n",
              "    </div>\n",
              "  </div>\n"
            ]
          },
          "metadata": {},
          "execution_count": 3
        }
      ]
    },
    {
      "cell_type": "code",
      "source": [
        "df['class'].unique()"
      ],
      "metadata": {
        "colab": {
          "base_uri": "https://localhost:8080/"
        },
        "id": "-D1hSyzPqASe",
        "outputId": "cf66fa71-8a2c-486d-815d-626378785b77"
      },
      "execution_count": 4,
      "outputs": [
        {
          "output_type": "execute_result",
          "data": {
            "text/plain": [
              "array(['versicolor', 'virginica', 'setosa'], dtype=object)"
            ]
          },
          "metadata": {},
          "execution_count": 4
        }
      ]
    },
    {
      "cell_type": "code",
      "source": [
        "# Some information about dataset\n",
        "print (df.shape)\n",
        "print(type(df)) # 'pandas.core.frame.DataFrame'\n",
        "print(df.dtypes)"
      ],
      "metadata": {
        "colab": {
          "base_uri": "https://localhost:8080/"
        },
        "id": "Bwy5oxSQqnW9",
        "outputId": "b7667651-78ec-440f-e8cf-8c7ca9587f8d"
      },
      "execution_count": 5,
      "outputs": [
        {
          "output_type": "stream",
          "name": "stdout",
          "text": [
            "(100, 3)\n",
            "<class 'pandas.core.frame.DataFrame'>\n",
            "x1       float64\n",
            "x2       float64\n",
            "class     object\n",
            "dtype: object\n"
          ]
        }
      ]
    },
    {
      "cell_type": "code",
      "source": [
        "df.describe()"
      ],
      "metadata": {
        "colab": {
          "base_uri": "https://localhost:8080/",
          "height": 300
        },
        "id": "JDIvs7dQqs5u",
        "outputId": "81958313-2423-494c-a27d-abaec7c297c0"
      },
      "execution_count": 6,
      "outputs": [
        {
          "output_type": "execute_result",
          "data": {
            "text/plain": [
              "               x1          x2\n",
              "count  100.000000  100.000000\n",
              "mean     3.804000    0.346000\n",
              "std      1.767777    0.233731\n",
              "min      1.000000    0.000000\n",
              "25%      1.600000    0.200000\n",
              "50%      4.500000    0.300000\n",
              "75%      5.100000    0.500000\n",
              "max      6.700000    0.900000"
            ],
            "text/html": [
              "\n",
              "\n",
              "  <div id=\"df-63bc5b15-422e-4267-be9a-74807ed0319a\">\n",
              "    <div class=\"colab-df-container\">\n",
              "      <div>\n",
              "<style scoped>\n",
              "    .dataframe tbody tr th:only-of-type {\n",
              "        vertical-align: middle;\n",
              "    }\n",
              "\n",
              "    .dataframe tbody tr th {\n",
              "        vertical-align: top;\n",
              "    }\n",
              "\n",
              "    .dataframe thead th {\n",
              "        text-align: right;\n",
              "    }\n",
              "</style>\n",
              "<table border=\"1\" class=\"dataframe\">\n",
              "  <thead>\n",
              "    <tr style=\"text-align: right;\">\n",
              "      <th></th>\n",
              "      <th>x1</th>\n",
              "      <th>x2</th>\n",
              "    </tr>\n",
              "  </thead>\n",
              "  <tbody>\n",
              "    <tr>\n",
              "      <th>count</th>\n",
              "      <td>100.000000</td>\n",
              "      <td>100.000000</td>\n",
              "    </tr>\n",
              "    <tr>\n",
              "      <th>mean</th>\n",
              "      <td>3.804000</td>\n",
              "      <td>0.346000</td>\n",
              "    </tr>\n",
              "    <tr>\n",
              "      <th>std</th>\n",
              "      <td>1.767777</td>\n",
              "      <td>0.233731</td>\n",
              "    </tr>\n",
              "    <tr>\n",
              "      <th>min</th>\n",
              "      <td>1.000000</td>\n",
              "      <td>0.000000</td>\n",
              "    </tr>\n",
              "    <tr>\n",
              "      <th>25%</th>\n",
              "      <td>1.600000</td>\n",
              "      <td>0.200000</td>\n",
              "    </tr>\n",
              "    <tr>\n",
              "      <th>50%</th>\n",
              "      <td>4.500000</td>\n",
              "      <td>0.300000</td>\n",
              "    </tr>\n",
              "    <tr>\n",
              "      <th>75%</th>\n",
              "      <td>5.100000</td>\n",
              "      <td>0.500000</td>\n",
              "    </tr>\n",
              "    <tr>\n",
              "      <th>max</th>\n",
              "      <td>6.700000</td>\n",
              "      <td>0.900000</td>\n",
              "    </tr>\n",
              "  </tbody>\n",
              "</table>\n",
              "</div>\n",
              "      <button class=\"colab-df-convert\" onclick=\"convertToInteractive('df-63bc5b15-422e-4267-be9a-74807ed0319a')\"\n",
              "              title=\"Convert this dataframe to an interactive table.\"\n",
              "              style=\"display:none;\">\n",
              "\n",
              "  <svg xmlns=\"http://www.w3.org/2000/svg\" height=\"24px\"viewBox=\"0 0 24 24\"\n",
              "       width=\"24px\">\n",
              "    <path d=\"M0 0h24v24H0V0z\" fill=\"none\"/>\n",
              "    <path d=\"M18.56 5.44l.94 2.06.94-2.06 2.06-.94-2.06-.94-.94-2.06-.94 2.06-2.06.94zm-11 1L8.5 8.5l.94-2.06 2.06-.94-2.06-.94L8.5 2.5l-.94 2.06-2.06.94zm10 10l.94 2.06.94-2.06 2.06-.94-2.06-.94-.94-2.06-.94 2.06-2.06.94z\"/><path d=\"M17.41 7.96l-1.37-1.37c-.4-.4-.92-.59-1.43-.59-.52 0-1.04.2-1.43.59L10.3 9.45l-7.72 7.72c-.78.78-.78 2.05 0 2.83L4 21.41c.39.39.9.59 1.41.59.51 0 1.02-.2 1.41-.59l7.78-7.78 2.81-2.81c.8-.78.8-2.07 0-2.86zM5.41 20L4 18.59l7.72-7.72 1.47 1.35L5.41 20z\"/>\n",
              "  </svg>\n",
              "      </button>\n",
              "\n",
              "\n",
              "\n",
              "    <div id=\"df-79964309-b416-45aa-8bc8-8fb2b0af3183\">\n",
              "      <button class=\"colab-df-quickchart\" onclick=\"quickchart('df-79964309-b416-45aa-8bc8-8fb2b0af3183')\"\n",
              "              title=\"Suggest charts.\"\n",
              "              style=\"display:none;\">\n",
              "\n",
              "<svg xmlns=\"http://www.w3.org/2000/svg\" height=\"24px\"viewBox=\"0 0 24 24\"\n",
              "     width=\"24px\">\n",
              "    <g>\n",
              "        <path d=\"M19 3H5c-1.1 0-2 .9-2 2v14c0 1.1.9 2 2 2h14c1.1 0 2-.9 2-2V5c0-1.1-.9-2-2-2zM9 17H7v-7h2v7zm4 0h-2V7h2v10zm4 0h-2v-4h2v4z\"/>\n",
              "    </g>\n",
              "</svg>\n",
              "      </button>\n",
              "    </div>\n",
              "\n",
              "<style>\n",
              "  .colab-df-quickchart {\n",
              "    background-color: #E8F0FE;\n",
              "    border: none;\n",
              "    border-radius: 50%;\n",
              "    cursor: pointer;\n",
              "    display: none;\n",
              "    fill: #1967D2;\n",
              "    height: 32px;\n",
              "    padding: 0 0 0 0;\n",
              "    width: 32px;\n",
              "  }\n",
              "\n",
              "  .colab-df-quickchart:hover {\n",
              "    background-color: #E2EBFA;\n",
              "    box-shadow: 0px 1px 2px rgba(60, 64, 67, 0.3), 0px 1px 3px 1px rgba(60, 64, 67, 0.15);\n",
              "    fill: #174EA6;\n",
              "  }\n",
              "\n",
              "  [theme=dark] .colab-df-quickchart {\n",
              "    background-color: #3B4455;\n",
              "    fill: #D2E3FC;\n",
              "  }\n",
              "\n",
              "  [theme=dark] .colab-df-quickchart:hover {\n",
              "    background-color: #434B5C;\n",
              "    box-shadow: 0px 1px 3px 1px rgba(0, 0, 0, 0.15);\n",
              "    filter: drop-shadow(0px 1px 2px rgba(0, 0, 0, 0.3));\n",
              "    fill: #FFFFFF;\n",
              "  }\n",
              "</style>\n",
              "\n",
              "    <script>\n",
              "      async function quickchart(key) {\n",
              "        const containerElement = document.querySelector('#' + key);\n",
              "        const charts = await google.colab.kernel.invokeFunction(\n",
              "            'suggestCharts', [key], {});\n",
              "      }\n",
              "    </script>\n",
              "\n",
              "      <script>\n",
              "\n",
              "function displayQuickchartButton(domScope) {\n",
              "  let quickchartButtonEl =\n",
              "    domScope.querySelector('#df-79964309-b416-45aa-8bc8-8fb2b0af3183 button.colab-df-quickchart');\n",
              "  quickchartButtonEl.style.display =\n",
              "    google.colab.kernel.accessAllowed ? 'block' : 'none';\n",
              "}\n",
              "\n",
              "        displayQuickchartButton(document);\n",
              "      </script>\n",
              "      <style>\n",
              "    .colab-df-container {\n",
              "      display:flex;\n",
              "      flex-wrap:wrap;\n",
              "      gap: 12px;\n",
              "    }\n",
              "\n",
              "    .colab-df-convert {\n",
              "      background-color: #E8F0FE;\n",
              "      border: none;\n",
              "      border-radius: 50%;\n",
              "      cursor: pointer;\n",
              "      display: none;\n",
              "      fill: #1967D2;\n",
              "      height: 32px;\n",
              "      padding: 0 0 0 0;\n",
              "      width: 32px;\n",
              "    }\n",
              "\n",
              "    .colab-df-convert:hover {\n",
              "      background-color: #E2EBFA;\n",
              "      box-shadow: 0px 1px 2px rgba(60, 64, 67, 0.3), 0px 1px 3px 1px rgba(60, 64, 67, 0.15);\n",
              "      fill: #174EA6;\n",
              "    }\n",
              "\n",
              "    [theme=dark] .colab-df-convert {\n",
              "      background-color: #3B4455;\n",
              "      fill: #D2E3FC;\n",
              "    }\n",
              "\n",
              "    [theme=dark] .colab-df-convert:hover {\n",
              "      background-color: #434B5C;\n",
              "      box-shadow: 0px 1px 3px 1px rgba(0, 0, 0, 0.15);\n",
              "      filter: drop-shadow(0px 1px 2px rgba(0, 0, 0, 0.3));\n",
              "      fill: #FFFFFF;\n",
              "    }\n",
              "  </style>\n",
              "\n",
              "      <script>\n",
              "        const buttonEl =\n",
              "          document.querySelector('#df-63bc5b15-422e-4267-be9a-74807ed0319a button.colab-df-convert');\n",
              "        buttonEl.style.display =\n",
              "          google.colab.kernel.accessAllowed ? 'block' : 'none';\n",
              "\n",
              "        async function convertToInteractive(key) {\n",
              "          const element = document.querySelector('#df-63bc5b15-422e-4267-be9a-74807ed0319a');\n",
              "          const dataTable =\n",
              "            await google.colab.kernel.invokeFunction('convertToInteractive',\n",
              "                                                     [key], {});\n",
              "          if (!dataTable) return;\n",
              "\n",
              "          const docLinkHtml = 'Like what you see? Visit the ' +\n",
              "            '<a target=\"_blank\" href=https://colab.research.google.com/notebooks/data_table.ipynb>data table notebook</a>'\n",
              "            + ' to learn more about interactive tables.';\n",
              "          element.innerHTML = '';\n",
              "          dataTable['output_type'] = 'display_data';\n",
              "          await google.colab.output.renderOutput(dataTable, element);\n",
              "          const docLink = document.createElement('div');\n",
              "          docLink.innerHTML = docLinkHtml;\n",
              "          element.appendChild(docLink);\n",
              "        }\n",
              "      </script>\n",
              "    </div>\n",
              "  </div>\n"
            ]
          },
          "metadata": {},
          "execution_count": 6
        }
      ]
    },
    {
      "cell_type": "markdown",
      "source": [
        "**a. Gunakan Pandas untuk membaca data, kemudian simpan atribut ciri pada X dan class pada y.**"
      ],
      "metadata": {
        "id": "9rNGpNK8tqiM"
      }
    },
    {
      "cell_type": "code",
      "source": [
        "# Prepare input and output data\n",
        "# for training models\n",
        "y = df.pop('class')\n",
        "\n",
        "X=df\n",
        "\n",
        "print(X.head())"
      ],
      "metadata": {
        "colab": {
          "base_uri": "https://localhost:8080/"
        },
        "id": "9r9JJ3lfqu07",
        "outputId": "4b5e4dbc-d04b-417e-d2f9-eb8e509e475d"
      },
      "execution_count": 7,
      "outputs": [
        {
          "output_type": "stream",
          "name": "stdout",
          "text": [
            "    x1   x2\n",
            "0  5.0  0.7\n",
            "1  5.1  0.4\n",
            "2  5.1  0.0\n",
            "3  5.4  0.1\n",
            "4  1.5  0.2\n"
          ]
        }
      ]
    },
    {
      "cell_type": "code",
      "source": [
        "print(y.head())"
      ],
      "metadata": {
        "colab": {
          "base_uri": "https://localhost:8080/"
        },
        "id": "iyRcTahJqwwW",
        "outputId": "054b8ad9-7d86-4865-b6f3-43f84b687794"
      },
      "execution_count": 8,
      "outputs": [
        {
          "output_type": "stream",
          "name": "stdout",
          "text": [
            "0    versicolor\n",
            "1     virginica\n",
            "2     virginica\n",
            "3     virginica\n",
            "4        setosa\n",
            "Name: class, dtype: object\n"
          ]
        }
      ]
    },
    {
      "cell_type": "markdown",
      "source": [
        "**b. Bagilah data 70% untuk training (X_train dan y_train) dan 30% untuk test (X_test, dan y_test), kemudian lakukan normalisasi data.**"
      ],
      "metadata": {
        "id": "L06t1QKPt0R3"
      }
    },
    {
      "cell_type": "code",
      "source": [
        "X_train, X_test, y_train, y_test = train_test_split(X,y,random_state=1, test_size=0.3)\n",
        "sc_X = StandardScaler()\n",
        "X_trainscaled=sc_X.fit_transform(X_train)\n",
        "X_testscaled=sc_X.transform(X_test)"
      ],
      "metadata": {
        "id": "IFSZItvDqzNJ"
      },
      "execution_count": 9,
      "outputs": []
    },
    {
      "cell_type": "markdown",
      "source": [
        "**c. Gunakan tensorflow untuk membangun model multi-layer perceptron dengan struktur seperti pada gambar.**"
      ],
      "metadata": {
        "id": "PJCpzlBvyZfL"
      }
    },
    {
      "cell_type": "code",
      "source": [
        "# ('identity', 'logistic', 'tanh', 'relu')\n",
        "net = MLPClassifier(hidden_layer_sizes=(64,32),activation=\"relu\",\n",
        "                    random_state=1,alpha=1) # (256,128,64,32)\n",
        "net"
      ],
      "metadata": {
        "colab": {
          "base_uri": "https://localhost:8080/",
          "height": 74
        },
        "id": "laVIPSirq2PY",
        "outputId": "7e020e55-4d3c-4c79-f4de-d3f59e431421"
      },
      "execution_count": 10,
      "outputs": [
        {
          "output_type": "execute_result",
          "data": {
            "text/plain": [
              "MLPClassifier(alpha=1, hidden_layer_sizes=(64, 32), random_state=1)"
            ],
            "text/html": [
              "<style>#sk-container-id-1 {color: black;background-color: white;}#sk-container-id-1 pre{padding: 0;}#sk-container-id-1 div.sk-toggleable {background-color: white;}#sk-container-id-1 label.sk-toggleable__label {cursor: pointer;display: block;width: 100%;margin-bottom: 0;padding: 0.3em;box-sizing: border-box;text-align: center;}#sk-container-id-1 label.sk-toggleable__label-arrow:before {content: \"▸\";float: left;margin-right: 0.25em;color: #696969;}#sk-container-id-1 label.sk-toggleable__label-arrow:hover:before {color: black;}#sk-container-id-1 div.sk-estimator:hover label.sk-toggleable__label-arrow:before {color: black;}#sk-container-id-1 div.sk-toggleable__content {max-height: 0;max-width: 0;overflow: hidden;text-align: left;background-color: #f0f8ff;}#sk-container-id-1 div.sk-toggleable__content pre {margin: 0.2em;color: black;border-radius: 0.25em;background-color: #f0f8ff;}#sk-container-id-1 input.sk-toggleable__control:checked~div.sk-toggleable__content {max-height: 200px;max-width: 100%;overflow: auto;}#sk-container-id-1 input.sk-toggleable__control:checked~label.sk-toggleable__label-arrow:before {content: \"▾\";}#sk-container-id-1 div.sk-estimator input.sk-toggleable__control:checked~label.sk-toggleable__label {background-color: #d4ebff;}#sk-container-id-1 div.sk-label input.sk-toggleable__control:checked~label.sk-toggleable__label {background-color: #d4ebff;}#sk-container-id-1 input.sk-hidden--visually {border: 0;clip: rect(1px 1px 1px 1px);clip: rect(1px, 1px, 1px, 1px);height: 1px;margin: -1px;overflow: hidden;padding: 0;position: absolute;width: 1px;}#sk-container-id-1 div.sk-estimator {font-family: monospace;background-color: #f0f8ff;border: 1px dotted black;border-radius: 0.25em;box-sizing: border-box;margin-bottom: 0.5em;}#sk-container-id-1 div.sk-estimator:hover {background-color: #d4ebff;}#sk-container-id-1 div.sk-parallel-item::after {content: \"\";width: 100%;border-bottom: 1px solid gray;flex-grow: 1;}#sk-container-id-1 div.sk-label:hover label.sk-toggleable__label {background-color: #d4ebff;}#sk-container-id-1 div.sk-serial::before {content: \"\";position: absolute;border-left: 1px solid gray;box-sizing: border-box;top: 0;bottom: 0;left: 50%;z-index: 0;}#sk-container-id-1 div.sk-serial {display: flex;flex-direction: column;align-items: center;background-color: white;padding-right: 0.2em;padding-left: 0.2em;position: relative;}#sk-container-id-1 div.sk-item {position: relative;z-index: 1;}#sk-container-id-1 div.sk-parallel {display: flex;align-items: stretch;justify-content: center;background-color: white;position: relative;}#sk-container-id-1 div.sk-item::before, #sk-container-id-1 div.sk-parallel-item::before {content: \"\";position: absolute;border-left: 1px solid gray;box-sizing: border-box;top: 0;bottom: 0;left: 50%;z-index: -1;}#sk-container-id-1 div.sk-parallel-item {display: flex;flex-direction: column;z-index: 1;position: relative;background-color: white;}#sk-container-id-1 div.sk-parallel-item:first-child::after {align-self: flex-end;width: 50%;}#sk-container-id-1 div.sk-parallel-item:last-child::after {align-self: flex-start;width: 50%;}#sk-container-id-1 div.sk-parallel-item:only-child::after {width: 0;}#sk-container-id-1 div.sk-dashed-wrapped {border: 1px dashed gray;margin: 0 0.4em 0.5em 0.4em;box-sizing: border-box;padding-bottom: 0.4em;background-color: white;}#sk-container-id-1 div.sk-label label {font-family: monospace;font-weight: bold;display: inline-block;line-height: 1.2em;}#sk-container-id-1 div.sk-label-container {text-align: center;}#sk-container-id-1 div.sk-container {/* jupyter's `normalize.less` sets `[hidden] { display: none; }` but bootstrap.min.css set `[hidden] { display: none !important; }` so we also need the `!important` here to be able to override the default hidden behavior on the sphinx rendered scikit-learn.org. See: https://github.com/scikit-learn/scikit-learn/issues/21755 */display: inline-block !important;position: relative;}#sk-container-id-1 div.sk-text-repr-fallback {display: none;}</style><div id=\"sk-container-id-1\" class=\"sk-top-container\"><div class=\"sk-text-repr-fallback\"><pre>MLPClassifier(alpha=1, hidden_layer_sizes=(64, 32), random_state=1)</pre><b>In a Jupyter environment, please rerun this cell to show the HTML representation or trust the notebook. <br />On GitHub, the HTML representation is unable to render, please try loading this page with nbviewer.org.</b></div><div class=\"sk-container\" hidden><div class=\"sk-item\"><div class=\"sk-estimator sk-toggleable\"><input class=\"sk-toggleable__control sk-hidden--visually\" id=\"sk-estimator-id-1\" type=\"checkbox\" checked><label for=\"sk-estimator-id-1\" class=\"sk-toggleable__label sk-toggleable__label-arrow\">MLPClassifier</label><div class=\"sk-toggleable__content\"><pre>MLPClassifier(alpha=1, hidden_layer_sizes=(64, 32), random_state=1)</pre></div></div></div></div></div>"
            ]
          },
          "metadata": {},
          "execution_count": 10
        }
      ]
    },
    {
      "cell_type": "code",
      "source": [
        "net.fit(X_trainscaled, y_train)\n",
        "net"
      ],
      "metadata": {
        "colab": {
          "base_uri": "https://localhost:8080/",
          "height": 129
        },
        "id": "DJQ4UFTNrVOG",
        "outputId": "bf1c3491-d3f9-4386-edf0-0b303b9bfd00"
      },
      "execution_count": 11,
      "outputs": [
        {
          "output_type": "stream",
          "name": "stderr",
          "text": [
            "/usr/local/lib/python3.10/dist-packages/sklearn/neural_network/_multilayer_perceptron.py:686: ConvergenceWarning: Stochastic Optimizer: Maximum iterations (200) reached and the optimization hasn't converged yet.\n",
            "  warnings.warn(\n"
          ]
        },
        {
          "output_type": "execute_result",
          "data": {
            "text/plain": [
              "MLPClassifier(alpha=1, hidden_layer_sizes=(64, 32), random_state=1)"
            ],
            "text/html": [
              "<style>#sk-container-id-2 {color: black;background-color: white;}#sk-container-id-2 pre{padding: 0;}#sk-container-id-2 div.sk-toggleable {background-color: white;}#sk-container-id-2 label.sk-toggleable__label {cursor: pointer;display: block;width: 100%;margin-bottom: 0;padding: 0.3em;box-sizing: border-box;text-align: center;}#sk-container-id-2 label.sk-toggleable__label-arrow:before {content: \"▸\";float: left;margin-right: 0.25em;color: #696969;}#sk-container-id-2 label.sk-toggleable__label-arrow:hover:before {color: black;}#sk-container-id-2 div.sk-estimator:hover label.sk-toggleable__label-arrow:before {color: black;}#sk-container-id-2 div.sk-toggleable__content {max-height: 0;max-width: 0;overflow: hidden;text-align: left;background-color: #f0f8ff;}#sk-container-id-2 div.sk-toggleable__content pre {margin: 0.2em;color: black;border-radius: 0.25em;background-color: #f0f8ff;}#sk-container-id-2 input.sk-toggleable__control:checked~div.sk-toggleable__content {max-height: 200px;max-width: 100%;overflow: auto;}#sk-container-id-2 input.sk-toggleable__control:checked~label.sk-toggleable__label-arrow:before {content: \"▾\";}#sk-container-id-2 div.sk-estimator input.sk-toggleable__control:checked~label.sk-toggleable__label {background-color: #d4ebff;}#sk-container-id-2 div.sk-label input.sk-toggleable__control:checked~label.sk-toggleable__label {background-color: #d4ebff;}#sk-container-id-2 input.sk-hidden--visually {border: 0;clip: rect(1px 1px 1px 1px);clip: rect(1px, 1px, 1px, 1px);height: 1px;margin: -1px;overflow: hidden;padding: 0;position: absolute;width: 1px;}#sk-container-id-2 div.sk-estimator {font-family: monospace;background-color: #f0f8ff;border: 1px dotted black;border-radius: 0.25em;box-sizing: border-box;margin-bottom: 0.5em;}#sk-container-id-2 div.sk-estimator:hover {background-color: #d4ebff;}#sk-container-id-2 div.sk-parallel-item::after {content: \"\";width: 100%;border-bottom: 1px solid gray;flex-grow: 1;}#sk-container-id-2 div.sk-label:hover label.sk-toggleable__label {background-color: #d4ebff;}#sk-container-id-2 div.sk-serial::before {content: \"\";position: absolute;border-left: 1px solid gray;box-sizing: border-box;top: 0;bottom: 0;left: 50%;z-index: 0;}#sk-container-id-2 div.sk-serial {display: flex;flex-direction: column;align-items: center;background-color: white;padding-right: 0.2em;padding-left: 0.2em;position: relative;}#sk-container-id-2 div.sk-item {position: relative;z-index: 1;}#sk-container-id-2 div.sk-parallel {display: flex;align-items: stretch;justify-content: center;background-color: white;position: relative;}#sk-container-id-2 div.sk-item::before, #sk-container-id-2 div.sk-parallel-item::before {content: \"\";position: absolute;border-left: 1px solid gray;box-sizing: border-box;top: 0;bottom: 0;left: 50%;z-index: -1;}#sk-container-id-2 div.sk-parallel-item {display: flex;flex-direction: column;z-index: 1;position: relative;background-color: white;}#sk-container-id-2 div.sk-parallel-item:first-child::after {align-self: flex-end;width: 50%;}#sk-container-id-2 div.sk-parallel-item:last-child::after {align-self: flex-start;width: 50%;}#sk-container-id-2 div.sk-parallel-item:only-child::after {width: 0;}#sk-container-id-2 div.sk-dashed-wrapped {border: 1px dashed gray;margin: 0 0.4em 0.5em 0.4em;box-sizing: border-box;padding-bottom: 0.4em;background-color: white;}#sk-container-id-2 div.sk-label label {font-family: monospace;font-weight: bold;display: inline-block;line-height: 1.2em;}#sk-container-id-2 div.sk-label-container {text-align: center;}#sk-container-id-2 div.sk-container {/* jupyter's `normalize.less` sets `[hidden] { display: none; }` but bootstrap.min.css set `[hidden] { display: none !important; }` so we also need the `!important` here to be able to override the default hidden behavior on the sphinx rendered scikit-learn.org. See: https://github.com/scikit-learn/scikit-learn/issues/21755 */display: inline-block !important;position: relative;}#sk-container-id-2 div.sk-text-repr-fallback {display: none;}</style><div id=\"sk-container-id-2\" class=\"sk-top-container\"><div class=\"sk-text-repr-fallback\"><pre>MLPClassifier(alpha=1, hidden_layer_sizes=(64, 32), random_state=1)</pre><b>In a Jupyter environment, please rerun this cell to show the HTML representation or trust the notebook. <br />On GitHub, the HTML representation is unable to render, please try loading this page with nbviewer.org.</b></div><div class=\"sk-container\" hidden><div class=\"sk-item\"><div class=\"sk-estimator sk-toggleable\"><input class=\"sk-toggleable__control sk-hidden--visually\" id=\"sk-estimator-id-2\" type=\"checkbox\" checked><label for=\"sk-estimator-id-2\" class=\"sk-toggleable__label sk-toggleable__label-arrow\">MLPClassifier</label><div class=\"sk-toggleable__content\"><pre>MLPClassifier(alpha=1, hidden_layer_sizes=(64, 32), random_state=1)</pre></div></div></div></div></div>"
            ]
          },
          "metadata": {},
          "execution_count": 11
        }
      ]
    },
    {
      "cell_type": "code",
      "source": [
        "[coef.shape for coef in net.coefs_]"
      ],
      "metadata": {
        "colab": {
          "base_uri": "https://localhost:8080/"
        },
        "id": "qmkeOQFty6YD",
        "outputId": "bae47bb0-9657-4a31-f632-d36eb26d1539"
      },
      "execution_count": 12,
      "outputs": [
        {
          "output_type": "execute_result",
          "data": {
            "text/plain": [
              "[(2, 64), (64, 32), (32, 3)]"
            ]
          },
          "metadata": {},
          "execution_count": 12
        }
      ]
    },
    {
      "cell_type": "code",
      "source": [
        "print(net.out_activation_)"
      ],
      "metadata": {
        "colab": {
          "base_uri": "https://localhost:8080/"
        },
        "id": "L806zKMLy9YR",
        "outputId": "3b1d6b0c-3bc4-470a-e407-f9e0041fc9cb"
      },
      "execution_count": 13,
      "outputs": [
        {
          "output_type": "stream",
          "name": "stdout",
          "text": [
            "softmax\n"
          ]
        }
      ]
    },
    {
      "cell_type": "code",
      "source": [
        "y_pred=net.predict(X_testscaled)\n",
        "print(net.score(X_testscaled, y_test))\n",
        "\n",
        "print('Test Accuracy : %.3f'%net.score(X_testscaled, y_test))\n",
        "print('Training Accuracy : %.3f'%net.score(X_trainscaled, y_train))"
      ],
      "metadata": {
        "colab": {
          "base_uri": "https://localhost:8080/"
        },
        "id": "OzLfs-kAzBUp",
        "outputId": "a24ceaee-60e9-42fc-cdb1-17003bf891a9"
      },
      "execution_count": 14,
      "outputs": [
        {
          "output_type": "stream",
          "name": "stdout",
          "text": [
            "1.0\n",
            "Test Accuracy : 1.000\n",
            "Training Accuracy : 0.957\n"
          ]
        }
      ]
    },
    {
      "cell_type": "markdown",
      "source": [
        "**e. Gunakan data testing untuk mendapatkan confusion matrix. Kemudian hitung berapa % akurasi model anda. Coba gunakan model anda untuk memprediksi jenis bunga apa jika x1 = 5.9 dan x2 = 2.2. Prediksi menghasilkan virginica**"
      ],
      "metadata": {
        "id": "03YFXjWkusFM"
      }
    },
    {
      "cell_type": "code",
      "source": [
        "cf_matrix = confusion_matrix(y_test, y_pred)\n",
        "print(cf_matrix)"
      ],
      "metadata": {
        "colab": {
          "base_uri": "https://localhost:8080/"
        },
        "id": "P33IIhuKzDlF",
        "outputId": "b846c254-9687-4c65-8257-5793b4324f90"
      },
      "execution_count": 15,
      "outputs": [
        {
          "output_type": "stream",
          "name": "stdout",
          "text": [
            "[[10  0  0]\n",
            " [ 0 10  0]\n",
            " [ 0  0 10]]\n"
          ]
        }
      ]
    },
    {
      "cell_type": "code",
      "source": [
        "print(net.predict([[5.9,2.2]]))"
      ],
      "metadata": {
        "colab": {
          "base_uri": "https://localhost:8080/"
        },
        "id": "IleKhOMDzFxa",
        "outputId": "6f338a5f-6fd4-42ce-9e11-8c8254871988"
      },
      "execution_count": 16,
      "outputs": [
        {
          "output_type": "stream",
          "name": "stdout",
          "text": [
            "['virginica']\n"
          ]
        }
      ]
    },
    {
      "cell_type": "code",
      "source": [
        "print(y_pred[:4])\n",
        "print(y_test[:4].values)"
      ],
      "metadata": {
        "colab": {
          "base_uri": "https://localhost:8080/"
        },
        "id": "YFgZX4FzzRpq",
        "outputId": "1f938f35-3a7b-450d-9b53-35172630db83"
      },
      "execution_count": 17,
      "outputs": [
        {
          "output_type": "stream",
          "name": "stdout",
          "text": [
            "['versicolor' 'versicolor' 'setosa' 'virginica']\n",
            "['versicolor' 'versicolor' 'setosa' 'virginica']\n"
          ]
        }
      ]
    },
    {
      "cell_type": "code",
      "source": [
        "print('Activation function for hidden layers : {}'.format(net.activation))\n",
        "print('Solver : {}'.format(net.solver))\n",
        "print('Alpha value : {}'.format(net.alpha))\n",
        "# activation{‘identity’, ‘logistic’, ‘tanh’, ‘relu’}, default=’relu’\n",
        "# solver{‘lbfgs’, ‘sgd’, ‘adam’}, default=’adam’\n",
        "print('Output activation by default: {}'.format(net.out_activation_))"
      ],
      "metadata": {
        "colab": {
          "base_uri": "https://localhost:8080/"
        },
        "id": "BMt8WFy4zc1Q",
        "outputId": "435ad029-55da-4abb-b401-ababefbb3aad"
      },
      "execution_count": 18,
      "outputs": [
        {
          "output_type": "stream",
          "name": "stdout",
          "text": [
            "Activation function for hidden layers : relu\n",
            "Solver : adam\n",
            "Alpha value : 1\n",
            "Output activation by default: softmax\n"
          ]
        }
      ]
    },
    {
      "cell_type": "code",
      "source": [
        "print('Test Accuracy : %.3f'%net.score(X_testscaled, y_test)) ## Score method also evaluates accuracy for classification models.\n",
        "print('Training Accuracy : %.3f'%net.score(X_trainscaled, y_train))"
      ],
      "metadata": {
        "colab": {
          "base_uri": "https://localhost:8080/"
        },
        "id": "Jryqay0Ozlew",
        "outputId": "5926123e-8ee8-4863-da2d-b00c12ee0a7d"
      },
      "execution_count": 19,
      "outputs": [
        {
          "output_type": "stream",
          "name": "stdout",
          "text": [
            "Test Accuracy : 1.000\n",
            "Training Accuracy : 0.957\n"
          ]
        }
      ]
    },
    {
      "cell_type": "code",
      "source": [
        "import numpy as np # linear algebra\n",
        "import pandas as pd # data processing, CSV file I/O (e.g. pd.read_csv)\n",
        "import matplotlib.pyplot as pyplot"
      ],
      "metadata": {
        "id": "gVpr6T9TzpRZ"
      },
      "execution_count": 20,
      "outputs": []
    },
    {
      "cell_type": "code",
      "source": [
        "y"
      ],
      "metadata": {
        "colab": {
          "base_uri": "https://localhost:8080/"
        },
        "id": "6OC1SN5szsIe",
        "outputId": "b29f1583-6d6f-4a54-eed3-1b244225e17a"
      },
      "execution_count": 21,
      "outputs": [
        {
          "output_type": "execute_result",
          "data": {
            "text/plain": [
              "0     versicolor\n",
              "1      virginica\n",
              "2      virginica\n",
              "3      virginica\n",
              "4         setosa\n",
              "         ...    \n",
              "95     virginica\n",
              "96        setosa\n",
              "97     virginica\n",
              "98        setosa\n",
              "99    versicolor\n",
              "Name: class, Length: 100, dtype: object"
            ]
          },
          "metadata": {},
          "execution_count": 21
        }
      ]
    },
    {
      "cell_type": "code",
      "source": [
        "#Keras requires your output feature to be one-hot encoded values.\n",
        "import numpy as np\n",
        "from tensorflow.keras.utils import to_categorical\n",
        "### Categorical data to be converted to numeric data\n",
        "# Import label encoder\n",
        "from sklearn import preprocessing\n",
        "\n",
        "# label_encoder object knows how to understand word labels.\n",
        "label_encoder = preprocessing.LabelEncoder()\n",
        "\n",
        "# Encode labels in column 'species'.\n",
        "y_number= label_encoder.fit_transform(y)"
      ],
      "metadata": {
        "id": "IhOhS0MpzvKe"
      },
      "execution_count": 22,
      "outputs": []
    },
    {
      "cell_type": "code",
      "source": [
        "y_number"
      ],
      "metadata": {
        "colab": {
          "base_uri": "https://localhost:8080/"
        },
        "id": "IdbRUv05zxyu",
        "outputId": "ca903f88-a739-424b-bb89-d7e9d3c61263"
      },
      "execution_count": 23,
      "outputs": [
        {
          "output_type": "execute_result",
          "data": {
            "text/plain": [
              "array([1, 2, 2, 2, 0, 0, 2, 1, 1, 2, 1, 2, 0, 1, 0, 2, 0, 0, 1, 1, 2, 2,\n",
              "       1, 0, 0, 1, 2, 0, 1, 2, 0, 0, 1, 0, 1, 2, 2, 0, 1, 0, 2, 0, 1, 2,\n",
              "       0, 0, 2, 1, 2, 0, 2, 2, 0, 0, 1, 0, 2, 1, 2, 2, 1, 2, 1, 2, 0, 1,\n",
              "       0, 2, 1, 0, 1, 1, 0, 0, 2, 0, 1, 1, 0, 0, 1, 2, 2, 1, 1, 0, 0, 1,\n",
              "       1, 1, 2, 2, 1, 1, 2, 2, 0, 2, 0, 1])"
            ]
          },
          "metadata": {},
          "execution_count": 23
        }
      ]
    },
    {
      "cell_type": "code",
      "source": [
        "Y = to_categorical(y_number)\n",
        "print(Y[0:5])"
      ],
      "metadata": {
        "colab": {
          "base_uri": "https://localhost:8080/"
        },
        "id": "19TUaj0uz1El",
        "outputId": "c82c6fa8-14db-4635-d455-ac17c22a9288"
      },
      "execution_count": 24,
      "outputs": [
        {
          "output_type": "stream",
          "name": "stdout",
          "text": [
            "[[0. 1. 0.]\n",
            " [0. 0. 1.]\n",
            " [0. 0. 1.]\n",
            " [0. 0. 1.]\n",
            " [1. 0. 0.]]\n"
          ]
        }
      ]
    },
    {
      "cell_type": "code",
      "source": [
        "Y"
      ],
      "metadata": {
        "colab": {
          "base_uri": "https://localhost:8080/"
        },
        "id": "Ri26mRcqz16i",
        "outputId": "79253c3b-e1ce-4bb6-8404-9c1f7cb8456c"
      },
      "execution_count": 25,
      "outputs": [
        {
          "output_type": "execute_result",
          "data": {
            "text/plain": [
              "array([[0., 1., 0.],\n",
              "       [0., 0., 1.],\n",
              "       [0., 0., 1.],\n",
              "       [0., 0., 1.],\n",
              "       [1., 0., 0.],\n",
              "       [1., 0., 0.],\n",
              "       [0., 0., 1.],\n",
              "       [0., 1., 0.],\n",
              "       [0., 1., 0.],\n",
              "       [0., 0., 1.],\n",
              "       [0., 1., 0.],\n",
              "       [0., 0., 1.],\n",
              "       [1., 0., 0.],\n",
              "       [0., 1., 0.],\n",
              "       [1., 0., 0.],\n",
              "       [0., 0., 1.],\n",
              "       [1., 0., 0.],\n",
              "       [1., 0., 0.],\n",
              "       [0., 1., 0.],\n",
              "       [0., 1., 0.],\n",
              "       [0., 0., 1.],\n",
              "       [0., 0., 1.],\n",
              "       [0., 1., 0.],\n",
              "       [1., 0., 0.],\n",
              "       [1., 0., 0.],\n",
              "       [0., 1., 0.],\n",
              "       [0., 0., 1.],\n",
              "       [1., 0., 0.],\n",
              "       [0., 1., 0.],\n",
              "       [0., 0., 1.],\n",
              "       [1., 0., 0.],\n",
              "       [1., 0., 0.],\n",
              "       [0., 1., 0.],\n",
              "       [1., 0., 0.],\n",
              "       [0., 1., 0.],\n",
              "       [0., 0., 1.],\n",
              "       [0., 0., 1.],\n",
              "       [1., 0., 0.],\n",
              "       [0., 1., 0.],\n",
              "       [1., 0., 0.],\n",
              "       [0., 0., 1.],\n",
              "       [1., 0., 0.],\n",
              "       [0., 1., 0.],\n",
              "       [0., 0., 1.],\n",
              "       [1., 0., 0.],\n",
              "       [1., 0., 0.],\n",
              "       [0., 0., 1.],\n",
              "       [0., 1., 0.],\n",
              "       [0., 0., 1.],\n",
              "       [1., 0., 0.],\n",
              "       [0., 0., 1.],\n",
              "       [0., 0., 1.],\n",
              "       [1., 0., 0.],\n",
              "       [1., 0., 0.],\n",
              "       [0., 1., 0.],\n",
              "       [1., 0., 0.],\n",
              "       [0., 0., 1.],\n",
              "       [0., 1., 0.],\n",
              "       [0., 0., 1.],\n",
              "       [0., 0., 1.],\n",
              "       [0., 1., 0.],\n",
              "       [0., 0., 1.],\n",
              "       [0., 1., 0.],\n",
              "       [0., 0., 1.],\n",
              "       [1., 0., 0.],\n",
              "       [0., 1., 0.],\n",
              "       [1., 0., 0.],\n",
              "       [0., 0., 1.],\n",
              "       [0., 1., 0.],\n",
              "       [1., 0., 0.],\n",
              "       [0., 1., 0.],\n",
              "       [0., 1., 0.],\n",
              "       [1., 0., 0.],\n",
              "       [1., 0., 0.],\n",
              "       [0., 0., 1.],\n",
              "       [1., 0., 0.],\n",
              "       [0., 1., 0.],\n",
              "       [0., 1., 0.],\n",
              "       [1., 0., 0.],\n",
              "       [1., 0., 0.],\n",
              "       [0., 1., 0.],\n",
              "       [0., 0., 1.],\n",
              "       [0., 0., 1.],\n",
              "       [0., 1., 0.],\n",
              "       [0., 1., 0.],\n",
              "       [1., 0., 0.],\n",
              "       [1., 0., 0.],\n",
              "       [0., 1., 0.],\n",
              "       [0., 1., 0.],\n",
              "       [0., 1., 0.],\n",
              "       [0., 0., 1.],\n",
              "       [0., 0., 1.],\n",
              "       [0., 1., 0.],\n",
              "       [0., 1., 0.],\n",
              "       [0., 0., 1.],\n",
              "       [0., 0., 1.],\n",
              "       [1., 0., 0.],\n",
              "       [0., 0., 1.],\n",
              "       [1., 0., 0.],\n",
              "       [0., 1., 0.]], dtype=float32)"
            ]
          },
          "metadata": {},
          "execution_count": 25
        }
      ]
    },
    {
      "cell_type": "markdown",
      "source": [
        "**d. Latihlah model dengan data training yang telah disiapkan, cukup 100 epoch saja. Buatlah grafik Training Loss dan Training Accuracy pada tiap epoch.**"
      ],
      "metadata": {
        "id": "lMwNIek6uEWQ"
      }
    },
    {
      "cell_type": "code",
      "source": [
        "X_train, X_test, y_train, y_test = train_test_split(X,Y,random_state=1, test_size=0.2)\n",
        "sc_X = StandardScaler()\n",
        "X_trainscaled=sc_X.fit_transform(X_train)\n",
        "X_testscaled=sc_X.transform(X_test)"
      ],
      "metadata": {
        "id": "KasWMb5Uz4MP"
      },
      "execution_count": 26,
      "outputs": []
    },
    {
      "cell_type": "code",
      "source": [
        "from keras.models import Sequential\n",
        "from keras.layers.core import Dense, Dropout, Activation\n",
        "from tensorflow.keras import regularizers\n",
        "\n",
        "\n",
        "model = Sequential()\n",
        "model.add(Dense(10, input_dim=(2), activation='relu'))\n",
        "model.add(Dense(7, activation='relu'))\n",
        "model.add(Dense(5, activation='relu'))\n",
        "model.add(Dense(3, activation='softmax'))\n",
        "\n",
        "model.compile(optimizer='adam', loss='categorical_crossentropy', metrics=['accuracy'])\n",
        "\n",
        "history = model.fit(X_trainscaled, y_train, validation_data=(X_testscaled,y_test),\n",
        "                    epochs=100, batch_size=7)"
      ],
      "metadata": {
        "colab": {
          "base_uri": "https://localhost:8080/"
        },
        "id": "aFKlW14Az7Ck",
        "outputId": "73d36447-8a0e-4f61-ec22-0fc017131131"
      },
      "execution_count": 27,
      "outputs": [
        {
          "output_type": "stream",
          "name": "stdout",
          "text": [
            "Epoch 1/100\n",
            "12/12 [==============================] - 3s 53ms/step - loss: 1.1187 - accuracy: 0.0000e+00 - val_loss: 1.0935 - val_accuracy: 0.0000e+00\n",
            "Epoch 2/100\n",
            "12/12 [==============================] - 0s 15ms/step - loss: 1.1010 - accuracy: 0.0000e+00 - val_loss: 1.0819 - val_accuracy: 0.0500\n",
            "Epoch 3/100\n",
            "12/12 [==============================] - 0s 14ms/step - loss: 1.0871 - accuracy: 0.0125 - val_loss: 1.0712 - val_accuracy: 0.1500\n",
            "Epoch 4/100\n",
            "12/12 [==============================] - 0s 13ms/step - loss: 1.0755 - accuracy: 0.1375 - val_loss: 1.0605 - val_accuracy: 0.1500\n",
            "Epoch 5/100\n",
            "12/12 [==============================] - 0s 13ms/step - loss: 1.0642 - accuracy: 0.2250 - val_loss: 1.0486 - val_accuracy: 0.2500\n",
            "Epoch 6/100\n",
            "12/12 [==============================] - 0s 17ms/step - loss: 1.0511 - accuracy: 0.3375 - val_loss: 1.0352 - val_accuracy: 0.6500\n",
            "Epoch 7/100\n",
            "12/12 [==============================] - 0s 20ms/step - loss: 1.0363 - accuracy: 0.6000 - val_loss: 1.0191 - val_accuracy: 0.6500\n",
            "Epoch 8/100\n",
            "12/12 [==============================] - 0s 13ms/step - loss: 1.0200 - accuracy: 0.6625 - val_loss: 1.0005 - val_accuracy: 0.6500\n",
            "Epoch 9/100\n",
            "12/12 [==============================] - 0s 13ms/step - loss: 1.0012 - accuracy: 0.6625 - val_loss: 0.9804 - val_accuracy: 0.6500\n",
            "Epoch 10/100\n",
            "12/12 [==============================] - 0s 13ms/step - loss: 0.9807 - accuracy: 0.6625 - val_loss: 0.9599 - val_accuracy: 0.6500\n",
            "Epoch 11/100\n",
            "12/12 [==============================] - 0s 13ms/step - loss: 0.9579 - accuracy: 0.6625 - val_loss: 0.9359 - val_accuracy: 0.6500\n",
            "Epoch 12/100\n",
            "12/12 [==============================] - 0s 10ms/step - loss: 0.9330 - accuracy: 0.6625 - val_loss: 0.9087 - val_accuracy: 0.6500\n",
            "Epoch 13/100\n",
            "12/12 [==============================] - 0s 11ms/step - loss: 0.9060 - accuracy: 0.6625 - val_loss: 0.8797 - val_accuracy: 0.6500\n",
            "Epoch 14/100\n",
            "12/12 [==============================] - 0s 13ms/step - loss: 0.8768 - accuracy: 0.6625 - val_loss: 0.8482 - val_accuracy: 0.6500\n",
            "Epoch 15/100\n",
            "12/12 [==============================] - 0s 8ms/step - loss: 0.8428 - accuracy: 0.6625 - val_loss: 0.8158 - val_accuracy: 0.6500\n",
            "Epoch 16/100\n",
            "12/12 [==============================] - 0s 9ms/step - loss: 0.8098 - accuracy: 0.6625 - val_loss: 0.7819 - val_accuracy: 0.6500\n",
            "Epoch 17/100\n",
            "12/12 [==============================] - 0s 9ms/step - loss: 0.7773 - accuracy: 0.6625 - val_loss: 0.7455 - val_accuracy: 0.6500\n",
            "Epoch 18/100\n",
            "12/12 [==============================] - 0s 16ms/step - loss: 0.7440 - accuracy: 0.6625 - val_loss: 0.7149 - val_accuracy: 0.6500\n",
            "Epoch 19/100\n",
            "12/12 [==============================] - 0s 9ms/step - loss: 0.7113 - accuracy: 0.6625 - val_loss: 0.6851 - val_accuracy: 0.6500\n",
            "Epoch 20/100\n",
            "12/12 [==============================] - 0s 12ms/step - loss: 0.6805 - accuracy: 0.6625 - val_loss: 0.6512 - val_accuracy: 0.6500\n",
            "Epoch 21/100\n",
            "12/12 [==============================] - 0s 10ms/step - loss: 0.6482 - accuracy: 0.6625 - val_loss: 0.6257 - val_accuracy: 0.6500\n",
            "Epoch 22/100\n",
            "12/12 [==============================] - 0s 11ms/step - loss: 0.6241 - accuracy: 0.6625 - val_loss: 0.6040 - val_accuracy: 0.6500\n",
            "Epoch 23/100\n",
            "12/12 [==============================] - 0s 14ms/step - loss: 0.6019 - accuracy: 0.6625 - val_loss: 0.5854 - val_accuracy: 0.6500\n",
            "Epoch 24/100\n",
            "12/12 [==============================] - 0s 12ms/step - loss: 0.5837 - accuracy: 0.6750 - val_loss: 0.5699 - val_accuracy: 0.6500\n",
            "Epoch 25/100\n",
            "12/12 [==============================] - 0s 13ms/step - loss: 0.5663 - accuracy: 0.6750 - val_loss: 0.5576 - val_accuracy: 0.6500\n",
            "Epoch 26/100\n",
            "12/12 [==============================] - 0s 21ms/step - loss: 0.5518 - accuracy: 0.6750 - val_loss: 0.5467 - val_accuracy: 0.6500\n",
            "Epoch 27/100\n",
            "12/12 [==============================] - 0s 25ms/step - loss: 0.5407 - accuracy: 0.6750 - val_loss: 0.5375 - val_accuracy: 0.6500\n",
            "Epoch 28/100\n",
            "12/12 [==============================] - 0s 24ms/step - loss: 0.5287 - accuracy: 0.6875 - val_loss: 0.5277 - val_accuracy: 0.6500\n",
            "Epoch 29/100\n",
            "12/12 [==============================] - 0s 22ms/step - loss: 0.5191 - accuracy: 0.7000 - val_loss: 0.5216 - val_accuracy: 0.6500\n",
            "Epoch 30/100\n",
            "12/12 [==============================] - 0s 21ms/step - loss: 0.5101 - accuracy: 0.7125 - val_loss: 0.5139 - val_accuracy: 0.6500\n",
            "Epoch 31/100\n",
            "12/12 [==============================] - 0s 24ms/step - loss: 0.5020 - accuracy: 0.7125 - val_loss: 0.5067 - val_accuracy: 0.6500\n",
            "Epoch 32/100\n",
            "12/12 [==============================] - 0s 24ms/step - loss: 0.4946 - accuracy: 0.7125 - val_loss: 0.4998 - val_accuracy: 0.6500\n",
            "Epoch 33/100\n",
            "12/12 [==============================] - 0s 21ms/step - loss: 0.4875 - accuracy: 0.7125 - val_loss: 0.4926 - val_accuracy: 0.6500\n",
            "Epoch 34/100\n",
            "12/12 [==============================] - 0s 20ms/step - loss: 0.4815 - accuracy: 0.7375 - val_loss: 0.4863 - val_accuracy: 0.6500\n",
            "Epoch 35/100\n",
            "12/12 [==============================] - 0s 24ms/step - loss: 0.4748 - accuracy: 0.7375 - val_loss: 0.4801 - val_accuracy: 0.6500\n",
            "Epoch 36/100\n",
            "12/12 [==============================] - 0s 24ms/step - loss: 0.4693 - accuracy: 0.7625 - val_loss: 0.4746 - val_accuracy: 0.6500\n",
            "Epoch 37/100\n",
            "12/12 [==============================] - 0s 33ms/step - loss: 0.4630 - accuracy: 0.7625 - val_loss: 0.4691 - val_accuracy: 0.6500\n",
            "Epoch 38/100\n",
            "12/12 [==============================] - 0s 22ms/step - loss: 0.4577 - accuracy: 0.7625 - val_loss: 0.4637 - val_accuracy: 0.6500\n",
            "Epoch 39/100\n",
            "12/12 [==============================] - 0s 28ms/step - loss: 0.4521 - accuracy: 0.7625 - val_loss: 0.4582 - val_accuracy: 0.6500\n",
            "Epoch 40/100\n",
            "12/12 [==============================] - 0s 24ms/step - loss: 0.4467 - accuracy: 0.7625 - val_loss: 0.4524 - val_accuracy: 0.6500\n",
            "Epoch 41/100\n",
            "12/12 [==============================] - 0s 32ms/step - loss: 0.4420 - accuracy: 0.7625 - val_loss: 0.4471 - val_accuracy: 0.7000\n",
            "Epoch 42/100\n",
            "12/12 [==============================] - 0s 39ms/step - loss: 0.4367 - accuracy: 0.7625 - val_loss: 0.4414 - val_accuracy: 0.7000\n",
            "Epoch 43/100\n",
            "12/12 [==============================] - 0s 29ms/step - loss: 0.4315 - accuracy: 0.7625 - val_loss: 0.4360 - val_accuracy: 0.7000\n",
            "Epoch 44/100\n",
            "12/12 [==============================] - 0s 24ms/step - loss: 0.4264 - accuracy: 0.7625 - val_loss: 0.4309 - val_accuracy: 0.7000\n",
            "Epoch 45/100\n",
            "12/12 [==============================] - 0s 30ms/step - loss: 0.4219 - accuracy: 0.7625 - val_loss: 0.4260 - val_accuracy: 0.7000\n",
            "Epoch 46/100\n",
            "12/12 [==============================] - 0s 24ms/step - loss: 0.4170 - accuracy: 0.7750 - val_loss: 0.4220 - val_accuracy: 0.7000\n",
            "Epoch 47/100\n",
            "12/12 [==============================] - 0s 13ms/step - loss: 0.4119 - accuracy: 0.7875 - val_loss: 0.4176 - val_accuracy: 0.7000\n",
            "Epoch 48/100\n",
            "12/12 [==============================] - 0s 16ms/step - loss: 0.4070 - accuracy: 0.7875 - val_loss: 0.4127 - val_accuracy: 0.7000\n",
            "Epoch 49/100\n",
            "12/12 [==============================] - 0s 17ms/step - loss: 0.4017 - accuracy: 0.7875 - val_loss: 0.4081 - val_accuracy: 0.8000\n",
            "Epoch 50/100\n",
            "12/12 [==============================] - 0s 13ms/step - loss: 0.3976 - accuracy: 0.8000 - val_loss: 0.4040 - val_accuracy: 0.8000\n",
            "Epoch 51/100\n",
            "12/12 [==============================] - 0s 14ms/step - loss: 0.3923 - accuracy: 0.8000 - val_loss: 0.3993 - val_accuracy: 0.8000\n",
            "Epoch 52/100\n",
            "12/12 [==============================] - 0s 23ms/step - loss: 0.3873 - accuracy: 0.8000 - val_loss: 0.3951 - val_accuracy: 0.8000\n",
            "Epoch 53/100\n",
            "12/12 [==============================] - 0s 14ms/step - loss: 0.3828 - accuracy: 0.8125 - val_loss: 0.3903 - val_accuracy: 0.8000\n",
            "Epoch 54/100\n",
            "12/12 [==============================] - 0s 13ms/step - loss: 0.3784 - accuracy: 0.8250 - val_loss: 0.3862 - val_accuracy: 0.8000\n",
            "Epoch 55/100\n",
            "12/12 [==============================] - 0s 10ms/step - loss: 0.3749 - accuracy: 0.8250 - val_loss: 0.3820 - val_accuracy: 0.8000\n",
            "Epoch 56/100\n",
            "12/12 [==============================] - 0s 26ms/step - loss: 0.3694 - accuracy: 0.8250 - val_loss: 0.3771 - val_accuracy: 0.8000\n",
            "Epoch 57/100\n",
            "12/12 [==============================] - 0s 17ms/step - loss: 0.3644 - accuracy: 0.8250 - val_loss: 0.3733 - val_accuracy: 0.8000\n",
            "Epoch 58/100\n",
            "12/12 [==============================] - 0s 14ms/step - loss: 0.3604 - accuracy: 0.8250 - val_loss: 0.3692 - val_accuracy: 0.8000\n",
            "Epoch 59/100\n",
            "12/12 [==============================] - 0s 15ms/step - loss: 0.3563 - accuracy: 0.8375 - val_loss: 0.3657 - val_accuracy: 0.9000\n",
            "Epoch 60/100\n",
            "12/12 [==============================] - 0s 22ms/step - loss: 0.3521 - accuracy: 0.8500 - val_loss: 0.3620 - val_accuracy: 0.9000\n",
            "Epoch 61/100\n",
            "12/12 [==============================] - 0s 18ms/step - loss: 0.3479 - accuracy: 0.8750 - val_loss: 0.3579 - val_accuracy: 0.9000\n",
            "Epoch 62/100\n",
            "12/12 [==============================] - 0s 10ms/step - loss: 0.3437 - accuracy: 0.8750 - val_loss: 0.3535 - val_accuracy: 0.9000\n",
            "Epoch 63/100\n",
            "12/12 [==============================] - 0s 8ms/step - loss: 0.3399 - accuracy: 0.8875 - val_loss: 0.3505 - val_accuracy: 0.9000\n",
            "Epoch 64/100\n",
            "12/12 [==============================] - 0s 16ms/step - loss: 0.3352 - accuracy: 0.9000 - val_loss: 0.3463 - val_accuracy: 0.9000\n",
            "Epoch 65/100\n",
            "12/12 [==============================] - 0s 18ms/step - loss: 0.3322 - accuracy: 0.9000 - val_loss: 0.3420 - val_accuracy: 0.9000\n",
            "Epoch 66/100\n",
            "12/12 [==============================] - 0s 8ms/step - loss: 0.3273 - accuracy: 0.9000 - val_loss: 0.3382 - val_accuracy: 0.9000\n",
            "Epoch 67/100\n",
            "12/12 [==============================] - 0s 7ms/step - loss: 0.3235 - accuracy: 0.9000 - val_loss: 0.3341 - val_accuracy: 0.9000\n",
            "Epoch 68/100\n",
            "12/12 [==============================] - 0s 9ms/step - loss: 0.3189 - accuracy: 0.9000 - val_loss: 0.3309 - val_accuracy: 0.9000\n",
            "Epoch 69/100\n",
            "12/12 [==============================] - 0s 9ms/step - loss: 0.3158 - accuracy: 0.9000 - val_loss: 0.3291 - val_accuracy: 0.9500\n",
            "Epoch 70/100\n",
            "12/12 [==============================] - 0s 15ms/step - loss: 0.3113 - accuracy: 0.9250 - val_loss: 0.3239 - val_accuracy: 0.9500\n",
            "Epoch 71/100\n",
            "12/12 [==============================] - 0s 11ms/step - loss: 0.3071 - accuracy: 0.9250 - val_loss: 0.3201 - val_accuracy: 0.9500\n",
            "Epoch 72/100\n",
            "12/12 [==============================] - 0s 8ms/step - loss: 0.3034 - accuracy: 0.9250 - val_loss: 0.3157 - val_accuracy: 0.9500\n",
            "Epoch 73/100\n",
            "12/12 [==============================] - 0s 9ms/step - loss: 0.3005 - accuracy: 0.9250 - val_loss: 0.3110 - val_accuracy: 0.9500\n",
            "Epoch 74/100\n",
            "12/12 [==============================] - 0s 14ms/step - loss: 0.2961 - accuracy: 0.9250 - val_loss: 0.3097 - val_accuracy: 0.9500\n",
            "Epoch 75/100\n",
            "12/12 [==============================] - 0s 11ms/step - loss: 0.2923 - accuracy: 0.9250 - val_loss: 0.3073 - val_accuracy: 0.9500\n",
            "Epoch 76/100\n",
            "12/12 [==============================] - 0s 17ms/step - loss: 0.2891 - accuracy: 0.9250 - val_loss: 0.3021 - val_accuracy: 0.9500\n",
            "Epoch 77/100\n",
            "12/12 [==============================] - 0s 9ms/step - loss: 0.2848 - accuracy: 0.9250 - val_loss: 0.2996 - val_accuracy: 0.9500\n",
            "Epoch 78/100\n",
            "12/12 [==============================] - 0s 10ms/step - loss: 0.2828 - accuracy: 0.9375 - val_loss: 0.2975 - val_accuracy: 0.9500\n",
            "Epoch 79/100\n",
            "12/12 [==============================] - 0s 9ms/step - loss: 0.2785 - accuracy: 0.9375 - val_loss: 0.2939 - val_accuracy: 0.9500\n",
            "Epoch 80/100\n",
            "12/12 [==============================] - 0s 12ms/step - loss: 0.2744 - accuracy: 0.9375 - val_loss: 0.2899 - val_accuracy: 0.9500\n",
            "Epoch 81/100\n",
            "12/12 [==============================] - 0s 25ms/step - loss: 0.2716 - accuracy: 0.9375 - val_loss: 0.2860 - val_accuracy: 0.9500\n",
            "Epoch 82/100\n",
            "12/12 [==============================] - 0s 10ms/step - loss: 0.2680 - accuracy: 0.9375 - val_loss: 0.2817 - val_accuracy: 0.9500\n",
            "Epoch 83/100\n",
            "12/12 [==============================] - 0s 16ms/step - loss: 0.2651 - accuracy: 0.9375 - val_loss: 0.2792 - val_accuracy: 0.9500\n",
            "Epoch 84/100\n",
            "12/12 [==============================] - 0s 12ms/step - loss: 0.2617 - accuracy: 0.9375 - val_loss: 0.2752 - val_accuracy: 0.9500\n",
            "Epoch 85/100\n",
            "12/12 [==============================] - 0s 10ms/step - loss: 0.2612 - accuracy: 0.9375 - val_loss: 0.2695 - val_accuracy: 0.9500\n",
            "Epoch 86/100\n",
            "12/12 [==============================] - 0s 8ms/step - loss: 0.2567 - accuracy: 0.9375 - val_loss: 0.2675 - val_accuracy: 0.9500\n",
            "Epoch 87/100\n",
            "12/12 [==============================] - 0s 7ms/step - loss: 0.2535 - accuracy: 0.9375 - val_loss: 0.2656 - val_accuracy: 0.9500\n",
            "Epoch 88/100\n",
            "12/12 [==============================] - 0s 8ms/step - loss: 0.2504 - accuracy: 0.9375 - val_loss: 0.2635 - val_accuracy: 0.9500\n",
            "Epoch 89/100\n",
            "12/12 [==============================] - 0s 7ms/step - loss: 0.2478 - accuracy: 0.9375 - val_loss: 0.2630 - val_accuracy: 0.9500\n",
            "Epoch 90/100\n",
            "12/12 [==============================] - 0s 13ms/step - loss: 0.2452 - accuracy: 0.9500 - val_loss: 0.2594 - val_accuracy: 1.0000\n",
            "Epoch 91/100\n",
            "12/12 [==============================] - 0s 12ms/step - loss: 0.2436 - accuracy: 0.9625 - val_loss: 0.2574 - val_accuracy: 1.0000\n",
            "Epoch 92/100\n",
            "12/12 [==============================] - 0s 22ms/step - loss: 0.2405 - accuracy: 0.9500 - val_loss: 0.2521 - val_accuracy: 1.0000\n",
            "Epoch 93/100\n",
            "12/12 [==============================] - 0s 11ms/step - loss: 0.2379 - accuracy: 0.9500 - val_loss: 0.2480 - val_accuracy: 0.9500\n",
            "Epoch 94/100\n",
            "12/12 [==============================] - 0s 9ms/step - loss: 0.2350 - accuracy: 0.9625 - val_loss: 0.2472 - val_accuracy: 1.0000\n",
            "Epoch 95/100\n",
            "12/12 [==============================] - 0s 8ms/step - loss: 0.2322 - accuracy: 0.9625 - val_loss: 0.2437 - val_accuracy: 1.0000\n",
            "Epoch 96/100\n",
            "12/12 [==============================] - 0s 9ms/step - loss: 0.2298 - accuracy: 0.9625 - val_loss: 0.2394 - val_accuracy: 1.0000\n",
            "Epoch 97/100\n",
            "12/12 [==============================] - 0s 8ms/step - loss: 0.2276 - accuracy: 0.9625 - val_loss: 0.2373 - val_accuracy: 1.0000\n",
            "Epoch 98/100\n",
            "12/12 [==============================] - 0s 11ms/step - loss: 0.2263 - accuracy: 0.9625 - val_loss: 0.2373 - val_accuracy: 1.0000\n",
            "Epoch 99/100\n",
            "12/12 [==============================] - 0s 10ms/step - loss: 0.2225 - accuracy: 0.9625 - val_loss: 0.2324 - val_accuracy: 1.0000\n",
            "Epoch 100/100\n",
            "12/12 [==============================] - 0s 11ms/step - loss: 0.2202 - accuracy: 0.9625 - val_loss: 0.2291 - val_accuracy: 1.0000\n"
          ]
        }
      ]
    },
    {
      "cell_type": "code",
      "source": [
        "model.evaluate(X_testscaled,y_test)"
      ],
      "metadata": {
        "colab": {
          "base_uri": "https://localhost:8080/"
        },
        "id": "xvbUD2V20MQt",
        "outputId": "b13ffbf2-69b1-4157-9d53-ebf745762048"
      },
      "execution_count": 28,
      "outputs": [
        {
          "output_type": "stream",
          "name": "stdout",
          "text": [
            "1/1 [==============================] - 0s 113ms/step - loss: 0.2291 - accuracy: 1.0000\n"
          ]
        },
        {
          "output_type": "execute_result",
          "data": {
            "text/plain": [
              "[0.22908969223499298, 1.0]"
            ]
          },
          "metadata": {},
          "execution_count": 28
        }
      ]
    },
    {
      "cell_type": "code",
      "source": [
        "from keras.models import Sequential\n",
        "from keras.layers.core import Dense, Dropout, Activation\n",
        "from tensorflow.keras import regularizers\n",
        "\n",
        "\n",
        "model = Sequential()\n",
        "model.add(Dense(10, input_dim=(2), activation='relu',\n",
        "                    kernel_initializer='he_normal',\n",
        "                    kernel_regularizer=regularizers.l2(0.01)))\n",
        "model.add(Dense(7, activation='relu',\n",
        "                    kernel_initializer='he_normal',\n",
        "                    kernel_regularizer=regularizers.l1_l2(l1=0.001, l2=0.001)))\n",
        "model.add(Dense(5, activation='relu', kernel_initializer='he_normal',\n",
        "                    kernel_regularizer=regularizers.l1_l2(l1=0.001, l2=0.001)))\n",
        "model.add(Dense(3, activation='softmax'))\n",
        "\n",
        "model.compile(optimizer='adam', loss='categorical_crossentropy', metrics=['accuracy'])\n",
        "\n",
        "history = model.fit(X_trainscaled, y_train, validation_data=(X_testscaled,y_test),\n",
        "                    epochs=100, batch_size=7)"
      ],
      "metadata": {
        "colab": {
          "base_uri": "https://localhost:8080/"
        },
        "id": "hvnm37iD0Q5R",
        "outputId": "f54777de-7380-4aa4-8d76-b41d3f3d3c63"
      },
      "execution_count": 29,
      "outputs": [
        {
          "output_type": "stream",
          "name": "stdout",
          "text": [
            "Epoch 1/100\n",
            "12/12 [==============================] - 5s 48ms/step - loss: 1.3892 - accuracy: 0.2875 - val_loss: 1.3919 - val_accuracy: 0.2500\n",
            "Epoch 2/100\n",
            "12/12 [==============================] - 0s 10ms/step - loss: 1.3386 - accuracy: 0.3125 - val_loss: 1.3453 - val_accuracy: 0.2500\n",
            "Epoch 3/100\n",
            "12/12 [==============================] - 0s 12ms/step - loss: 1.3044 - accuracy: 0.3375 - val_loss: 1.3196 - val_accuracy: 0.2500\n",
            "Epoch 4/100\n",
            "12/12 [==============================] - 0s 24ms/step - loss: 1.2859 - accuracy: 0.3500 - val_loss: 1.3137 - val_accuracy: 0.2500\n",
            "Epoch 5/100\n",
            "12/12 [==============================] - 0s 23ms/step - loss: 1.2766 - accuracy: 0.3750 - val_loss: 1.3086 - val_accuracy: 0.2500\n",
            "Epoch 6/100\n",
            "12/12 [==============================] - 0s 15ms/step - loss: 1.2680 - accuracy: 0.3875 - val_loss: 1.3039 - val_accuracy: 0.2500\n",
            "Epoch 7/100\n",
            "12/12 [==============================] - 0s 7ms/step - loss: 1.2588 - accuracy: 0.4000 - val_loss: 1.2983 - val_accuracy: 0.2500\n",
            "Epoch 8/100\n",
            "12/12 [==============================] - 0s 5ms/step - loss: 1.2495 - accuracy: 0.4000 - val_loss: 1.2919 - val_accuracy: 0.2500\n",
            "Epoch 9/100\n",
            "12/12 [==============================] - 0s 5ms/step - loss: 1.2400 - accuracy: 0.4125 - val_loss: 1.2852 - val_accuracy: 0.2500\n",
            "Epoch 10/100\n",
            "12/12 [==============================] - 0s 6ms/step - loss: 1.2297 - accuracy: 0.4125 - val_loss: 1.2777 - val_accuracy: 0.2500\n",
            "Epoch 11/100\n",
            "12/12 [==============================] - 0s 5ms/step - loss: 1.2193 - accuracy: 0.4125 - val_loss: 1.2692 - val_accuracy: 0.2500\n",
            "Epoch 12/100\n",
            "12/12 [==============================] - 0s 8ms/step - loss: 1.2075 - accuracy: 0.4375 - val_loss: 1.2593 - val_accuracy: 0.2500\n",
            "Epoch 13/100\n",
            "12/12 [==============================] - 0s 6ms/step - loss: 1.1905 - accuracy: 0.4375 - val_loss: 1.2480 - val_accuracy: 0.2500\n",
            "Epoch 14/100\n",
            "12/12 [==============================] - 0s 7ms/step - loss: 1.1727 - accuracy: 0.5375 - val_loss: 1.2357 - val_accuracy: 0.6500\n",
            "Epoch 15/100\n",
            "12/12 [==============================] - 0s 6ms/step - loss: 1.1551 - accuracy: 0.6750 - val_loss: 1.2234 - val_accuracy: 0.7000\n",
            "Epoch 16/100\n",
            "12/12 [==============================] - 0s 7ms/step - loss: 1.1345 - accuracy: 0.6750 - val_loss: 1.1973 - val_accuracy: 0.7000\n",
            "Epoch 17/100\n",
            "12/12 [==============================] - 0s 6ms/step - loss: 1.0869 - accuracy: 0.6750 - val_loss: 1.0737 - val_accuracy: 0.7500\n",
            "Epoch 18/100\n",
            "12/12 [==============================] - 0s 7ms/step - loss: 0.9949 - accuracy: 0.6750 - val_loss: 0.9394 - val_accuracy: 0.7000\n",
            "Epoch 19/100\n",
            "12/12 [==============================] - 0s 6ms/step - loss: 0.9193 - accuracy: 0.6750 - val_loss: 0.8542 - val_accuracy: 0.7000\n",
            "Epoch 20/100\n",
            "12/12 [==============================] - 0s 6ms/step - loss: 0.8719 - accuracy: 0.6625 - val_loss: 0.8034 - val_accuracy: 0.6500\n",
            "Epoch 21/100\n",
            "12/12 [==============================] - 0s 6ms/step - loss: 0.8385 - accuracy: 0.6500 - val_loss: 0.7732 - val_accuracy: 0.6500\n",
            "Epoch 22/100\n",
            "12/12 [==============================] - 0s 5ms/step - loss: 0.8133 - accuracy: 0.6500 - val_loss: 0.7505 - val_accuracy: 0.6500\n",
            "Epoch 23/100\n",
            "12/12 [==============================] - 0s 5ms/step - loss: 0.7931 - accuracy: 0.5750 - val_loss: 0.7329 - val_accuracy: 0.6000\n",
            "Epoch 24/100\n",
            "12/12 [==============================] - 0s 5ms/step - loss: 0.7749 - accuracy: 0.5375 - val_loss: 0.7179 - val_accuracy: 0.7000\n",
            "Epoch 25/100\n",
            "12/12 [==============================] - 0s 6ms/step - loss: 0.7599 - accuracy: 0.7125 - val_loss: 0.7053 - val_accuracy: 0.6500\n",
            "Epoch 26/100\n",
            "12/12 [==============================] - 0s 5ms/step - loss: 0.7466 - accuracy: 0.6625 - val_loss: 0.6940 - val_accuracy: 0.6500\n",
            "Epoch 27/100\n",
            "12/12 [==============================] - 0s 6ms/step - loss: 0.7343 - accuracy: 0.6625 - val_loss: 0.6842 - val_accuracy: 0.6500\n",
            "Epoch 28/100\n",
            "12/12 [==============================] - 0s 6ms/step - loss: 0.7233 - accuracy: 0.6625 - val_loss: 0.6756 - val_accuracy: 0.6500\n",
            "Epoch 29/100\n",
            "12/12 [==============================] - 0s 6ms/step - loss: 0.7140 - accuracy: 0.6625 - val_loss: 0.6682 - val_accuracy: 0.6500\n",
            "Epoch 30/100\n",
            "12/12 [==============================] - 0s 5ms/step - loss: 0.7055 - accuracy: 0.6625 - val_loss: 0.6613 - val_accuracy: 0.6500\n",
            "Epoch 31/100\n",
            "12/12 [==============================] - 0s 7ms/step - loss: 0.6983 - accuracy: 0.6625 - val_loss: 0.6558 - val_accuracy: 0.6500\n",
            "Epoch 32/100\n",
            "12/12 [==============================] - 0s 5ms/step - loss: 0.6910 - accuracy: 0.6625 - val_loss: 0.6498 - val_accuracy: 0.6500\n",
            "Epoch 33/100\n",
            "12/12 [==============================] - 0s 6ms/step - loss: 0.6836 - accuracy: 0.6625 - val_loss: 0.6429 - val_accuracy: 0.6500\n",
            "Epoch 34/100\n",
            "12/12 [==============================] - 0s 6ms/step - loss: 0.6746 - accuracy: 0.6625 - val_loss: 0.6365 - val_accuracy: 0.6500\n",
            "Epoch 35/100\n",
            "12/12 [==============================] - 0s 7ms/step - loss: 0.6646 - accuracy: 0.6625 - val_loss: 0.6322 - val_accuracy: 0.6500\n",
            "Epoch 36/100\n",
            "12/12 [==============================] - 0s 5ms/step - loss: 0.6530 - accuracy: 0.6625 - val_loss: 0.6260 - val_accuracy: 0.6500\n",
            "Epoch 37/100\n",
            "12/12 [==============================] - 0s 6ms/step - loss: 0.6440 - accuracy: 0.6750 - val_loss: 0.6206 - val_accuracy: 0.6500\n",
            "Epoch 38/100\n",
            "12/12 [==============================] - 0s 7ms/step - loss: 0.6337 - accuracy: 0.6750 - val_loss: 0.6110 - val_accuracy: 0.6500\n",
            "Epoch 39/100\n",
            "12/12 [==============================] - 0s 7ms/step - loss: 0.6241 - accuracy: 0.6750 - val_loss: 0.6042 - val_accuracy: 0.6500\n",
            "Epoch 40/100\n",
            "12/12 [==============================] - 0s 5ms/step - loss: 0.6170 - accuracy: 0.6750 - val_loss: 0.5993 - val_accuracy: 0.6500\n",
            "Epoch 41/100\n",
            "12/12 [==============================] - 0s 7ms/step - loss: 0.6083 - accuracy: 0.6750 - val_loss: 0.5886 - val_accuracy: 0.6500\n",
            "Epoch 42/100\n",
            "12/12 [==============================] - 0s 6ms/step - loss: 0.5985 - accuracy: 0.7000 - val_loss: 0.5815 - val_accuracy: 0.7000\n",
            "Epoch 43/100\n",
            "12/12 [==============================] - 0s 6ms/step - loss: 0.5911 - accuracy: 0.7000 - val_loss: 0.5775 - val_accuracy: 0.7000\n",
            "Epoch 44/100\n",
            "12/12 [==============================] - 0s 7ms/step - loss: 0.5834 - accuracy: 0.7625 - val_loss: 0.5687 - val_accuracy: 0.7000\n",
            "Epoch 45/100\n",
            "12/12 [==============================] - 0s 6ms/step - loss: 0.5741 - accuracy: 0.7875 - val_loss: 0.5626 - val_accuracy: 0.7000\n",
            "Epoch 46/100\n",
            "12/12 [==============================] - 0s 6ms/step - loss: 0.5663 - accuracy: 0.8000 - val_loss: 0.5569 - val_accuracy: 0.7000\n",
            "Epoch 47/100\n",
            "12/12 [==============================] - 0s 6ms/step - loss: 0.5594 - accuracy: 0.8250 - val_loss: 0.5483 - val_accuracy: 0.7500\n",
            "Epoch 48/100\n",
            "12/12 [==============================] - 0s 6ms/step - loss: 0.5500 - accuracy: 0.8500 - val_loss: 0.5420 - val_accuracy: 0.7500\n",
            "Epoch 49/100\n",
            "12/12 [==============================] - 0s 5ms/step - loss: 0.5422 - accuracy: 0.8500 - val_loss: 0.5365 - val_accuracy: 0.8500\n",
            "Epoch 50/100\n",
            "12/12 [==============================] - 0s 6ms/step - loss: 0.5334 - accuracy: 0.9000 - val_loss: 0.5284 - val_accuracy: 0.9000\n",
            "Epoch 51/100\n",
            "12/12 [==============================] - 0s 6ms/step - loss: 0.5259 - accuracy: 0.9000 - val_loss: 0.5216 - val_accuracy: 0.9500\n",
            "Epoch 52/100\n",
            "12/12 [==============================] - 0s 5ms/step - loss: 0.5188 - accuracy: 0.9125 - val_loss: 0.5126 - val_accuracy: 0.9500\n",
            "Epoch 53/100\n",
            "12/12 [==============================] - 0s 6ms/step - loss: 0.5115 - accuracy: 0.9375 - val_loss: 0.5054 - val_accuracy: 1.0000\n",
            "Epoch 54/100\n",
            "12/12 [==============================] - 0s 7ms/step - loss: 0.5033 - accuracy: 0.9250 - val_loss: 0.4990 - val_accuracy: 0.9500\n",
            "Epoch 55/100\n",
            "12/12 [==============================] - 0s 6ms/step - loss: 0.4951 - accuracy: 0.9125 - val_loss: 0.4946 - val_accuracy: 0.9500\n",
            "Epoch 56/100\n",
            "12/12 [==============================] - 0s 5ms/step - loss: 0.4878 - accuracy: 0.9125 - val_loss: 0.4884 - val_accuracy: 0.9500\n",
            "Epoch 57/100\n",
            "12/12 [==============================] - 0s 5ms/step - loss: 0.4789 - accuracy: 0.9125 - val_loss: 0.4778 - val_accuracy: 1.0000\n",
            "Epoch 58/100\n",
            "12/12 [==============================] - 0s 5ms/step - loss: 0.4702 - accuracy: 0.9375 - val_loss: 0.4712 - val_accuracy: 1.0000\n",
            "Epoch 59/100\n",
            "12/12 [==============================] - 0s 7ms/step - loss: 0.4621 - accuracy: 0.9375 - val_loss: 0.4660 - val_accuracy: 0.9500\n",
            "Epoch 60/100\n",
            "12/12 [==============================] - 0s 6ms/step - loss: 0.4549 - accuracy: 0.9250 - val_loss: 0.4571 - val_accuracy: 0.9500\n",
            "Epoch 61/100\n",
            "12/12 [==============================] - 0s 5ms/step - loss: 0.4472 - accuracy: 0.9375 - val_loss: 0.4477 - val_accuracy: 1.0000\n",
            "Epoch 62/100\n",
            "12/12 [==============================] - 0s 6ms/step - loss: 0.4392 - accuracy: 0.9375 - val_loss: 0.4395 - val_accuracy: 1.0000\n",
            "Epoch 63/100\n",
            "12/12 [==============================] - 0s 5ms/step - loss: 0.4307 - accuracy: 0.9375 - val_loss: 0.4314 - val_accuracy: 1.0000\n",
            "Epoch 64/100\n",
            "12/12 [==============================] - 0s 7ms/step - loss: 0.4231 - accuracy: 0.9375 - val_loss: 0.4219 - val_accuracy: 1.0000\n",
            "Epoch 65/100\n",
            "12/12 [==============================] - 0s 6ms/step - loss: 0.4157 - accuracy: 0.9500 - val_loss: 0.4133 - val_accuracy: 1.0000\n",
            "Epoch 66/100\n",
            "12/12 [==============================] - 0s 5ms/step - loss: 0.4059 - accuracy: 0.9375 - val_loss: 0.4028 - val_accuracy: 1.0000\n",
            "Epoch 67/100\n",
            "12/12 [==============================] - 0s 6ms/step - loss: 0.3972 - accuracy: 0.9375 - val_loss: 0.3911 - val_accuracy: 1.0000\n",
            "Epoch 68/100\n",
            "12/12 [==============================] - 0s 5ms/step - loss: 0.3882 - accuracy: 0.9375 - val_loss: 0.3809 - val_accuracy: 1.0000\n",
            "Epoch 69/100\n",
            "12/12 [==============================] - 0s 5ms/step - loss: 0.3797 - accuracy: 0.9375 - val_loss: 0.3719 - val_accuracy: 1.0000\n",
            "Epoch 70/100\n",
            "12/12 [==============================] - 0s 5ms/step - loss: 0.3713 - accuracy: 0.9375 - val_loss: 0.3637 - val_accuracy: 1.0000\n",
            "Epoch 71/100\n",
            "12/12 [==============================] - 0s 7ms/step - loss: 0.3630 - accuracy: 0.9250 - val_loss: 0.3549 - val_accuracy: 1.0000\n",
            "Epoch 72/100\n",
            "12/12 [==============================] - 0s 7ms/step - loss: 0.3530 - accuracy: 0.9500 - val_loss: 0.3472 - val_accuracy: 1.0000\n",
            "Epoch 73/100\n",
            "12/12 [==============================] - 0s 5ms/step - loss: 0.3452 - accuracy: 0.9250 - val_loss: 0.3379 - val_accuracy: 1.0000\n",
            "Epoch 74/100\n",
            "12/12 [==============================] - 0s 7ms/step - loss: 0.3353 - accuracy: 0.9375 - val_loss: 0.3282 - val_accuracy: 1.0000\n",
            "Epoch 75/100\n",
            "12/12 [==============================] - 0s 7ms/step - loss: 0.3270 - accuracy: 0.9375 - val_loss: 0.3202 - val_accuracy: 1.0000\n",
            "Epoch 76/100\n",
            "12/12 [==============================] - 0s 7ms/step - loss: 0.3206 - accuracy: 0.9375 - val_loss: 0.3115 - val_accuracy: 1.0000\n",
            "Epoch 77/100\n",
            "12/12 [==============================] - 0s 6ms/step - loss: 0.3133 - accuracy: 0.9375 - val_loss: 0.3016 - val_accuracy: 1.0000\n",
            "Epoch 78/100\n",
            "12/12 [==============================] - 0s 5ms/step - loss: 0.3054 - accuracy: 0.9625 - val_loss: 0.2961 - val_accuracy: 1.0000\n",
            "Epoch 79/100\n",
            "12/12 [==============================] - 0s 5ms/step - loss: 0.3002 - accuracy: 0.9375 - val_loss: 0.2899 - val_accuracy: 1.0000\n",
            "Epoch 80/100\n",
            "12/12 [==============================] - 0s 5ms/step - loss: 0.2959 - accuracy: 0.9625 - val_loss: 0.2818 - val_accuracy: 1.0000\n",
            "Epoch 81/100\n",
            "12/12 [==============================] - 0s 7ms/step - loss: 0.2902 - accuracy: 0.9375 - val_loss: 0.2770 - val_accuracy: 1.0000\n",
            "Epoch 82/100\n",
            "12/12 [==============================] - 0s 6ms/step - loss: 0.2838 - accuracy: 0.9500 - val_loss: 0.2692 - val_accuracy: 1.0000\n",
            "Epoch 83/100\n",
            "12/12 [==============================] - 0s 6ms/step - loss: 0.2806 - accuracy: 0.9375 - val_loss: 0.2648 - val_accuracy: 1.0000\n",
            "Epoch 84/100\n",
            "12/12 [==============================] - 0s 5ms/step - loss: 0.2752 - accuracy: 0.9375 - val_loss: 0.2585 - val_accuracy: 1.0000\n",
            "Epoch 85/100\n",
            "12/12 [==============================] - 0s 7ms/step - loss: 0.2721 - accuracy: 0.9375 - val_loss: 0.2540 - val_accuracy: 1.0000\n",
            "Epoch 86/100\n",
            "12/12 [==============================] - 0s 7ms/step - loss: 0.2683 - accuracy: 0.9375 - val_loss: 0.2490 - val_accuracy: 1.0000\n",
            "Epoch 87/100\n",
            "12/12 [==============================] - 0s 5ms/step - loss: 0.2666 - accuracy: 0.9375 - val_loss: 0.2437 - val_accuracy: 1.0000\n",
            "Epoch 88/100\n",
            "12/12 [==============================] - 0s 7ms/step - loss: 0.2630 - accuracy: 0.9375 - val_loss: 0.2444 - val_accuracy: 1.0000\n",
            "Epoch 89/100\n",
            "12/12 [==============================] - 0s 6ms/step - loss: 0.2619 - accuracy: 0.9625 - val_loss: 0.2436 - val_accuracy: 1.0000\n",
            "Epoch 90/100\n",
            "12/12 [==============================] - 0s 7ms/step - loss: 0.2597 - accuracy: 0.9500 - val_loss: 0.2369 - val_accuracy: 1.0000\n",
            "Epoch 91/100\n",
            "12/12 [==============================] - 0s 6ms/step - loss: 0.2567 - accuracy: 0.9500 - val_loss: 0.2369 - val_accuracy: 1.0000\n",
            "Epoch 92/100\n",
            "12/12 [==============================] - 0s 5ms/step - loss: 0.2526 - accuracy: 0.9500 - val_loss: 0.2314 - val_accuracy: 1.0000\n",
            "Epoch 93/100\n",
            "12/12 [==============================] - 0s 7ms/step - loss: 0.2521 - accuracy: 0.9625 - val_loss: 0.2274 - val_accuracy: 1.0000\n",
            "Epoch 94/100\n",
            "12/12 [==============================] - 0s 6ms/step - loss: 0.2487 - accuracy: 0.9500 - val_loss: 0.2270 - val_accuracy: 1.0000\n",
            "Epoch 95/100\n",
            "12/12 [==============================] - 0s 5ms/step - loss: 0.2462 - accuracy: 0.9500 - val_loss: 0.2272 - val_accuracy: 1.0000\n",
            "Epoch 96/100\n",
            "12/12 [==============================] - 0s 7ms/step - loss: 0.2454 - accuracy: 0.9500 - val_loss: 0.2261 - val_accuracy: 1.0000\n",
            "Epoch 97/100\n",
            "12/12 [==============================] - 0s 5ms/step - loss: 0.2414 - accuracy: 0.9500 - val_loss: 0.2199 - val_accuracy: 1.0000\n",
            "Epoch 98/100\n",
            "12/12 [==============================] - 0s 5ms/step - loss: 0.2400 - accuracy: 0.9625 - val_loss: 0.2184 - val_accuracy: 1.0000\n",
            "Epoch 99/100\n",
            "12/12 [==============================] - 0s 6ms/step - loss: 0.2381 - accuracy: 0.9500 - val_loss: 0.2186 - val_accuracy: 1.0000\n",
            "Epoch 100/100\n",
            "12/12 [==============================] - 0s 5ms/step - loss: 0.2348 - accuracy: 0.9500 - val_loss: 0.2188 - val_accuracy: 1.0000\n"
          ]
        }
      ]
    },
    {
      "cell_type": "markdown",
      "source": [
        "**f. Apakah model tersebut memiliki akurasi yang tinggi? Parameter apa saja yang perlu disesuaikan agar akurasi model meningkat? Berikan analisa anda. Ya sudah, akurasi sudah mendekati angka 1.**"
      ],
      "metadata": {
        "id": "nsl6TmS-wQuf"
      }
    },
    {
      "cell_type": "code",
      "source": [
        "pyplot.title('Loss / Mean Squared Error')\n",
        "pyplot.plot(history.history['loss'], label='train')\n",
        "pyplot.plot(history.history['val_loss'], label='test')\n",
        "pyplot.legend()\n",
        "pyplot.show()\n",
        "\n",
        "# Your input to confusion_matrix must be an array of int not one hot encodings.\n",
        "y_pred = model.predict(X_testscaled)\n",
        "cf_matrix = confusion_matrix(y_test.argmax(axis=1), y_pred.argmax(axis=1))\n",
        "print(cf_matrix)\n",
        "\n",
        "model.evaluate(X_testscaled,y_test)\n",
        "\n",
        "print('Output activation by default: {}'.format(net.out_activation_))"
      ],
      "metadata": {
        "colab": {
          "base_uri": "https://localhost:8080/",
          "height": 556
        },
        "id": "mFtFyUjV0WMr",
        "outputId": "c3060b3a-46f9-49f4-a784-2e5e1c924eab"
      },
      "execution_count": 30,
      "outputs": [
        {
          "output_type": "display_data",
          "data": {
            "text/plain": [
              "<Figure size 640x480 with 1 Axes>"
            ],
            "image/png": "[encoded data removed]"
          },
          "metadata": {}
        },
        {
          "output_type": "stream",
          "name": "stdout",
          "text": [
            "1/1 [==============================] - 0s 154ms/step\n",
            "[[8 0 0]\n",
            " [0 7 0]\n",
            " [0 0 5]]\n",
            "1/1 [==============================] - 0s 61ms/step - loss: 0.2188 - accuracy: 1.0000\n",
            "Output activation by default: softmax\n"
          ]
        }
      ]
    },
    {
      "cell_type": "code",
      "source": [
        "from sklearn.datasets import load_iris\n",
        "from sklearn.neural_network import MLPClassifier\n",
        "from sklearn.model_selection import train_test_split\n",
        "from sklearn.preprocessing import StandardScaler\n",
        "import pandas as pd\n",
        "from sklearn.metrics import confusion_matrix\n",
        "\n",
        "df=pd.read_csv('dataset2d3c.csv')\n",
        "df.head()"
      ],
      "metadata": {
        "colab": {
          "base_uri": "https://localhost:8080/",
          "height": 206
        },
        "id": "hMjGTq-O0dLS",
        "outputId": "63e68f3b-ee29-45a7-d01a-edb63574a95a"
      },
      "execution_count": 31,
      "outputs": [
        {
          "output_type": "execute_result",
          "data": {
            "text/plain": [
              "    x1   x2       class\n",
              "0  5.0  0.7  versicolor\n",
              "1  5.1  0.4   virginica\n",
              "2  5.1  0.0   virginica\n",
              "3  5.4  0.1   virginica\n",
              "4  1.5  0.2      setosa"
            ],
            "text/html": [
              "\n",
              "\n",
              "  <div id=\"df-daefccab-a173-410b-a036-33cebed96e45\">\n",
              "    <div class=\"colab-df-container\">\n",
              "      <div>\n",
              "<style scoped>\n",
              "    .dataframe tbody tr th:only-of-type {\n",
              "        vertical-align: middle;\n",
              "    }\n",
              "\n",
              "    .dataframe tbody tr th {\n",
              "        vertical-align: top;\n",
              "    }\n",
              "\n",
              "    .dataframe thead th {\n",
              "        text-align: right;\n",
              "    }\n",
              "</style>\n",
              "<table border=\"1\" class=\"dataframe\">\n",
              "  <thead>\n",
              "    <tr style=\"text-align: right;\">\n",
              "      <th></th>\n",
              "      <th>x1</th>\n",
              "      <th>x2</th>\n",
              "      <th>class</th>\n",
              "    </tr>\n",
              "  </thead>\n",
              "  <tbody>\n",
              "    <tr>\n",
              "      <th>0</th>\n",
              "      <td>5.0</td>\n",
              "      <td>0.7</td>\n",
              "      <td>versicolor</td>\n",
              "    </tr>\n",
              "    <tr>\n",
              "      <th>1</th>\n",
              "      <td>5.1</td>\n",
              "      <td>0.4</td>\n",
              "      <td>virginica</td>\n",
              "    </tr>\n",
              "    <tr>\n",
              "      <th>2</th>\n",
              "      <td>5.1</td>\n",
              "      <td>0.0</td>\n",
              "      <td>virginica</td>\n",
              "    </tr>\n",
              "    <tr>\n",
              "      <th>3</th>\n",
              "      <td>5.4</td>\n",
              "      <td>0.1</td>\n",
              "      <td>virginica</td>\n",
              "    </tr>\n",
              "    <tr>\n",
              "      <th>4</th>\n",
              "      <td>1.5</td>\n",
              "      <td>0.2</td>\n",
              "      <td>setosa</td>\n",
              "    </tr>\n",
              "  </tbody>\n",
              "</table>\n",
              "</div>\n",
              "      <button class=\"colab-df-convert\" onclick=\"convertToInteractive('df-daefccab-a173-410b-a036-33cebed96e45')\"\n",
              "              title=\"Convert this dataframe to an interactive table.\"\n",
              "              style=\"display:none;\">\n",
              "\n",
              "  <svg xmlns=\"http://www.w3.org/2000/svg\" height=\"24px\"viewBox=\"0 0 24 24\"\n",
              "       width=\"24px\">\n",
              "    <path d=\"M0 0h24v24H0V0z\" fill=\"none\"/>\n",
              "    <path d=\"M18.56 5.44l.94 2.06.94-2.06 2.06-.94-2.06-.94-.94-2.06-.94 2.06-2.06.94zm-11 1L8.5 8.5l.94-2.06 2.06-.94-2.06-.94L8.5 2.5l-.94 2.06-2.06.94zm10 10l.94 2.06.94-2.06 2.06-.94-2.06-.94-.94-2.06-.94 2.06-2.06.94z\"/><path d=\"M17.41 7.96l-1.37-1.37c-.4-.4-.92-.59-1.43-.59-.52 0-1.04.2-1.43.59L10.3 9.45l-7.72 7.72c-.78.78-.78 2.05 0 2.83L4 21.41c.39.39.9.59 1.41.59.51 0 1.02-.2 1.41-.59l7.78-7.78 2.81-2.81c.8-.78.8-2.07 0-2.86zM5.41 20L4 18.59l7.72-7.72 1.47 1.35L5.41 20z\"/>\n",
              "  </svg>\n",
              "      </button>\n",
              "\n",
              "\n",
              "\n",
              "    <div id=\"df-ef738a71-611f-4b1c-b00a-00ef85df7d62\">\n",
              "      <button class=\"colab-df-quickchart\" onclick=\"quickchart('df-ef738a71-611f-4b1c-b00a-00ef85df7d62')\"\n",
              "              title=\"Suggest charts.\"\n",
              "              style=\"display:none;\">\n",
              "\n",
              "<svg xmlns=\"http://www.w3.org/2000/svg\" height=\"24px\"viewBox=\"0 0 24 24\"\n",
              "     width=\"24px\">\n",
              "    <g>\n",
              "        <path d=\"M19 3H5c-1.1 0-2 .9-2 2v14c0 1.1.9 2 2 2h14c1.1 0 2-.9 2-2V5c0-1.1-.9-2-2-2zM9 17H7v-7h2v7zm4 0h-2V7h2v10zm4 0h-2v-4h2v4z\"/>\n",
              "    </g>\n",
              "</svg>\n",
              "      </button>\n",
              "    </div>\n",
              "\n",
              "<style>\n",
              "  .colab-df-quickchart {\n",
              "    background-color: #E8F0FE;\n",
              "    border: none;\n",
              "    border-radius: 50%;\n",
              "    cursor: pointer;\n",
              "    display: none;\n",
              "    fill: #1967D2;\n",
              "    height: 32px;\n",
              "    padding: 0 0 0 0;\n",
              "    width: 32px;\n",
              "  }\n",
              "\n",
              "  .colab-df-quickchart:hover {\n",
              "    background-color: #E2EBFA;\n",
              "    box-shadow: 0px 1px 2px rgba(60, 64, 67, 0.3), 0px 1px 3px 1px rgba(60, 64, 67, 0.15);\n",
              "    fill: #174EA6;\n",
              "  }\n",
              "\n",
              "  [theme=dark] .colab-df-quickchart {\n",
              "    background-color: #3B4455;\n",
              "    fill: #D2E3FC;\n",
              "  }\n",
              "\n",
              "  [theme=dark] .colab-df-quickchart:hover {\n",
              "    background-color: #434B5C;\n",
              "    box-shadow: 0px 1px 3px 1px rgba(0, 0, 0, 0.15);\n",
              "    filter: drop-shadow(0px 1px 2px rgba(0, 0, 0, 0.3));\n",
              "    fill: #FFFFFF;\n",
              "  }\n",
              "</style>\n",
              "\n",
              "    <script>\n",
              "      async function quickchart(key) {\n",
              "        const containerElement = document.querySelector('#' + key);\n",
              "        const charts = await google.colab.kernel.invokeFunction(\n",
              "            'suggestCharts', [key], {});\n",
              "      }\n",
              "    </script>\n",
              "\n",
              "      <script>\n",
              "\n",
              "function displayQuickchartButton(domScope) {\n",
              "  let quickchartButtonEl =\n",
              "    domScope.querySelector('#df-ef738a71-611f-4b1c-b00a-00ef85df7d62 button.colab-df-quickchart');\n",
              "  quickchartButtonEl.style.display =\n",
              "    google.colab.kernel.accessAllowed ? 'block' : 'none';\n",
              "}\n",
              "\n",
              "        displayQuickchartButton(document);\n",
              "      </script>\n",
              "      <style>\n",
              "    .colab-df-container {\n",
              "      display:flex;\n",
              "      flex-wrap:wrap;\n",
              "      gap: 12px;\n",
              "    }\n",
              "\n",
              "    .colab-df-convert {\n",
              "      background-color: #E8F0FE;\n",
              "      border: none;\n",
              "      border-radius: 50%;\n",
              "      cursor: pointer;\n",
              "      display: none;\n",
              "      fill: #1967D2;\n",
              "      height: 32px;\n",
              "      padding: 0 0 0 0;\n",
              "      width: 32px;\n",
              "    }\n",
              "\n",
              "    .colab-df-convert:hover {\n",
              "      background-color: #E2EBFA;\n",
              "      box-shadow: 0px 1px 2px rgba(60, 64, 67, 0.3), 0px 1px 3px 1px rgba(60, 64, 67, 0.15);\n",
              "      fill: #174EA6;\n",
              "    }\n",
              "\n",
              "    [theme=dark] .colab-df-convert {\n",
              "      background-color: #3B4455;\n",
              "      fill: #D2E3FC;\n",
              "    }\n",
              "\n",
              "    [theme=dark] .colab-df-convert:hover {\n",
              "      background-color: #434B5C;\n",
              "      box-shadow: 0px 1px 3px 1px rgba(0, 0, 0, 0.15);\n",
              "      filter: drop-shadow(0px 1px 2px rgba(0, 0, 0, 0.3));\n",
              "      fill: #FFFFFF;\n",
              "    }\n",
              "  </style>\n",
              "\n",
              "      <script>\n",
              "        const buttonEl =\n",
              "          document.querySelector('#df-daefccab-a173-410b-a036-33cebed96e45 button.colab-df-convert');\n",
              "        buttonEl.style.display =\n",
              "          google.colab.kernel.accessAllowed ? 'block' : 'none';\n",
              "\n",
              "        async function convertToInteractive(key) {\n",
              "          const element = document.querySelector('#df-daefccab-a173-410b-a036-33cebed96e45');\n",
              "          const dataTable =\n",
              "            await google.colab.kernel.invokeFunction('convertToInteractive',\n",
              "                                                     [key], {});\n",
              "          if (!dataTable) return;\n",
              "\n",
              "          const docLinkHtml = 'Like what you see? Visit the ' +\n",
              "            '<a target=\"_blank\" href=https://colab.research.google.com/notebooks/data_table.ipynb>data table notebook</a>'\n",
              "            + ' to learn more about interactive tables.';\n",
              "          element.innerHTML = '';\n",
              "          dataTable['output_type'] = 'display_data';\n",
              "          await google.colab.output.renderOutput(dataTable, element);\n",
              "          const docLink = document.createElement('div');\n",
              "          docLink.innerHTML = docLinkHtml;\n",
              "          element.appendChild(docLink);\n",
              "        }\n",
              "      </script>\n",
              "    </div>\n",
              "  </div>\n"
            ]
          },
          "metadata": {},
          "execution_count": 31
        }
      ]
    },
    {
      "cell_type": "code",
      "source": [
        "categorical = df.dtypes[df.dtypes == \"object\"].index\n",
        "print(categorical)\n",
        "\n",
        "df[categorical].describe()"
      ],
      "metadata": {
        "colab": {
          "base_uri": "https://localhost:8080/",
          "height": 192
        },
        "id": "I-5xC1Hi0mvx",
        "outputId": "257723ce-b7e8-40c4-cef5-2b86c20439cb"
      },
      "execution_count": 32,
      "outputs": [
        {
          "output_type": "stream",
          "name": "stdout",
          "text": [
            "Index(['class'], dtype='object')\n"
          ]
        },
        {
          "output_type": "execute_result",
          "data": {
            "text/plain": [
              "             class\n",
              "count          100\n",
              "unique           3\n",
              "top     versicolor\n",
              "freq            34"
            ],
            "text/html": [
              "\n",
              "\n",
              "  <div id=\"df-df99abb7-e70b-4c3a-9471-fe11976aaf4f\">\n",
              "    <div class=\"colab-df-container\">\n",
              "      <div>\n",
              "<style scoped>\n",
              "    .dataframe tbody tr th:only-of-type {\n",
              "        vertical-align: middle;\n",
              "    }\n",
              "\n",
              "    .dataframe tbody tr th {\n",
              "        vertical-align: top;\n",
              "    }\n",
              "\n",
              "    .dataframe thead th {\n",
              "        text-align: right;\n",
              "    }\n",
              "</style>\n",
              "<table border=\"1\" class=\"dataframe\">\n",
              "  <thead>\n",
              "    <tr style=\"text-align: right;\">\n",
              "      <th></th>\n",
              "      <th>class</th>\n",
              "    </tr>\n",
              "  </thead>\n",
              "  <tbody>\n",
              "    <tr>\n",
              "      <th>count</th>\n",
              "      <td>100</td>\n",
              "    </tr>\n",
              "    <tr>\n",
              "      <th>unique</th>\n",
              "      <td>3</td>\n",
              "    </tr>\n",
              "    <tr>\n",
              "      <th>top</th>\n",
              "      <td>versicolor</td>\n",
              "    </tr>\n",
              "    <tr>\n",
              "      <th>freq</th>\n",
              "      <td>34</td>\n",
              "    </tr>\n",
              "  </tbody>\n",
              "</table>\n",
              "</div>\n",
              "      <button class=\"colab-df-convert\" onclick=\"convertToInteractive('df-df99abb7-e70b-4c3a-9471-fe11976aaf4f')\"\n",
              "              title=\"Convert this dataframe to an interactive table.\"\n",
              "              style=\"display:none;\">\n",
              "\n",
              "  <svg xmlns=\"http://www.w3.org/2000/svg\" height=\"24px\"viewBox=\"0 0 24 24\"\n",
              "       width=\"24px\">\n",
              "    <path d=\"M0 0h24v24H0V0z\" fill=\"none\"/>\n",
              "    <path d=\"M18.56 5.44l.94 2.06.94-2.06 2.06-.94-2.06-.94-.94-2.06-.94 2.06-2.06.94zm-11 1L8.5 8.5l.94-2.06 2.06-.94-2.06-.94L8.5 2.5l-.94 2.06-2.06.94zm10 10l.94 2.06.94-2.06 2.06-.94-2.06-.94-.94-2.06-.94 2.06-2.06.94z\"/><path d=\"M17.41 7.96l-1.37-1.37c-.4-.4-.92-.59-1.43-.59-.52 0-1.04.2-1.43.59L10.3 9.45l-7.72 7.72c-.78.78-.78 2.05 0 2.83L4 21.41c.39.39.9.59 1.41.59.51 0 1.02-.2 1.41-.59l7.78-7.78 2.81-2.81c.8-.78.8-2.07 0-2.86zM5.41 20L4 18.59l7.72-7.72 1.47 1.35L5.41 20z\"/>\n",
              "  </svg>\n",
              "      </button>\n",
              "\n",
              "\n",
              "\n",
              "    <div id=\"df-d0d40cfa-6c89-411b-a2d8-1ebc043072ff\">\n",
              "      <button class=\"colab-df-quickchart\" onclick=\"quickchart('df-d0d40cfa-6c89-411b-a2d8-1ebc043072ff')\"\n",
              "              title=\"Suggest charts.\"\n",
              "              style=\"display:none;\">\n",
              "\n",
              "<svg xmlns=\"http://www.w3.org/2000/svg\" height=\"24px\"viewBox=\"0 0 24 24\"\n",
              "     width=\"24px\">\n",
              "    <g>\n",
              "        <path d=\"M19 3H5c-1.1 0-2 .9-2 2v14c0 1.1.9 2 2 2h14c1.1 0 2-.9 2-2V5c0-1.1-.9-2-2-2zM9 17H7v-7h2v7zm4 0h-2V7h2v10zm4 0h-2v-4h2v4z\"/>\n",
              "    </g>\n",
              "</svg>\n",
              "      </button>\n",
              "    </div>\n",
              "\n",
              "<style>\n",
              "  .colab-df-quickchart {\n",
              "    background-color: #E8F0FE;\n",
              "    border: none;\n",
              "    border-radius: 50%;\n",
              "    cursor: pointer;\n",
              "    display: none;\n",
              "    fill: #1967D2;\n",
              "    height: 32px;\n",
              "    padding: 0 0 0 0;\n",
              "    width: 32px;\n",
              "  }\n",
              "\n",
              "  .colab-df-quickchart:hover {\n",
              "    background-color: #E2EBFA;\n",
              "    box-shadow: 0px 1px 2px rgba(60, 64, 67, 0.3), 0px 1px 3px 1px rgba(60, 64, 67, 0.15);\n",
              "    fill: #174EA6;\n",
              "  }\n",
              "\n",
              "  [theme=dark] .colab-df-quickchart {\n",
              "    background-color: #3B4455;\n",
              "    fill: #D2E3FC;\n",
              "  }\n",
              "\n",
              "  [theme=dark] .colab-df-quickchart:hover {\n",
              "    background-color: #434B5C;\n",
              "    box-shadow: 0px 1px 3px 1px rgba(0, 0, 0, 0.15);\n",
              "    filter: drop-shadow(0px 1px 2px rgba(0, 0, 0, 0.3));\n",
              "    fill: #FFFFFF;\n",
              "  }\n",
              "</style>\n",
              "\n",
              "    <script>\n",
              "      async function quickchart(key) {\n",
              "        const containerElement = document.querySelector('#' + key);\n",
              "        const charts = await google.colab.kernel.invokeFunction(\n",
              "            'suggestCharts', [key], {});\n",
              "      }\n",
              "    </script>\n",
              "\n",
              "      <script>\n",
              "\n",
              "function displayQuickchartButton(domScope) {\n",
              "  let quickchartButtonEl =\n",
              "    domScope.querySelector('#df-d0d40cfa-6c89-411b-a2d8-1ebc043072ff button.colab-df-quickchart');\n",
              "  quickchartButtonEl.style.display =\n",
              "    google.colab.kernel.accessAllowed ? 'block' : 'none';\n",
              "}\n",
              "\n",
              "        displayQuickchartButton(document);\n",
              "      </script>\n",
              "      <style>\n",
              "    .colab-df-container {\n",
              "      display:flex;\n",
              "      flex-wrap:wrap;\n",
              "      gap: 12px;\n",
              "    }\n",
              "\n",
              "    .colab-df-convert {\n",
              "      background-color: #E8F0FE;\n",
              "      border: none;\n",
              "      border-radius: 50%;\n",
              "      cursor: pointer;\n",
              "      display: none;\n",
              "      fill: #1967D2;\n",
              "      height: 32px;\n",
              "      padding: 0 0 0 0;\n",
              "      width: 32px;\n",
              "    }\n",
              "\n",
              "    .colab-df-convert:hover {\n",
              "      background-color: #E2EBFA;\n",
              "      box-shadow: 0px 1px 2px rgba(60, 64, 67, 0.3), 0px 1px 3px 1px rgba(60, 64, 67, 0.15);\n",
              "      fill: #174EA6;\n",
              "    }\n",
              "\n",
              "    [theme=dark] .colab-df-convert {\n",
              "      background-color: #3B4455;\n",
              "      fill: #D2E3FC;\n",
              "    }\n",
              "\n",
              "    [theme=dark] .colab-df-convert:hover {\n",
              "      background-color: #434B5C;\n",
              "      box-shadow: 0px 1px 3px 1px rgba(0, 0, 0, 0.15);\n",
              "      filter: drop-shadow(0px 1px 2px rgba(0, 0, 0, 0.3));\n",
              "      fill: #FFFFFF;\n",
              "    }\n",
              "  </style>\n",
              "\n",
              "      <script>\n",
              "        const buttonEl =\n",
              "          document.querySelector('#df-df99abb7-e70b-4c3a-9471-fe11976aaf4f button.colab-df-convert');\n",
              "        buttonEl.style.display =\n",
              "          google.colab.kernel.accessAllowed ? 'block' : 'none';\n",
              "\n",
              "        async function convertToInteractive(key) {\n",
              "          const element = document.querySelector('#df-df99abb7-e70b-4c3a-9471-fe11976aaf4f');\n",
              "          const dataTable =\n",
              "            await google.colab.kernel.invokeFunction('convertToInteractive',\n",
              "                                                     [key], {});\n",
              "          if (!dataTable) return;\n",
              "\n",
              "          const docLinkHtml = 'Like what you see? Visit the ' +\n",
              "            '<a target=\"_blank\" href=https://colab.research.google.com/notebooks/data_table.ipynb>data table notebook</a>'\n",
              "            + ' to learn more about interactive tables.';\n",
              "          element.innerHTML = '';\n",
              "          dataTable['output_type'] = 'display_data';\n",
              "          await google.colab.output.renderOutput(dataTable, element);\n",
              "          const docLink = document.createElement('div');\n",
              "          docLink.innerHTML = docLinkHtml;\n",
              "          element.appendChild(docLink);\n",
              "        }\n",
              "      </script>\n",
              "    </div>\n",
              "  </div>\n"
            ]
          },
          "metadata": {},
          "execution_count": 32
        }
      ]
    }
  ]
}